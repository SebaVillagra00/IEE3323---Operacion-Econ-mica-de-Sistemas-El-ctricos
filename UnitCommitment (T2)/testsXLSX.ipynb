{
 "cells": [
  {
   "cell_type": "markdown",
   "metadata": {},
   "source": [
    "# Tarea 2: Unit Commitment\n",
    "## Pruebas"
   ]
  },
  {
   "cell_type": "code",
   "execution_count": 1,
   "metadata": {},
   "outputs": [],
   "source": [
    "using DataFrames, XLSX\n",
    "using JuMP , HiGHS      # https://jump.dev/JuMP.jl/stable/manual/models/ \n",
    "using Gurobi"
   ]
  },
  {
   "cell_type": "markdown",
   "metadata": {},
   "source": [
    "Leer archivo excel"
   ]
  },
  {
   "cell_type": "code",
   "execution_count": 2,
   "metadata": {},
   "outputs": [
    {
     "data": {
      "text/plain": [
       "XLSXFile(\"Case014.XLSX\") containing 5 Worksheets\n",
       "            sheetname size          range        \n",
       "-------------------------------------------------\n",
       "                Buses 16x5          A1:E16       \n",
       "               Demand 19x51         A1:AY19      \n",
       "           Generators 11x20         A1:T11       \n",
       "                Lines 22x7          A1:G22       \n",
       "           Renewables 30x25         A1:Y30       \n"
      ]
     },
     "metadata": {},
     "output_type": "display_data"
    }
   ],
   "source": [
    "xf = XLSX.readxlsx(\"Case014.XLSX\")"
   ]
  },
  {
   "cell_type": "markdown",
   "metadata": {},
   "source": [
    "Nombres de cada hoja"
   ]
  },
  {
   "cell_type": "code",
   "execution_count": 39,
   "metadata": {},
   "outputs": [
    {
     "data": {
      "text/plain": [
       "5-element Vector{String}:\n",
       " \"Buses\"\n",
       " \"Demand\"\n",
       " \"Generators\"\n",
       " \"Lines\"\n",
       " \"Renewables\""
      ]
     },
     "metadata": {},
     "output_type": "display_data"
    }
   ],
   "source": [
    "XLSX.sheetnames(xf)[1:5]"
   ]
  },
  {
   "cell_type": "code",
   "execution_count": 40,
   "metadata": {},
   "outputs": [
    {
     "data": {
      "text/plain": [
       "\"Demand\""
      ]
     },
     "metadata": {},
     "output_type": "display_data"
    }
   ],
   "source": [
    "XLSX.sheetnames(xf)[2]"
   ]
  },
  {
   "cell_type": "code",
   "execution_count": 41,
   "metadata": {},
   "outputs": [
    {
     "data": {
      "text/plain": [
       "5"
      ]
     },
     "metadata": {},
     "output_type": "display_data"
    }
   ],
   "source": [
    "length(XLSX.sheetnames(xf))"
   ]
  },
  {
   "cell_type": "markdown",
   "metadata": {},
   "source": [
    "Guardar hojas en lugares distintos"
   ]
  },
  {
   "cell_type": "code",
   "execution_count": 3,
   "metadata": {},
   "outputs": [
    {
     "data": {
      "text/plain": [
       "30×25 XLSX.Worksheet: [\"Renewables\"](A1:Y30) "
      ]
     },
     "metadata": {},
     "output_type": "display_data"
    }
   ],
   "source": [
    "buses = xf[\"Buses\"]\n",
    "demanda = xf[\"Demand\"]\n",
    "generadores = xf[\"Generators\"]\n",
    "lineas = xf[\"Lines\"]\n",
    "renovables = xf[\"Renewables\"] "
   ]
  },
  {
   "cell_type": "markdown",
   "metadata": {},
   "source": [
    "Acceder a datos"
   ]
  },
  {
   "cell_type": "code",
   "execution_count": 27,
   "metadata": {},
   "outputs": [
    {
     "name": "stdout",
     "output_type": "stream",
     "text": [
      "31.167028084846212\n",
      "31.167028084846212\n"
     ]
    }
   ],
   "source": [
    "println(renovables[\"B3\"])   # B3\n",
    "println(renovables[3,2])    # fila3 , columna2(B)"
   ]
  },
  {
   "cell_type": "code",
   "execution_count": 28,
   "metadata": {},
   "outputs": [
    {
     "data": {
      "text/plain": [
       "3×4 Matrix{Any}:\n",
       " \"Gen/Hour\"   1       2        3\n",
       " \"Wind2\"     31.167  29.4256  27.6723\n",
       " \"Solar8\"     0.0     0.0      0.0"
      ]
     },
     "metadata": {},
     "output_type": "display_data"
    }
   ],
   "source": [
    "renovables[\"A2:D4\"]"
   ]
  },
  {
   "cell_type": "code",
   "execution_count": 29,
   "metadata": {},
   "outputs": [
    {
     "ename": "ArgumentError",
     "evalue": "ArgumentError: `DataFrame` constructor from a `Matrix` requires passing :auto as a second argument to automatically generate column names: `DataFrame(matrix, :auto)`",
     "output_type": "error",
     "traceback": [
      "ArgumentError: `DataFrame` constructor from a `Matrix` requires passing :auto as a second argument to automatically generate column names: `DataFrame(matrix, :auto)`\n",
      "\n",
      "Stacktrace:\n",
      " [1] DataFrame(matrix::Matrix{Any})\n",
      "   @ DataFrames C:\\Users\\sevil\\.julia\\packages\\DataFrames\\58MUJ\\src\\dataframe\\dataframe.jl:400\n",
      " [2] top-level scope\n",
      "   @ c:\\Users\\sevil\\Desktop\\PUC-Local\\IEE3323---Operacion-Econ-mica-de-Sistemas-El-ctricos\\UnitCommitment (T2)\\testsXLSX.ipynb:1"
     ]
    }
   ],
   "source": [
    "df3 = DataFrame(renovables[\"A2:D4\"])"
   ]
  },
  {
   "cell_type": "markdown",
   "metadata": {},
   "source": [
    "Funcion de detencion (en \"END\")"
   ]
  },
  {
   "cell_type": "code",
   "execution_count": 4,
   "metadata": {},
   "outputs": [
    {
     "data": {
      "text/plain": [
       "stop_condition (generic function with 1 method)"
      ]
     },
     "metadata": {},
     "output_type": "display_data"
    }
   ],
   "source": [
    "# Definir la función de parada\n",
    "function stop_condition(row)\n",
    "    return isempty(row[1]) || row[1] == \"END\"\n",
    "end"
   ]
  },
  {
   "cell_type": "markdown",
   "metadata": {},
   "source": [
    "### Leer tablas de hojas de datos"
   ]
  },
  {
   "cell_type": "markdown",
   "metadata": {},
   "source": [
    "Buses"
   ]
  },
  {
   "cell_type": "code",
   "execution_count": 5,
   "metadata": {},
   "outputs": [
    {
     "data": {
      "text/html": [
       "<div><div style = \"float: left;\"><span>14×2 DataFrame</span></div><div style = \"clear: both;\"></div></div><div class = \"data-frame\" style = \"overflow-x: scroll;\"><table class = \"data-frame\" style = \"margin-bottom: 6px;\"><thead><tr class = \"header\"><th class = \"rowNumber\" style = \"font-weight: bold; text-align: right;\">Row</th><th style = \"text-align: left;\">Bus</th><th style = \"text-align: left;\">Vmax [pu]</th></tr><tr class = \"subheader headerLastRow\"><th class = \"rowNumber\" style = \"font-weight: bold; text-align: right;\"></th><th title = \"Any\" style = \"text-align: left;\">Any</th><th title = \"Any\" style = \"text-align: left;\">Any</th></tr></thead><tbody><tr><td class = \"rowNumber\" style = \"font-weight: bold; text-align: right;\">1</td><td style = \"text-align: left;\">1</td><td style = \"text-align: left;\">1.06</td></tr><tr><td class = \"rowNumber\" style = \"font-weight: bold; text-align: right;\">2</td><td style = \"text-align: left;\">2</td><td style = \"text-align: left;\">1.06</td></tr><tr><td class = \"rowNumber\" style = \"font-weight: bold; text-align: right;\">3</td><td style = \"text-align: left;\">3</td><td style = \"text-align: left;\">1.06</td></tr><tr><td class = \"rowNumber\" style = \"font-weight: bold; text-align: right;\">4</td><td style = \"text-align: left;\">4</td><td style = \"text-align: left;\">1.06</td></tr><tr><td class = \"rowNumber\" style = \"font-weight: bold; text-align: right;\">5</td><td style = \"text-align: left;\">5</td><td style = \"text-align: left;\">1.06</td></tr><tr><td class = \"rowNumber\" style = \"font-weight: bold; text-align: right;\">6</td><td style = \"text-align: left;\">6</td><td style = \"text-align: left;\">1.06</td></tr><tr><td class = \"rowNumber\" style = \"font-weight: bold; text-align: right;\">7</td><td style = \"text-align: left;\">7</td><td style = \"text-align: left;\">1.06</td></tr><tr><td class = \"rowNumber\" style = \"font-weight: bold; text-align: right;\">8</td><td style = \"text-align: left;\">8</td><td style = \"text-align: left;\">1.06</td></tr><tr><td class = \"rowNumber\" style = \"font-weight: bold; text-align: right;\">9</td><td style = \"text-align: left;\">9</td><td style = \"text-align: left;\">1.06</td></tr><tr><td class = \"rowNumber\" style = \"font-weight: bold; text-align: right;\">10</td><td style = \"text-align: left;\">10</td><td style = \"text-align: left;\">1.06</td></tr><tr><td class = \"rowNumber\" style = \"font-weight: bold; text-align: right;\">11</td><td style = \"text-align: left;\">11</td><td style = \"text-align: left;\">1.06</td></tr><tr><td class = \"rowNumber\" style = \"font-weight: bold; text-align: right;\">12</td><td style = \"text-align: left;\">12</td><td style = \"text-align: left;\">1.06</td></tr><tr><td class = \"rowNumber\" style = \"font-weight: bold; text-align: right;\">13</td><td style = \"text-align: left;\">13</td><td style = \"text-align: left;\">1.06</td></tr><tr><td class = \"rowNumber\" style = \"font-weight: bold; text-align: right;\">14</td><td style = \"text-align: left;\">14</td><td style = \"text-align: left;\">1.06</td></tr></tbody></table></div>"
      ],
      "text/latex": [
       "\\begin{tabular}{r|cc}\n",
       "\t& Bus & Vmax [pu]\\\\\n",
       "\t\\hline\n",
       "\t& Any & Any\\\\\n",
       "\t\\hline\n",
       "\t1 & 1 & 1.06 \\\\\n",
       "\t2 & 2 & 1.06 \\\\\n",
       "\t3 & 3 & 1.06 \\\\\n",
       "\t4 & 4 & 1.06 \\\\\n",
       "\t5 & 5 & 1.06 \\\\\n",
       "\t6 & 6 & 1.06 \\\\\n",
       "\t7 & 7 & 1.06 \\\\\n",
       "\t8 & 8 & 1.06 \\\\\n",
       "\t9 & 9 & 1.06 \\\\\n",
       "\t10 & 10 & 1.06 \\\\\n",
       "\t11 & 11 & 1.06 \\\\\n",
       "\t12 & 12 & 1.06 \\\\\n",
       "\t13 & 13 & 1.06 \\\\\n",
       "\t14 & 14 & 1.06 \\\\\n",
       "\\end{tabular}\n"
      ],
      "text/plain": [
       "\u001b[1m14×2 DataFrame\u001b[0m\n",
       "\u001b[1m Row \u001b[0m│\u001b[1m Bus \u001b[0m\u001b[1m Vmax [pu] \u001b[0m\n",
       "     │\u001b[90m Any \u001b[0m\u001b[90m Any       \u001b[0m\n",
       "─────┼────────────────\n",
       "   1 │ 1    1.06\n",
       "   2 │ 2    1.06\n",
       "   3 │ 3    1.06\n",
       "   4 │ 4    1.06\n",
       "   5 │ 5    1.06\n",
       "   6 │ 6    1.06\n",
       "   7 │ 7    1.06\n",
       "   8 │ 8    1.06\n",
       "   9 │ 9    1.06\n",
       "  10 │ 10   1.06\n",
       "  11 │ 11   1.06\n",
       "  12 │ 12   1.06\n",
       "  13 │ 13   1.06\n",
       "  14 │ 14   1.06"
      ]
     },
     "metadata": {},
     "output_type": "display_data"
    }
   ],
   "source": [
    "df1 = DataFrame(XLSX.gettable(buses,\"A:B\",stop_in_row_function=stop_condition))"
   ]
  },
  {
   "cell_type": "markdown",
   "metadata": {},
   "source": [
    "Caso de demanda reactiva (Q)"
   ]
  },
  {
   "cell_type": "code",
   "execution_count": 6,
   "metadata": {},
   "outputs": [
    {
     "data": {
      "text/html": [
       "<div><div style = \"float: left;\"><span>14×25 DataFrame</span></div><div style = \"clear: both;\"></div></div><div class = \"data-frame\" style = \"overflow-x: scroll;\"><table class = \"data-frame\" style = \"margin-bottom: 6px;\"><thead><tr class = \"header\"><th class = \"rowNumber\" style = \"font-weight: bold; text-align: right;\">Row</th><th style = \"text-align: left;\">Bus/Hour</th><th style = \"text-align: left;\">1</th><th style = \"text-align: left;\">2</th><th style = \"text-align: left;\">3</th><th style = \"text-align: left;\">4</th><th style = \"text-align: left;\">5</th><th style = \"text-align: left;\">6</th><th style = \"text-align: left;\">7</th><th style = \"text-align: left;\">8</th><th style = \"text-align: left;\">9</th><th style = \"text-align: left;\">10</th><th style = \"text-align: left;\">11</th><th style = \"text-align: left;\">12</th><th style = \"text-align: left;\">13</th><th style = \"text-align: left;\">14</th><th style = \"text-align: left;\">15</th><th style = \"text-align: left;\">16</th><th style = \"text-align: left;\">17</th><th style = \"text-align: left;\">18</th><th style = \"text-align: left;\">19</th><th style = \"text-align: left;\">20</th><th style = \"text-align: left;\">21</th><th style = \"text-align: left;\">22</th><th style = \"text-align: left;\">23</th><th style = \"text-align: left;\">24</th></tr><tr class = \"subheader headerLastRow\"><th class = \"rowNumber\" style = \"font-weight: bold; text-align: right;\"></th><th title = \"Any\" style = \"text-align: left;\">Any</th><th title = \"Any\" style = \"text-align: left;\">Any</th><th title = \"Any\" style = \"text-align: left;\">Any</th><th title = \"Any\" style = \"text-align: left;\">Any</th><th title = \"Any\" style = \"text-align: left;\">Any</th><th title = \"Any\" style = \"text-align: left;\">Any</th><th title = \"Any\" style = \"text-align: left;\">Any</th><th title = \"Any\" style = \"text-align: left;\">Any</th><th title = \"Any\" style = \"text-align: left;\">Any</th><th title = \"Any\" style = \"text-align: left;\">Any</th><th title = \"Any\" style = \"text-align: left;\">Any</th><th title = \"Any\" style = \"text-align: left;\">Any</th><th title = \"Any\" style = \"text-align: left;\">Any</th><th title = \"Any\" style = \"text-align: left;\">Any</th><th title = \"Any\" style = \"text-align: left;\">Any</th><th title = \"Any\" style = \"text-align: left;\">Any</th><th title = \"Any\" style = \"text-align: left;\">Any</th><th title = \"Any\" style = \"text-align: left;\">Any</th><th title = \"Any\" style = \"text-align: left;\">Any</th><th title = \"Any\" style = \"text-align: left;\">Any</th><th title = \"Any\" style = \"text-align: left;\">Any</th><th title = \"Any\" style = \"text-align: left;\">Any</th><th title = \"Any\" style = \"text-align: left;\">Any</th><th title = \"Any\" style = \"text-align: left;\">Any</th><th title = \"Any\" style = \"text-align: left;\">Any</th></tr></thead><tbody><tr><td class = \"rowNumber\" style = \"font-weight: bold; text-align: right;\">1</td><td style = \"text-align: left;\">Bus1</td><td style = \"text-align: left;\">0.0</td><td style = \"text-align: left;\">0.0</td><td style = \"text-align: left;\">0.0</td><td style = \"text-align: left;\">0.0</td><td style = \"text-align: left;\">0.0</td><td style = \"text-align: left;\">0.0</td><td style = \"text-align: left;\">0.0</td><td style = \"text-align: left;\">0.0</td><td style = \"text-align: left;\">0.0</td><td style = \"text-align: left;\">0.0</td><td style = \"text-align: left;\">0.0</td><td style = \"text-align: left;\">0.0</td><td style = \"text-align: left;\">0.0</td><td style = \"text-align: left;\">0.0</td><td style = \"text-align: left;\">0.0</td><td style = \"text-align: left;\">0.0</td><td style = \"text-align: left;\">0.0</td><td style = \"text-align: left;\">0.0</td><td style = \"text-align: left;\">0.0</td><td style = \"text-align: left;\">0.0</td><td style = \"text-align: left;\">0.0</td><td style = \"text-align: left;\">0.0</td><td style = \"text-align: left;\">0.0</td><td style = \"text-align: left;\">0.0</td></tr><tr><td class = \"rowNumber\" style = \"font-weight: bold; text-align: right;\">2</td><td style = \"text-align: left;\">Bus2</td><td style = \"text-align: left;\">12.7</td><td style = \"text-align: left;\">10.3561</td><td style = \"text-align: left;\">9.10085</td><td style = \"text-align: left;\">8.15938</td><td style = \"text-align: left;\">7.84556</td><td style = \"text-align: left;\">9.41467</td><td style = \"text-align: left;\">10.9838</td><td style = \"text-align: left;\">12.2391</td><td style = \"text-align: left;\">12.8667</td><td style = \"text-align: left;\">13.8082</td><td style = \"text-align: left;\">13.9651</td><td style = \"text-align: left;\">13.1805</td><td style = \"text-align: left;\">12.5529</td><td style = \"text-align: left;\">11.9253</td><td style = \"text-align: left;\">13.8082</td><td style = \"text-align: left;\">14.122</td><td style = \"text-align: left;\">13.3375</td><td style = \"text-align: left;\">13.9651</td><td style = \"text-align: left;\">14.7497</td><td style = \"text-align: left;\">15.3773</td><td style = \"text-align: left;\">15.6911</td><td style = \"text-align: left;\">14.122</td><td style = \"text-align: left;\">13.6513</td><td style = \"text-align: left;\">12.8667</td></tr><tr><td class = \"rowNumber\" style = \"font-weight: bold; text-align: right;\">3</td><td style = \"text-align: left;\">Bus3</td><td style = \"text-align: left;\">19.0</td><td style = \"text-align: left;\">15.4934</td><td style = \"text-align: left;\">13.6154</td><td style = \"text-align: left;\">12.2069</td><td style = \"text-align: left;\">11.7375</td><td style = \"text-align: left;\">14.0849</td><td style = \"text-align: left;\">16.4324</td><td style = \"text-align: left;\">18.3104</td><td style = \"text-align: left;\">19.2494</td><td style = \"text-align: left;\">20.6579</td><td style = \"text-align: left;\">20.8927</td><td style = \"text-align: left;\">19.7189</td><td style = \"text-align: left;\">18.7799</td><td style = \"text-align: left;\">17.8409</td><td style = \"text-align: left;\">20.6579</td><td style = \"text-align: left;\">21.1274</td><td style = \"text-align: left;\">19.9537</td><td style = \"text-align: left;\">20.8927</td><td style = \"text-align: left;\">22.0664</td><td style = \"text-align: left;\">23.0054</td><td style = \"text-align: left;\">23.4749</td><td style = \"text-align: left;\">21.1274</td><td style = \"text-align: left;\">20.4232</td><td style = \"text-align: left;\">19.2494</td></tr><tr><td class = \"rowNumber\" style = \"font-weight: bold; text-align: right;\">4</td><td style = \"text-align: left;\">Bus4</td><td style = \"text-align: left;\">-3.9</td><td style = \"text-align: left;\">-3.18023</td><td style = \"text-align: left;\">-2.79475</td><td style = \"text-align: left;\">-2.50564</td><td style = \"text-align: left;\">-2.40927</td><td style = \"text-align: left;\">-2.89112</td><td style = \"text-align: left;\">-3.37297</td><td style = \"text-align: left;\">-3.75846</td><td style = \"text-align: left;\">-3.9512</td><td style = \"text-align: left;\">-4.24031</td><td style = \"text-align: left;\">-4.28849</td><td style = \"text-align: left;\">-4.04757</td><td style = \"text-align: left;\">-3.85483</td><td style = \"text-align: left;\">-3.66208</td><td style = \"text-align: left;\">-4.24031</td><td style = \"text-align: left;\">-4.33668</td><td style = \"text-align: left;\">-4.09575</td><td style = \"text-align: left;\">-4.28849</td><td style = \"text-align: left;\">-4.52942</td><td style = \"text-align: left;\">-4.72216</td><td style = \"text-align: left;\">-4.81853</td><td style = \"text-align: left;\">-4.33668</td><td style = \"text-align: left;\">-4.19212</td><td style = \"text-align: left;\">-3.9512</td></tr><tr><td class = \"rowNumber\" style = \"font-weight: bold; text-align: right;\">5</td><td style = \"text-align: left;\">Bus5</td><td style = \"text-align: left;\">1.6</td><td style = \"text-align: left;\">1.30471</td><td style = \"text-align: left;\">1.14656</td><td style = \"text-align: left;\">1.02795</td><td style = \"text-align: left;\">0.988417</td><td style = \"text-align: left;\">1.1861</td><td style = \"text-align: left;\">1.38378</td><td style = \"text-align: left;\">1.54193</td><td style = \"text-align: left;\">1.621</td><td style = \"text-align: left;\">1.73961</td><td style = \"text-align: left;\">1.75938</td><td style = \"text-align: left;\">1.66054</td><td style = \"text-align: left;\">1.58147</td><td style = \"text-align: left;\">1.50239</td><td style = \"text-align: left;\">1.73961</td><td style = \"text-align: left;\">1.77915</td><td style = \"text-align: left;\">1.68031</td><td style = \"text-align: left;\">1.75938</td><td style = \"text-align: left;\">1.85822</td><td style = \"text-align: left;\">1.9373</td><td style = \"text-align: left;\">1.97683</td><td style = \"text-align: left;\">1.77915</td><td style = \"text-align: left;\">1.71985</td><td style = \"text-align: left;\">1.621</td></tr><tr><td class = \"rowNumber\" style = \"font-weight: bold; text-align: right;\">6</td><td style = \"text-align: left;\">Bus6</td><td style = \"text-align: left;\">7.5</td><td style = \"text-align: left;\">6.11583</td><td style = \"text-align: left;\">5.37452</td><td style = \"text-align: left;\">4.81853</td><td style = \"text-align: left;\">4.6332</td><td style = \"text-align: left;\">5.55985</td><td style = \"text-align: left;\">6.48649</td><td style = \"text-align: left;\">7.2278</td><td style = \"text-align: left;\">7.59846</td><td style = \"text-align: left;\">8.15444</td><td style = \"text-align: left;\">8.2471</td><td style = \"text-align: left;\">7.78378</td><td style = \"text-align: left;\">7.41313</td><td style = \"text-align: left;\">7.04247</td><td style = \"text-align: left;\">8.15444</td><td style = \"text-align: left;\">8.33977</td><td style = \"text-align: left;\">7.87645</td><td style = \"text-align: left;\">8.2471</td><td style = \"text-align: left;\">8.71042</td><td style = \"text-align: left;\">9.08108</td><td style = \"text-align: left;\">9.26641</td><td style = \"text-align: left;\">8.33977</td><td style = \"text-align: left;\">8.06178</td><td style = \"text-align: left;\">7.59846</td></tr><tr><td class = \"rowNumber\" style = \"font-weight: bold; text-align: right;\">7</td><td style = \"text-align: left;\">Bus7</td><td style = \"text-align: left;\">0.0</td><td style = \"text-align: left;\">0.0</td><td style = \"text-align: left;\">0.0</td><td style = \"text-align: left;\">0.0</td><td style = \"text-align: left;\">0.0</td><td style = \"text-align: left;\">0.0</td><td style = \"text-align: left;\">0.0</td><td style = \"text-align: left;\">0.0</td><td style = \"text-align: left;\">0.0</td><td style = \"text-align: left;\">0.0</td><td style = \"text-align: left;\">0.0</td><td style = \"text-align: left;\">0.0</td><td style = \"text-align: left;\">0.0</td><td style = \"text-align: left;\">0.0</td><td style = \"text-align: left;\">0.0</td><td style = \"text-align: left;\">0.0</td><td style = \"text-align: left;\">0.0</td><td style = \"text-align: left;\">0.0</td><td style = \"text-align: left;\">0.0</td><td style = \"text-align: left;\">0.0</td><td style = \"text-align: left;\">0.0</td><td style = \"text-align: left;\">0.0</td><td style = \"text-align: left;\">0.0</td><td style = \"text-align: left;\">0.0</td></tr><tr><td class = \"rowNumber\" style = \"font-weight: bold; text-align: right;\">8</td><td style = \"text-align: left;\">Bus8</td><td style = \"text-align: left;\">0.0</td><td style = \"text-align: left;\">0.0</td><td style = \"text-align: left;\">0.0</td><td style = \"text-align: left;\">0.0</td><td style = \"text-align: left;\">0.0</td><td style = \"text-align: left;\">0.0</td><td style = \"text-align: left;\">0.0</td><td style = \"text-align: left;\">0.0</td><td style = \"text-align: left;\">0.0</td><td style = \"text-align: left;\">0.0</td><td style = \"text-align: left;\">0.0</td><td style = \"text-align: left;\">0.0</td><td style = \"text-align: left;\">0.0</td><td style = \"text-align: left;\">0.0</td><td style = \"text-align: left;\">0.0</td><td style = \"text-align: left;\">0.0</td><td style = \"text-align: left;\">0.0</td><td style = \"text-align: left;\">0.0</td><td style = \"text-align: left;\">0.0</td><td style = \"text-align: left;\">0.0</td><td style = \"text-align: left;\">0.0</td><td style = \"text-align: left;\">0.0</td><td style = \"text-align: left;\">0.0</td><td style = \"text-align: left;\">0.0</td></tr><tr><td class = \"rowNumber\" style = \"font-weight: bold; text-align: right;\">9</td><td style = \"text-align: left;\">Bus9</td><td style = \"text-align: left;\">16.6</td><td style = \"text-align: left;\">13.5364</td><td style = \"text-align: left;\">11.8956</td><td style = \"text-align: left;\">10.665</td><td style = \"text-align: left;\">10.2548</td><td style = \"text-align: left;\">12.3058</td><td style = \"text-align: left;\">14.3568</td><td style = \"text-align: left;\">15.9975</td><td style = \"text-align: left;\">16.8179</td><td style = \"text-align: left;\">18.0485</td><td style = \"text-align: left;\">18.2536</td><td style = \"text-align: left;\">17.2281</td><td style = \"text-align: left;\">16.4077</td><td style = \"text-align: left;\">15.5873</td><td style = \"text-align: left;\">18.0485</td><td style = \"text-align: left;\">18.4587</td><td style = \"text-align: left;\">17.4332</td><td style = \"text-align: left;\">18.2536</td><td style = \"text-align: left;\">19.2791</td><td style = \"text-align: left;\">20.0995</td><td style = \"text-align: left;\">20.5097</td><td style = \"text-align: left;\">18.4587</td><td style = \"text-align: left;\">17.8434</td><td style = \"text-align: left;\">16.8179</td></tr><tr><td class = \"rowNumber\" style = \"font-weight: bold; text-align: right;\">10</td><td style = \"text-align: left;\">Bus10</td><td style = \"text-align: left;\">5.8</td><td style = \"text-align: left;\">4.72958</td><td style = \"text-align: left;\">4.15629</td><td style = \"text-align: left;\">3.72633</td><td style = \"text-align: left;\">3.58301</td><td style = \"text-align: left;\">4.29961</td><td style = \"text-align: left;\">5.01622</td><td style = \"text-align: left;\">5.5895</td><td style = \"text-align: left;\">5.87614</td><td style = \"text-align: left;\">6.3061</td><td style = \"text-align: left;\">6.37776</td><td style = \"text-align: left;\">6.01946</td><td style = \"text-align: left;\">5.73282</td><td style = \"text-align: left;\">5.44618</td><td style = \"text-align: left;\">6.3061</td><td style = \"text-align: left;\">6.44942</td><td style = \"text-align: left;\">6.09112</td><td style = \"text-align: left;\">6.37776</td><td style = \"text-align: left;\">6.73606</td><td style = \"text-align: left;\">7.0227</td><td style = \"text-align: left;\">7.16602</td><td style = \"text-align: left;\">6.44942</td><td style = \"text-align: left;\">6.23444</td><td style = \"text-align: left;\">5.87614</td></tr><tr><td class = \"rowNumber\" style = \"font-weight: bold; text-align: right;\">11</td><td style = \"text-align: left;\">Bus11</td><td style = \"text-align: left;\">1.8</td><td style = \"text-align: left;\">1.4678</td><td style = \"text-align: left;\">1.28988</td><td style = \"text-align: left;\">1.15645</td><td style = \"text-align: left;\">1.11197</td><td style = \"text-align: left;\">1.33436</td><td style = \"text-align: left;\">1.55676</td><td style = \"text-align: left;\">1.73467</td><td style = \"text-align: left;\">1.82363</td><td style = \"text-align: left;\">1.95707</td><td style = \"text-align: left;\">1.97931</td><td style = \"text-align: left;\">1.86811</td><td style = \"text-align: left;\">1.77915</td><td style = \"text-align: left;\">1.69019</td><td style = \"text-align: left;\">1.95707</td><td style = \"text-align: left;\">2.00154</td><td style = \"text-align: left;\">1.89035</td><td style = \"text-align: left;\">1.97931</td><td style = \"text-align: left;\">2.0905</td><td style = \"text-align: left;\">2.17946</td><td style = \"text-align: left;\">2.22394</td><td style = \"text-align: left;\">2.00154</td><td style = \"text-align: left;\">1.93483</td><td style = \"text-align: left;\">1.82363</td></tr><tr><td class = \"rowNumber\" style = \"font-weight: bold; text-align: right;\">12</td><td style = \"text-align: left;\">Bus12</td><td style = \"text-align: left;\">1.6</td><td style = \"text-align: left;\">1.30471</td><td style = \"text-align: left;\">1.14656</td><td style = \"text-align: left;\">1.02795</td><td style = \"text-align: left;\">0.988417</td><td style = \"text-align: left;\">1.1861</td><td style = \"text-align: left;\">1.38378</td><td style = \"text-align: left;\">1.54193</td><td style = \"text-align: left;\">1.621</td><td style = \"text-align: left;\">1.73961</td><td style = \"text-align: left;\">1.75938</td><td style = \"text-align: left;\">1.66054</td><td style = \"text-align: left;\">1.58147</td><td style = \"text-align: left;\">1.50239</td><td style = \"text-align: left;\">1.73961</td><td style = \"text-align: left;\">1.77915</td><td style = \"text-align: left;\">1.68031</td><td style = \"text-align: left;\">1.75938</td><td style = \"text-align: left;\">1.85822</td><td style = \"text-align: left;\">1.9373</td><td style = \"text-align: left;\">1.97683</td><td style = \"text-align: left;\">1.77915</td><td style = \"text-align: left;\">1.71985</td><td style = \"text-align: left;\">1.621</td></tr><tr><td class = \"rowNumber\" style = \"font-weight: bold; text-align: right;\">13</td><td style = \"text-align: left;\">Bus13</td><td style = \"text-align: left;\">5.8</td><td style = \"text-align: left;\">4.72958</td><td style = \"text-align: left;\">4.15629</td><td style = \"text-align: left;\">3.72633</td><td style = \"text-align: left;\">3.58301</td><td style = \"text-align: left;\">4.29961</td><td style = \"text-align: left;\">5.01622</td><td style = \"text-align: left;\">5.5895</td><td style = \"text-align: left;\">5.87614</td><td style = \"text-align: left;\">6.3061</td><td style = \"text-align: left;\">6.37776</td><td style = \"text-align: left;\">6.01946</td><td style = \"text-align: left;\">5.73282</td><td style = \"text-align: left;\">5.44618</td><td style = \"text-align: left;\">6.3061</td><td style = \"text-align: left;\">6.44942</td><td style = \"text-align: left;\">6.09112</td><td style = \"text-align: left;\">6.37776</td><td style = \"text-align: left;\">6.73606</td><td style = \"text-align: left;\">7.0227</td><td style = \"text-align: left;\">7.16602</td><td style = \"text-align: left;\">6.44942</td><td style = \"text-align: left;\">6.23444</td><td style = \"text-align: left;\">5.87614</td></tr><tr><td class = \"rowNumber\" style = \"font-weight: bold; text-align: right;\">14</td><td style = \"text-align: left;\">Bus14</td><td style = \"text-align: left;\">5.0</td><td style = \"text-align: left;\">4.07722</td><td style = \"text-align: left;\">3.58301</td><td style = \"text-align: left;\">3.21236</td><td style = \"text-align: left;\">3.0888</td><td style = \"text-align: left;\">3.70656</td><td style = \"text-align: left;\">4.32432</td><td style = \"text-align: left;\">4.81853</td><td style = \"text-align: left;\">5.06564</td><td style = \"text-align: left;\">5.43629</td><td style = \"text-align: left;\">5.49807</td><td style = \"text-align: left;\">5.18919</td><td style = \"text-align: left;\">4.94208</td><td style = \"text-align: left;\">4.69498</td><td style = \"text-align: left;\">5.43629</td><td style = \"text-align: left;\">5.55985</td><td style = \"text-align: left;\">5.25097</td><td style = \"text-align: left;\">5.49807</td><td style = \"text-align: left;\">5.80695</td><td style = \"text-align: left;\">6.05405</td><td style = \"text-align: left;\">6.17761</td><td style = \"text-align: left;\">5.55985</td><td style = \"text-align: left;\">5.37452</td><td style = \"text-align: left;\">5.06564</td></tr></tbody></table></div>"
      ],
      "text/latex": [
       "\\begin{tabular}{r|cccccccccc}\n",
       "\t& Bus/Hour & 1 & 2 & 3 & 4 & 5 & 6 & 7 & 8 & \\\\\n",
       "\t\\hline\n",
       "\t& Any & Any & Any & Any & Any & Any & Any & Any & Any & \\\\\n",
       "\t\\hline\n",
       "\t1 & Bus1 & 0.0 & 0.0 & 0.0 & 0.0 & 0.0 & 0.0 & 0.0 & 0.0 & $\\dots$ \\\\\n",
       "\t2 & Bus2 & 12.7 & 10.3561 & 9.10085 & 8.15938 & 7.84556 & 9.41467 & 10.9838 & 12.2391 & $\\dots$ \\\\\n",
       "\t3 & Bus3 & 19.0 & 15.4934 & 13.6154 & 12.2069 & 11.7375 & 14.0849 & 16.4324 & 18.3104 & $\\dots$ \\\\\n",
       "\t4 & Bus4 & -3.9 & -3.18023 & -2.79475 & -2.50564 & -2.40927 & -2.89112 & -3.37297 & -3.75846 & $\\dots$ \\\\\n",
       "\t5 & Bus5 & 1.6 & 1.30471 & 1.14656 & 1.02795 & 0.988417 & 1.1861 & 1.38378 & 1.54193 & $\\dots$ \\\\\n",
       "\t6 & Bus6 & 7.5 & 6.11583 & 5.37452 & 4.81853 & 4.6332 & 5.55985 & 6.48649 & 7.2278 & $\\dots$ \\\\\n",
       "\t7 & Bus7 & 0.0 & 0.0 & 0.0 & 0.0 & 0.0 & 0.0 & 0.0 & 0.0 & $\\dots$ \\\\\n",
       "\t8 & Bus8 & 0.0 & 0.0 & 0.0 & 0.0 & 0.0 & 0.0 & 0.0 & 0.0 & $\\dots$ \\\\\n",
       "\t9 & Bus9 & 16.6 & 13.5364 & 11.8956 & 10.665 & 10.2548 & 12.3058 & 14.3568 & 15.9975 & $\\dots$ \\\\\n",
       "\t10 & Bus10 & 5.8 & 4.72958 & 4.15629 & 3.72633 & 3.58301 & 4.29961 & 5.01622 & 5.5895 & $\\dots$ \\\\\n",
       "\t11 & Bus11 & 1.8 & 1.4678 & 1.28988 & 1.15645 & 1.11197 & 1.33436 & 1.55676 & 1.73467 & $\\dots$ \\\\\n",
       "\t12 & Bus12 & 1.6 & 1.30471 & 1.14656 & 1.02795 & 0.988417 & 1.1861 & 1.38378 & 1.54193 & $\\dots$ \\\\\n",
       "\t13 & Bus13 & 5.8 & 4.72958 & 4.15629 & 3.72633 & 3.58301 & 4.29961 & 5.01622 & 5.5895 & $\\dots$ \\\\\n",
       "\t14 & Bus14 & 5.0 & 4.07722 & 3.58301 & 3.21236 & 3.0888 & 3.70656 & 4.32432 & 4.81853 & $\\dots$ \\\\\n",
       "\\end{tabular}\n"
      ],
      "text/plain": [
       "\u001b[1m14×25 DataFrame\u001b[0m\n",
       "\u001b[1m Row \u001b[0m│\u001b[1m Bus/Hour \u001b[0m\u001b[1m 1    \u001b[0m\u001b[1m 2        \u001b[0m\u001b[1m 3        \u001b[0m\u001b[1m 4        \u001b[0m\u001b[1m 5        \u001b[0m\u001b[1m 6        \u001b[0m\u001b[1m 7    \u001b[0m ⋯\n",
       "     │\u001b[90m Any      \u001b[0m\u001b[90m Any  \u001b[0m\u001b[90m Any      \u001b[0m\u001b[90m Any      \u001b[0m\u001b[90m Any      \u001b[0m\u001b[90m Any      \u001b[0m\u001b[90m Any      \u001b[0m\u001b[90m Any  \u001b[0m ⋯\n",
       "─────┼──────────────────────────────────────────────────────────────────────────\n",
       "   1 │ Bus1      0.0   0.0       0.0       0.0       0.0       0.0       0.0   ⋯\n",
       "   2 │ Bus2      12.7  10.3561   9.10085   8.15938   7.84556   9.41467   10.98\n",
       "   3 │ Bus3      19.0  15.4934   13.6154   12.2069   11.7375   14.0849   16.43\n",
       "   4 │ Bus4      -3.9  -3.18023  -2.79475  -2.50564  -2.40927  -2.89112  -3.37\n",
       "   5 │ Bus5      1.6   1.30471   1.14656   1.02795   0.988417  1.1861    1.383 ⋯\n",
       "   6 │ Bus6      7.5   6.11583   5.37452   4.81853   4.6332    5.55985   6.486\n",
       "   7 │ Bus7      0.0   0.0       0.0       0.0       0.0       0.0       0.0\n",
       "   8 │ Bus8      0.0   0.0       0.0       0.0       0.0       0.0       0.0\n",
       "   9 │ Bus9      16.6  13.5364   11.8956   10.665    10.2548   12.3058   14.35 ⋯\n",
       "  10 │ Bus10     5.8   4.72958   4.15629   3.72633   3.58301   4.29961   5.016\n",
       "  11 │ Bus11     1.8   1.4678    1.28988   1.15645   1.11197   1.33436   1.556\n",
       "  12 │ Bus12     1.6   1.30471   1.14656   1.02795   0.988417  1.1861    1.383\n",
       "  13 │ Bus13     5.8   4.72958   4.15629   3.72633   3.58301   4.29961   5.016 ⋯\n",
       "  14 │ Bus14     5.0   4.07722   3.58301   3.21236   3.0888    3.70656   4.324\n",
       "\u001b[36m                                                              18 columns omitted\u001b[0m"
      ]
     },
     "metadata": {},
     "output_type": "display_data"
    }
   ],
   "source": [
    "df2 = DataFrame(XLSX.gettable(demanda,\"AA:AY\",first_row=2,stop_in_row_function=stop_condition))"
   ]
  },
  {
   "cell_type": "code",
   "execution_count": 10,
   "metadata": {},
   "outputs": [
    {
     "data": {
      "text/plain": [
       "(14, 25)"
      ]
     },
     "metadata": {},
     "output_type": "display_data"
    }
   ],
   "source": [
    "size(df2)"
   ]
  },
  {
   "cell_type": "markdown",
   "metadata": {},
   "source": [
    "generadores"
   ]
  },
  {
   "cell_type": "code",
   "execution_count": 9,
   "metadata": {},
   "outputs": [
    {
     "data": {
      "text/html": [
       "<div><div style = \"float: left;\"><span>7×20 DataFrame</span></div><div style = \"clear: both;\"></div></div><div class = \"data-frame\" style = \"overflow-x: scroll;\"><table class = \"data-frame\" style = \"margin-bottom: 6px;\"><thead><tr class = \"header\"><th class = \"rowNumber\" style = \"font-weight: bold; text-align: right;\">Row</th><th style = \"text-align: left;\">Generator</th><th style = \"text-align: left;\">Bus</th><th style = \"text-align: left;\">Pmax [MW]</th><th style = \"text-align: left;\">Pmin [MW]</th><th style = \"text-align: left;\">Qmax [MVAR]</th><th style = \"text-align: left;\">Qmin [MVAR]</th><th style = \"text-align: left;\">Ramp [MW/h]</th><th style = \"text-align: left;\">SRamp [MW]</th><th style = \"text-align: left;\">MinUP</th><th style = \"text-align: left;\">MinDW</th><th style = \"text-align: left;\">InitS</th><th style = \"text-align: left;\">InitP</th><th style = \"text-align: left;\">StartUpCost [$]</th><th style = \"text-align: left;\">FixedCost [$]</th><th style = \"text-align: left;\">VariableCost [$/MWh]</th><th style = \"text-align: left;\">Type</th><th style = \"text-align: left;\">PminFactor</th><th style = \"text-align: left;\">QFactor</th><th style = \"text-align: left;\">RampFactor</th><th style = \"text-align: left;\">StartUpCostFactor</th></tr><tr class = \"subheader headerLastRow\"><th class = \"rowNumber\" style = \"font-weight: bold; text-align: right;\"></th><th title = \"Any\" style = \"text-align: left;\">Any</th><th title = \"Any\" style = \"text-align: left;\">Any</th><th title = \"Any\" style = \"text-align: left;\">Any</th><th title = \"Any\" style = \"text-align: left;\">Any</th><th title = \"Any\" style = \"text-align: left;\">Any</th><th title = \"Any\" style = \"text-align: left;\">Any</th><th title = \"Any\" style = \"text-align: left;\">Any</th><th title = \"Any\" style = \"text-align: left;\">Any</th><th title = \"Any\" style = \"text-align: left;\">Any</th><th title = \"Any\" style = \"text-align: left;\">Any</th><th title = \"Any\" style = \"text-align: left;\">Any</th><th title = \"Any\" style = \"text-align: left;\">Any</th><th title = \"Any\" style = \"text-align: left;\">Any</th><th title = \"Any\" style = \"text-align: left;\">Any</th><th title = \"Any\" style = \"text-align: left;\">Any</th><th title = \"Any\" style = \"text-align: left;\">Any</th><th title = \"Any\" style = \"text-align: left;\">Any</th><th title = \"Any\" style = \"text-align: left;\">Any</th><th title = \"Any\" style = \"text-align: left;\">Any</th><th title = \"Any\" style = \"text-align: left;\">Any</th></tr></thead><tbody><tr><td class = \"rowNumber\" style = \"font-weight: bold; text-align: right;\">1</td><td style = \"text-align: left;\">G1</td><td style = \"text-align: left;\">1</td><td style = \"text-align: left;\">100</td><td style = \"text-align: left;\">40</td><td style = \"text-align: left;\">70</td><td style = \"text-align: left;\">-70</td><td style = \"text-align: left;\">20</td><td style = \"text-align: left;\">40.01</td><td style = \"text-align: left;\">8</td><td style = \"text-align: left;\">8</td><td style = \"text-align: left;\">-8</td><td style = \"text-align: left;\">0</td><td style = \"text-align: left;\">3000</td><td style = \"text-align: left;\">600</td><td style = \"text-align: left;\">20</td><td style = \"text-align: left;\">Coal</td><td style = \"text-align: left;\">0.4</td><td style = \"text-align: left;\">0.7</td><td style = \"text-align: left;\">0.2</td><td style = \"text-align: left;\">30</td></tr><tr><td class = \"rowNumber\" style = \"font-weight: bold; text-align: right;\">2</td><td style = \"text-align: left;\">G2</td><td style = \"text-align: left;\">2</td><td style = \"text-align: left;\">75</td><td style = \"text-align: left;\">7.5</td><td style = \"text-align: left;\">52.5</td><td style = \"text-align: left;\">-52.5</td><td style = \"text-align: left;\">22.5</td><td style = \"text-align: left;\">22.5</td><td style = \"text-align: left;\">4</td><td style = \"text-align: left;\">4</td><td style = \"text-align: left;\">-4</td><td style = \"text-align: left;\">0</td><td style = \"text-align: left;\">2250</td><td style = \"text-align: left;\">450</td><td style = \"text-align: left;\">40</td><td style = \"text-align: left;\">Gas</td><td style = \"text-align: left;\">0.1</td><td style = \"text-align: left;\">0.7</td><td style = \"text-align: left;\">0.3</td><td style = \"text-align: left;\">30</td></tr><tr><td class = \"rowNumber\" style = \"font-weight: bold; text-align: right;\">3</td><td style = \"text-align: left;\">G3</td><td style = \"text-align: left;\">3</td><td style = \"text-align: left;\">75</td><td style = \"text-align: left;\">7.5</td><td style = \"text-align: left;\">52.5</td><td style = \"text-align: left;\">-52.5</td><td style = \"text-align: left;\">22.5</td><td style = \"text-align: left;\">22.5</td><td style = \"text-align: left;\">4</td><td style = \"text-align: left;\">4</td><td style = \"text-align: left;\">-4</td><td style = \"text-align: left;\">0</td><td style = \"text-align: left;\">2250</td><td style = \"text-align: left;\">450</td><td style = \"text-align: left;\">60</td><td style = \"text-align: left;\">Gas</td><td style = \"text-align: left;\">0.1</td><td style = \"text-align: left;\">0.7</td><td style = \"text-align: left;\">0.3</td><td style = \"text-align: left;\">30</td></tr><tr><td class = \"rowNumber\" style = \"font-weight: bold; text-align: right;\">4</td><td style = \"text-align: left;\">G6</td><td style = \"text-align: left;\">6</td><td style = \"text-align: left;\">75</td><td style = \"text-align: left;\">7.5</td><td style = \"text-align: left;\">52.5</td><td style = \"text-align: left;\">-52.5</td><td style = \"text-align: left;\">22.5</td><td style = \"text-align: left;\">22.5</td><td style = \"text-align: left;\">4</td><td style = \"text-align: left;\">4</td><td style = \"text-align: left;\">-4</td><td style = \"text-align: left;\">0</td><td style = \"text-align: left;\">2250</td><td style = \"text-align: left;\">450</td><td style = \"text-align: left;\">80</td><td style = \"text-align: left;\">Gas</td><td style = \"text-align: left;\">0.1</td><td style = \"text-align: left;\">0.7</td><td style = \"text-align: left;\">0.3</td><td style = \"text-align: left;\">30</td></tr><tr><td class = \"rowNumber\" style = \"font-weight: bold; text-align: right;\">5</td><td style = \"text-align: left;\">G8</td><td style = \"text-align: left;\">8</td><td style = \"text-align: left;\">75</td><td style = \"text-align: left;\">7.5</td><td style = \"text-align: left;\">52.5</td><td style = \"text-align: left;\">-52.5</td><td style = \"text-align: left;\">22.5</td><td style = \"text-align: left;\">22.5</td><td style = \"text-align: left;\">4</td><td style = \"text-align: left;\">4</td><td style = \"text-align: left;\">-4</td><td style = \"text-align: left;\">0</td><td style = \"text-align: left;\">2250</td><td style = \"text-align: left;\">450</td><td style = \"text-align: left;\">100</td><td style = \"text-align: left;\">Gas</td><td style = \"text-align: left;\">0.1</td><td style = \"text-align: left;\">0.7</td><td style = \"text-align: left;\">0.3</td><td style = \"text-align: left;\">30</td></tr><tr><td class = \"rowNumber\" style = \"font-weight: bold; text-align: right;\">6</td><td style = \"text-align: left;\">Wind2</td><td style = \"text-align: left;\">2</td><td style = \"text-align: left;\">34.3074</td><td style = \"text-align: left;\">0</td><td style = \"text-align: left;\">24.0152</td><td style = \"text-align: left;\">-24.0152</td><td style = \"text-align: left;\">343.074</td><td style = \"text-align: left;\">343.074</td><td style = \"text-align: left;\">1</td><td style = \"text-align: left;\">1</td><td style = \"text-align: left;\">-1</td><td style = \"text-align: left;\">0</td><td style = \"text-align: left;\">0</td><td style = \"text-align: left;\">0</td><td style = \"text-align: left;\">0</td><td style = \"text-align: left;\">Wind</td><td style = \"text-align: left;\">0.0</td><td style = \"text-align: left;\">0.7</td><td style = \"text-align: left;\">10.0</td><td style = \"text-align: left;\">0</td></tr><tr><td class = \"rowNumber\" style = \"font-weight: bold; text-align: right;\">7</td><td style = \"text-align: left;\">Solar8</td><td style = \"text-align: left;\">8</td><td style = \"text-align: left;\">36.0918</td><td style = \"text-align: left;\">0</td><td style = \"text-align: left;\">25.2643</td><td style = \"text-align: left;\">-25.2643</td><td style = \"text-align: left;\">360.918</td><td style = \"text-align: left;\">360.918</td><td style = \"text-align: left;\">1</td><td style = \"text-align: left;\">1</td><td style = \"text-align: left;\">-1</td><td style = \"text-align: left;\">0</td><td style = \"text-align: left;\">0</td><td style = \"text-align: left;\">0</td><td style = \"text-align: left;\">0</td><td style = \"text-align: left;\">Solar</td><td style = \"text-align: left;\">0.0</td><td style = \"text-align: left;\">0.7</td><td style = \"text-align: left;\">10.0</td><td style = \"text-align: left;\">0</td></tr></tbody></table></div>"
      ],
      "text/latex": [
       "\\begin{tabular}{r|ccccccccc}\n",
       "\t& Generator & Bus & Pmax [MW] & Pmin [MW] & Qmax [MVAR] & Qmin [MVAR] & Ramp [MW/h] & SRamp [MW] & \\\\\n",
       "\t\\hline\n",
       "\t& Any & Any & Any & Any & Any & Any & Any & Any & \\\\\n",
       "\t\\hline\n",
       "\t1 & G1 & 1 & 100 & 40 & 70 & -70 & 20 & 40.01 & $\\dots$ \\\\\n",
       "\t2 & G2 & 2 & 75 & 7.5 & 52.5 & -52.5 & 22.5 & 22.5 & $\\dots$ \\\\\n",
       "\t3 & G3 & 3 & 75 & 7.5 & 52.5 & -52.5 & 22.5 & 22.5 & $\\dots$ \\\\\n",
       "\t4 & G6 & 6 & 75 & 7.5 & 52.5 & -52.5 & 22.5 & 22.5 & $\\dots$ \\\\\n",
       "\t5 & G8 & 8 & 75 & 7.5 & 52.5 & -52.5 & 22.5 & 22.5 & $\\dots$ \\\\\n",
       "\t6 & Wind2 & 2 & 34.3074 & 0 & 24.0152 & -24.0152 & 343.074 & 343.074 & $\\dots$ \\\\\n",
       "\t7 & Solar8 & 8 & 36.0918 & 0 & 25.2643 & -25.2643 & 360.918 & 360.918 & $\\dots$ \\\\\n",
       "\\end{tabular}\n"
      ],
      "text/plain": [
       "\u001b[1m7×20 DataFrame\u001b[0m\n",
       "\u001b[1m Row \u001b[0m│\u001b[1m Generator \u001b[0m\u001b[1m Bus \u001b[0m\u001b[1m Pmax [MW] \u001b[0m\u001b[1m Pmin [MW] \u001b[0m\u001b[1m Qmax [MVAR] \u001b[0m\u001b[1m Qmin [MVAR] \u001b[0m\u001b[1m Ramp [M\u001b[0m ⋯\n",
       "     │\u001b[90m Any       \u001b[0m\u001b[90m Any \u001b[0m\u001b[90m Any       \u001b[0m\u001b[90m Any       \u001b[0m\u001b[90m Any         \u001b[0m\u001b[90m Any         \u001b[0m\u001b[90m Any    \u001b[0m ⋯\n",
       "─────┼──────────────────────────────────────────────────────────────────────────\n",
       "   1 │ G1         1    100        40         70           -70          20      ⋯\n",
       "   2 │ G2         2    75         7.5        52.5         -52.5        22.5\n",
       "   3 │ G3         3    75         7.5        52.5         -52.5        22.5\n",
       "   4 │ G6         6    75         7.5        52.5         -52.5        22.5\n",
       "   5 │ G8         8    75         7.5        52.5         -52.5        22.5    ⋯\n",
       "   6 │ Wind2      2    34.3074    0          24.0152      -24.0152     343.074\n",
       "   7 │ Solar8     8    36.0918    0          25.2643      -25.2643     360.918\n",
       "\u001b[36m                                                              14 columns omitted\u001b[0m"
      ]
     },
     "metadata": {},
     "output_type": "display_data"
    }
   ],
   "source": [
    "df3 = DataFrame(XLSX.gettable(generadores,\"A:T\",first_row=1,stop_in_row_function=stop_condition))"
   ]
  },
  {
   "cell_type": "markdown",
   "metadata": {},
   "source": [
    "Renovables"
   ]
  },
  {
   "cell_type": "code",
   "execution_count": 106,
   "metadata": {},
   "outputs": [
    {
     "data": {
      "text/html": [
       "<div><div style = \"float: left;\"><span>2×25 DataFrame</span></div><div style = \"clear: both;\"></div></div><div class = \"data-frame\" style = \"overflow-x: scroll;\"><table class = \"data-frame\" style = \"margin-bottom: 6px;\"><thead><tr class = \"header\"><th class = \"rowNumber\" style = \"font-weight: bold; text-align: right;\">Row</th><th style = \"text-align: left;\">Gen/Hour</th><th style = \"text-align: left;\">1</th><th style = \"text-align: left;\">2</th><th style = \"text-align: left;\">3</th><th style = \"text-align: left;\">4</th><th style = \"text-align: left;\">5</th><th style = \"text-align: left;\">6</th><th style = \"text-align: left;\">7</th><th style = \"text-align: left;\">8</th><th style = \"text-align: left;\">9</th><th style = \"text-align: left;\">10</th><th style = \"text-align: left;\">11</th><th style = \"text-align: left;\">12</th><th style = \"text-align: left;\">13</th><th style = \"text-align: left;\">14</th><th style = \"text-align: left;\">15</th><th style = \"text-align: left;\">16</th><th style = \"text-align: left;\">17</th><th style = \"text-align: left;\">18</th><th style = \"text-align: left;\">19</th><th style = \"text-align: left;\">20</th><th style = \"text-align: left;\">21</th><th style = \"text-align: left;\">22</th><th style = \"text-align: left;\">23</th><th style = \"text-align: left;\">24</th></tr><tr class = \"subheader headerLastRow\"><th class = \"rowNumber\" style = \"font-weight: bold; text-align: right;\"></th><th title = \"Any\" style = \"text-align: left;\">Any</th><th title = \"Any\" style = \"text-align: left;\">Any</th><th title = \"Any\" style = \"text-align: left;\">Any</th><th title = \"Any\" style = \"text-align: left;\">Any</th><th title = \"Any\" style = \"text-align: left;\">Any</th><th title = \"Any\" style = \"text-align: left;\">Any</th><th title = \"Any\" style = \"text-align: left;\">Any</th><th title = \"Any\" style = \"text-align: left;\">Any</th><th title = \"Any\" style = \"text-align: left;\">Any</th><th title = \"Any\" style = \"text-align: left;\">Any</th><th title = \"Any\" style = \"text-align: left;\">Any</th><th title = \"Any\" style = \"text-align: left;\">Any</th><th title = \"Any\" style = \"text-align: left;\">Any</th><th title = \"Any\" style = \"text-align: left;\">Any</th><th title = \"Any\" style = \"text-align: left;\">Any</th><th title = \"Any\" style = \"text-align: left;\">Any</th><th title = \"Any\" style = \"text-align: left;\">Any</th><th title = \"Any\" style = \"text-align: left;\">Any</th><th title = \"Any\" style = \"text-align: left;\">Any</th><th title = \"Any\" style = \"text-align: left;\">Any</th><th title = \"Any\" style = \"text-align: left;\">Any</th><th title = \"Any\" style = \"text-align: left;\">Any</th><th title = \"Any\" style = \"text-align: left;\">Any</th><th title = \"Any\" style = \"text-align: left;\">Any</th><th title = \"Any\" style = \"text-align: left;\">Any</th></tr></thead><tbody><tr><td class = \"rowNumber\" style = \"font-weight: bold; text-align: right;\">1</td><td style = \"text-align: left;\">Wind2</td><td style = \"text-align: left;\">31.167</td><td style = \"text-align: left;\">29.4256</td><td style = \"text-align: left;\">27.6723</td><td style = \"text-align: left;\">28.6323</td><td style = \"text-align: left;\">28.7513</td><td style = \"text-align: left;\">29.2233</td><td style = \"text-align: left;\">28.6362</td><td style = \"text-align: left;\">29.739</td><td style = \"text-align: left;\">30.4213</td><td style = \"text-align: left;\">31.766</td><td style = \"text-align: left;\">33.1306</td><td style = \"text-align: left;\">36.4072</td><td style = \"text-align: left;\">38.4619</td><td style = \"text-align: left;\">40.5286</td><td style = \"text-align: left;\">41.3934</td><td style = \"text-align: left;\">42.516</td><td style = \"text-align: left;\">45.4951</td><td style = \"text-align: left;\">42.6112</td><td style = \"text-align: left;\">37.7479</td><td style = \"text-align: left;\">34.4872</td><td style = \"text-align: left;\">35.9827</td><td style = \"text-align: left;\">35.471</td><td style = \"text-align: left;\">32.5038</td><td style = \"text-align: left;\">31.2067</td></tr><tr><td class = \"rowNumber\" style = \"font-weight: bold; text-align: right;\">2</td><td style = \"text-align: left;\">Solar8</td><td style = \"text-align: left;\">0.0</td><td style = \"text-align: left;\">0.0</td><td style = \"text-align: left;\">0.0</td><td style = \"text-align: left;\">0.0</td><td style = \"text-align: left;\">0.000148093</td><td style = \"text-align: left;\">7.14521</td><td style = \"text-align: left;\">32.1157</td><td style = \"text-align: left;\">64.6244</td><td style = \"text-align: left;\">84.5466</td><td style = \"text-align: left;\">90.8603</td><td style = \"text-align: left;\">92.6444</td><td style = \"text-align: left;\">93.0311</td><td style = \"text-align: left;\">92.748</td><td style = \"text-align: left;\">91.194</td><td style = \"text-align: left;\">86.7143</td><td style = \"text-align: left;\">73.3265</td><td style = \"text-align: left;\">41.8975</td><td style = \"text-align: left;\">14.7328</td><td style = \"text-align: left;\">0.62214</td><td style = \"text-align: left;\">0.0</td><td style = \"text-align: left;\">0.0</td><td style = \"text-align: left;\">0.0</td><td style = \"text-align: left;\">0.0</td><td style = \"text-align: left;\">0.0</td></tr></tbody></table></div>"
      ],
      "text/latex": [
       "\\begin{tabular}{r|cccccccccc}\n",
       "\t& Gen/Hour & 1 & 2 & 3 & 4 & 5 & 6 & 7 & 8 & \\\\\n",
       "\t\\hline\n",
       "\t& Any & Any & Any & Any & Any & Any & Any & Any & Any & \\\\\n",
       "\t\\hline\n",
       "\t1 & Wind2 & 31.167 & 29.4256 & 27.6723 & 28.6323 & 28.7513 & 29.2233 & 28.6362 & 29.739 & $\\dots$ \\\\\n",
       "\t2 & Solar8 & 0.0 & 0.0 & 0.0 & 0.0 & 0.000148093 & 7.14521 & 32.1157 & 64.6244 & $\\dots$ \\\\\n",
       "\\end{tabular}\n"
      ],
      "text/plain": [
       "\u001b[1m2×25 DataFrame\u001b[0m\n",
       "\u001b[1m Row \u001b[0m│\u001b[1m Gen/Hour \u001b[0m\u001b[1m 1      \u001b[0m\u001b[1m 2       \u001b[0m\u001b[1m 3       \u001b[0m\u001b[1m 4       \u001b[0m\u001b[1m 5           \u001b[0m\u001b[1m 6       \u001b[0m\u001b[1m 7   \u001b[0m ⋯\n",
       "     │\u001b[90m Any      \u001b[0m\u001b[90m Any    \u001b[0m\u001b[90m Any     \u001b[0m\u001b[90m Any     \u001b[0m\u001b[90m Any     \u001b[0m\u001b[90m Any         \u001b[0m\u001b[90m Any     \u001b[0m\u001b[90m Any \u001b[0m ⋯\n",
       "─────┼──────────────────────────────────────────────────────────────────────────\n",
       "   1 │ Wind2     31.167  29.4256  27.6723  28.6323  28.7513      29.2233  28.6 ⋯\n",
       "   2 │ Solar8    0.0     0.0      0.0      0.0      0.000148093  7.14521  32.1\n",
       "\u001b[36m                                                              18 columns omitted\u001b[0m"
      ]
     },
     "metadata": {},
     "output_type": "display_data"
    }
   ],
   "source": [
    "df4 = DataFrame(XLSX.gettable(renovables,\"A:Y\",first_row=2,stop_in_row_function=stop_condition))"
   ]
  },
  {
   "cell_type": "code",
   "execution_count": null,
   "metadata": {},
   "outputs": [],
   "source": [
    "df4[\"1\"]"
   ]
  },
  {
   "cell_type": "markdown",
   "metadata": {},
   "source": [
    "Lineas"
   ]
  },
  {
   "cell_type": "code",
   "execution_count": 19,
   "metadata": {},
   "outputs": [
    {
     "data": {
      "text/html": [
       "<div><div style = \"float: left;\"><span>20×7 DataFrame</span></div><div style = \"clear: both;\"></div></div><div class = \"data-frame\" style = \"overflow-x: scroll;\"><table class = \"data-frame\" style = \"margin-bottom: 6px;\"><thead><tr class = \"header\"><th class = \"rowNumber\" style = \"font-weight: bold; text-align: right;\">Row</th><th style = \"text-align: left;\">Branch Name</th><th style = \"text-align: left;\">FromBus</th><th style = \"text-align: left;\">ToBus</th><th style = \"text-align: left;\">Resistance (R)</th><th style = \"text-align: left;\">Reactance (X)</th><th style = \"text-align: left;\">LineCharging (B)</th><th style = \"text-align: left;\">Max Flow [MW]</th></tr><tr class = \"subheader headerLastRow\"><th class = \"rowNumber\" style = \"font-weight: bold; text-align: right;\"></th><th title = \"Any\" style = \"text-align: left;\">Any</th><th title = \"Any\" style = \"text-align: left;\">Any</th><th title = \"Any\" style = \"text-align: left;\">Any</th><th title = \"Any\" style = \"text-align: left;\">Any</th><th title = \"Any\" style = \"text-align: left;\">Any</th><th title = \"Any\" style = \"text-align: left;\">Any</th><th title = \"Any\" style = \"text-align: left;\">Any</th></tr></thead><tbody><tr><td class = \"rowNumber\" style = \"font-weight: bold; text-align: right;\">1</td><td style = \"text-align: left;\">Line1To2</td><td style = \"text-align: left;\">1</td><td style = \"text-align: left;\">2</td><td style = \"text-align: left;\">0.01938</td><td style = \"text-align: left;\">0.05917</td><td style = \"text-align: left;\">0</td><td style = \"text-align: left;\">135</td></tr><tr><td class = \"rowNumber\" style = \"font-weight: bold; text-align: right;\">2</td><td style = \"text-align: left;\">Line1To5</td><td style = \"text-align: left;\">1</td><td style = \"text-align: left;\">5</td><td style = \"text-align: left;\">0.05403</td><td style = \"text-align: left;\">0.22304</td><td style = \"text-align: left;\">0</td><td style = \"text-align: left;\">135</td></tr><tr><td class = \"rowNumber\" style = \"font-weight: bold; text-align: right;\">3</td><td style = \"text-align: left;\">Line2To3</td><td style = \"text-align: left;\">2</td><td style = \"text-align: left;\">3</td><td style = \"text-align: left;\">0.04699</td><td style = \"text-align: left;\">0.19797</td><td style = \"text-align: left;\">0</td><td style = \"text-align: left;\">135</td></tr><tr><td class = \"rowNumber\" style = \"font-weight: bold; text-align: right;\">4</td><td style = \"text-align: left;\">Line2To4</td><td style = \"text-align: left;\">2</td><td style = \"text-align: left;\">4</td><td style = \"text-align: left;\">0.05811</td><td style = \"text-align: left;\">0.17632</td><td style = \"text-align: left;\">0</td><td style = \"text-align: left;\">135</td></tr><tr><td class = \"rowNumber\" style = \"font-weight: bold; text-align: right;\">5</td><td style = \"text-align: left;\">Line2To5</td><td style = \"text-align: left;\">2</td><td style = \"text-align: left;\">5</td><td style = \"text-align: left;\">0.05695</td><td style = \"text-align: left;\">0.17388</td><td style = \"text-align: left;\">0</td><td style = \"text-align: left;\">135</td></tr><tr><td class = \"rowNumber\" style = \"font-weight: bold; text-align: right;\">6</td><td style = \"text-align: left;\">Line3To4</td><td style = \"text-align: left;\">3</td><td style = \"text-align: left;\">4</td><td style = \"text-align: left;\">0.06701</td><td style = \"text-align: left;\">0.17103</td><td style = \"text-align: left;\">0</td><td style = \"text-align: left;\">135</td></tr><tr><td class = \"rowNumber\" style = \"font-weight: bold; text-align: right;\">7</td><td style = \"text-align: left;\">Line4To5</td><td style = \"text-align: left;\">4</td><td style = \"text-align: left;\">5</td><td style = \"text-align: left;\">0.01335</td><td style = \"text-align: left;\">0.04211</td><td style = \"text-align: left;\">0</td><td style = \"text-align: left;\">135</td></tr><tr><td class = \"rowNumber\" style = \"font-weight: bold; text-align: right;\">8</td><td style = \"text-align: left;\">Line4To7</td><td style = \"text-align: left;\">4</td><td style = \"text-align: left;\">7</td><td style = \"text-align: left;\">0</td><td style = \"text-align: left;\">0.20912</td><td style = \"text-align: left;\">0</td><td style = \"text-align: left;\">135</td></tr><tr><td class = \"rowNumber\" style = \"font-weight: bold; text-align: right;\">9</td><td style = \"text-align: left;\">Line4To9</td><td style = \"text-align: left;\">4</td><td style = \"text-align: left;\">9</td><td style = \"text-align: left;\">0</td><td style = \"text-align: left;\">0.55618</td><td style = \"text-align: left;\">0</td><td style = \"text-align: left;\">135</td></tr><tr><td class = \"rowNumber\" style = \"font-weight: bold; text-align: right;\">10</td><td style = \"text-align: left;\">Line5To6</td><td style = \"text-align: left;\">5</td><td style = \"text-align: left;\">6</td><td style = \"text-align: left;\">0</td><td style = \"text-align: left;\">0.25202</td><td style = \"text-align: left;\">0</td><td style = \"text-align: left;\">135</td></tr><tr><td class = \"rowNumber\" style = \"font-weight: bold; text-align: right;\">11</td><td style = \"text-align: left;\">Line6To11</td><td style = \"text-align: left;\">6</td><td style = \"text-align: left;\">11</td><td style = \"text-align: left;\">0.09498</td><td style = \"text-align: left;\">0.1989</td><td style = \"text-align: left;\">0</td><td style = \"text-align: left;\">135</td></tr><tr><td class = \"rowNumber\" style = \"font-weight: bold; text-align: right;\">12</td><td style = \"text-align: left;\">Line6To12</td><td style = \"text-align: left;\">6</td><td style = \"text-align: left;\">12</td><td style = \"text-align: left;\">0.12291</td><td style = \"text-align: left;\">0.25581</td><td style = \"text-align: left;\">0</td><td style = \"text-align: left;\">135</td></tr><tr><td class = \"rowNumber\" style = \"font-weight: bold; text-align: right;\">13</td><td style = \"text-align: left;\">Line6To13</td><td style = \"text-align: left;\">6</td><td style = \"text-align: left;\">13</td><td style = \"text-align: left;\">0.06615</td><td style = \"text-align: left;\">0.13027</td><td style = \"text-align: left;\">0</td><td style = \"text-align: left;\">135</td></tr><tr><td class = \"rowNumber\" style = \"font-weight: bold; text-align: right;\">14</td><td style = \"text-align: left;\">Line7To8</td><td style = \"text-align: left;\">7</td><td style = \"text-align: left;\">8</td><td style = \"text-align: left;\">0</td><td style = \"text-align: left;\">0.17615</td><td style = \"text-align: left;\">0</td><td style = \"text-align: left;\">135</td></tr><tr><td class = \"rowNumber\" style = \"font-weight: bold; text-align: right;\">15</td><td style = \"text-align: left;\">Line7To9</td><td style = \"text-align: left;\">7</td><td style = \"text-align: left;\">9</td><td style = \"text-align: left;\">0</td><td style = \"text-align: left;\">0.11001</td><td style = \"text-align: left;\">0</td><td style = \"text-align: left;\">135</td></tr><tr><td class = \"rowNumber\" style = \"font-weight: bold; text-align: right;\">16</td><td style = \"text-align: left;\">Line9To10</td><td style = \"text-align: left;\">9</td><td style = \"text-align: left;\">10</td><td style = \"text-align: left;\">0.03181</td><td style = \"text-align: left;\">0.0845</td><td style = \"text-align: left;\">0</td><td style = \"text-align: left;\">135</td></tr><tr><td class = \"rowNumber\" style = \"font-weight: bold; text-align: right;\">17</td><td style = \"text-align: left;\">Line9To14</td><td style = \"text-align: left;\">9</td><td style = \"text-align: left;\">14</td><td style = \"text-align: left;\">0.12711</td><td style = \"text-align: left;\">0.27038</td><td style = \"text-align: left;\">0</td><td style = \"text-align: left;\">135</td></tr><tr><td class = \"rowNumber\" style = \"font-weight: bold; text-align: right;\">18</td><td style = \"text-align: left;\">Line10To11</td><td style = \"text-align: left;\">10</td><td style = \"text-align: left;\">11</td><td style = \"text-align: left;\">0.08205</td><td style = \"text-align: left;\">0.19207</td><td style = \"text-align: left;\">0</td><td style = \"text-align: left;\">135</td></tr><tr><td class = \"rowNumber\" style = \"font-weight: bold; text-align: right;\">19</td><td style = \"text-align: left;\">Line12To13</td><td style = \"text-align: left;\">12</td><td style = \"text-align: left;\">13</td><td style = \"text-align: left;\">0.22092</td><td style = \"text-align: left;\">0.19988</td><td style = \"text-align: left;\">0</td><td style = \"text-align: left;\">135</td></tr><tr><td class = \"rowNumber\" style = \"font-weight: bold; text-align: right;\">20</td><td style = \"text-align: left;\">Line13To14</td><td style = \"text-align: left;\">13</td><td style = \"text-align: left;\">14</td><td style = \"text-align: left;\">0.17093</td><td style = \"text-align: left;\">0.34802</td><td style = \"text-align: left;\">0</td><td style = \"text-align: left;\">135</td></tr></tbody></table></div>"
      ],
      "text/latex": [
       "\\begin{tabular}{r|ccccccc}\n",
       "\t& Branch Name & FromBus & ToBus & Resistance (R) & Reactance (X) & LineCharging (B) & Max Flow [MW]\\\\\n",
       "\t\\hline\n",
       "\t& Any & Any & Any & Any & Any & Any & Any\\\\\n",
       "\t\\hline\n",
       "\t1 & Line1To2 & 1 & 2 & 0.01938 & 0.05917 & 0 & 135 \\\\\n",
       "\t2 & Line1To5 & 1 & 5 & 0.05403 & 0.22304 & 0 & 135 \\\\\n",
       "\t3 & Line2To3 & 2 & 3 & 0.04699 & 0.19797 & 0 & 135 \\\\\n",
       "\t4 & Line2To4 & 2 & 4 & 0.05811 & 0.17632 & 0 & 135 \\\\\n",
       "\t5 & Line2To5 & 2 & 5 & 0.05695 & 0.17388 & 0 & 135 \\\\\n",
       "\t6 & Line3To4 & 3 & 4 & 0.06701 & 0.17103 & 0 & 135 \\\\\n",
       "\t7 & Line4To5 & 4 & 5 & 0.01335 & 0.04211 & 0 & 135 \\\\\n",
       "\t8 & Line4To7 & 4 & 7 & 0 & 0.20912 & 0 & 135 \\\\\n",
       "\t9 & Line4To9 & 4 & 9 & 0 & 0.55618 & 0 & 135 \\\\\n",
       "\t10 & Line5To6 & 5 & 6 & 0 & 0.25202 & 0 & 135 \\\\\n",
       "\t11 & Line6To11 & 6 & 11 & 0.09498 & 0.1989 & 0 & 135 \\\\\n",
       "\t12 & Line6To12 & 6 & 12 & 0.12291 & 0.25581 & 0 & 135 \\\\\n",
       "\t13 & Line6To13 & 6 & 13 & 0.06615 & 0.13027 & 0 & 135 \\\\\n",
       "\t14 & Line7To8 & 7 & 8 & 0 & 0.17615 & 0 & 135 \\\\\n",
       "\t15 & Line7To9 & 7 & 9 & 0 & 0.11001 & 0 & 135 \\\\\n",
       "\t16 & Line9To10 & 9 & 10 & 0.03181 & 0.0845 & 0 & 135 \\\\\n",
       "\t17 & Line9To14 & 9 & 14 & 0.12711 & 0.27038 & 0 & 135 \\\\\n",
       "\t18 & Line10To11 & 10 & 11 & 0.08205 & 0.19207 & 0 & 135 \\\\\n",
       "\t19 & Line12To13 & 12 & 13 & 0.22092 & 0.19988 & 0 & 135 \\\\\n",
       "\t20 & Line13To14 & 13 & 14 & 0.17093 & 0.34802 & 0 & 135 \\\\\n",
       "\\end{tabular}\n"
      ],
      "text/plain": [
       "\u001b[1m20×7 DataFrame\u001b[0m\n",
       "\u001b[1m Row \u001b[0m│\u001b[1m Branch Name \u001b[0m\u001b[1m FromBus \u001b[0m\u001b[1m ToBus \u001b[0m\u001b[1m Resistance (R) \u001b[0m\u001b[1m Reactance (X) \u001b[0m\u001b[1m LineChargin\u001b[0m ⋯\n",
       "     │\u001b[90m Any         \u001b[0m\u001b[90m Any     \u001b[0m\u001b[90m Any   \u001b[0m\u001b[90m Any            \u001b[0m\u001b[90m Any           \u001b[0m\u001b[90m Any        \u001b[0m ⋯\n",
       "─────┼──────────────────────────────────────────────────────────────────────────\n",
       "   1 │ Line1To2     1        2      0.01938         0.05917        0           ⋯\n",
       "   2 │ Line1To5     1        5      0.05403         0.22304        0\n",
       "   3 │ Line2To3     2        3      0.04699         0.19797        0\n",
       "   4 │ Line2To4     2        4      0.05811         0.17632        0\n",
       "   5 │ Line2To5     2        5      0.05695         0.17388        0           ⋯\n",
       "   6 │ Line3To4     3        4      0.06701         0.17103        0\n",
       "   7 │ Line4To5     4        5      0.01335         0.04211        0\n",
       "   8 │ Line4To7     4        7      0               0.20912        0\n",
       "  ⋮  │      ⋮          ⋮       ⋮          ⋮               ⋮               ⋮    ⋱\n",
       "  14 │ Line7To8     7        8      0               0.17615        0           ⋯\n",
       "  15 │ Line7To9     7        9      0               0.11001        0\n",
       "  16 │ Line9To10    9        10     0.03181         0.0845         0\n",
       "  17 │ Line9To14    9        14     0.12711         0.27038        0\n",
       "  18 │ Line10To11   10       11     0.08205         0.19207        0           ⋯\n",
       "  19 │ Line12To13   12       13     0.22092         0.19988        0\n",
       "  20 │ Line13To14   13       14     0.17093         0.34802        0\n",
       "\u001b[36m                                                    2 columns and 5 rows omitted\u001b[0m"
      ]
     },
     "metadata": {},
     "output_type": "display_data"
    }
   ],
   "source": [
    "df5 = DataFrame(XLSX.gettable(lineas,\"A:G\",first_row=1,stop_in_row_function=stop_condition))"
   ]
  },
  {
   "cell_type": "markdown",
   "metadata": {},
   "source": [
    "# Modelo JuMP"
   ]
  },
  {
   "cell_type": "code",
   "execution_count": 12,
   "metadata": {},
   "outputs": [
    {
     "name": "stdout",
     "output_type": "stream",
     "text": [
      "Set parameter Username\n",
      "Academic license - for non-commercial use only - expires 2025-03-26\n"
     ]
    },
    {
     "data": {
      "text/plain": [
       "20×24 Matrix{VariableRef}:\n",
       " w[1,1]   w[1,2]   w[1,3]   w[1,4]   w[1,5]   …  w[1,22]   w[1,23]   w[1,24]\n",
       " w[2,1]   w[2,2]   w[2,3]   w[2,4]   w[2,5]      w[2,22]   w[2,23]   w[2,24]\n",
       " w[3,1]   w[3,2]   w[3,3]   w[3,4]   w[3,5]      w[3,22]   w[3,23]   w[3,24]\n",
       " w[4,1]   w[4,2]   w[4,3]   w[4,4]   w[4,5]      w[4,22]   w[4,23]   w[4,24]\n",
       " w[5,1]   w[5,2]   w[5,3]   w[5,4]   w[5,5]      w[5,22]   w[5,23]   w[5,24]\n",
       " w[6,1]   w[6,2]   w[6,3]   w[6,4]   w[6,5]   …  w[6,22]   w[6,23]   w[6,24]\n",
       " w[7,1]   w[7,2]   w[7,3]   w[7,4]   w[7,5]      w[7,22]   w[7,23]   w[7,24]\n",
       " w[8,1]   w[8,2]   w[8,3]   w[8,4]   w[8,5]      w[8,22]   w[8,23]   w[8,24]\n",
       " w[9,1]   w[9,2]   w[9,3]   w[9,4]   w[9,5]      w[9,22]   w[9,23]   w[9,24]\n",
       " w[10,1]  w[10,2]  w[10,3]  w[10,4]  w[10,5]     w[10,22]  w[10,23]  w[10,24]\n",
       " w[11,1]  w[11,2]  w[11,3]  w[11,4]  w[11,5]  …  w[11,22]  w[11,23]  w[11,24]\n",
       " w[12,1]  w[12,2]  w[12,3]  w[12,4]  w[12,5]     w[12,22]  w[12,23]  w[12,24]\n",
       " w[13,1]  w[13,2]  w[13,3]  w[13,4]  w[13,5]     w[13,22]  w[13,23]  w[13,24]\n",
       " w[14,1]  w[14,2]  w[14,3]  w[14,4]  w[14,5]     w[14,22]  w[14,23]  w[14,24]\n",
       " w[15,1]  w[15,2]  w[15,3]  w[15,4]  w[15,5]     w[15,22]  w[15,23]  w[15,24]\n",
       " w[16,1]  w[16,2]  w[16,3]  w[16,4]  w[16,5]  …  w[16,22]  w[16,23]  w[16,24]\n",
       " w[17,1]  w[17,2]  w[17,3]  w[17,4]  w[17,5]     w[17,22]  w[17,23]  w[17,24]\n",
       " w[18,1]  w[18,2]  w[18,3]  w[18,4]  w[18,5]     w[18,22]  w[18,23]  w[18,24]\n",
       " w[19,1]  w[19,2]  w[19,3]  w[19,4]  w[19,5]     w[19,22]  w[19,23]  w[19,24]\n",
       " w[20,1]  w[20,2]  w[20,3]  w[20,4]  w[20,5]     w[20,22]  w[20,23]  w[20,24]"
      ]
     },
     "metadata": {},
     "output_type": "display_data"
    }
   ],
   "source": [
    "### Problema optimizacion\n",
    "model = Model(Gurobi.Optimizer) # Crear objeto \"modelo\" con el solver Gurobi\n",
    "\n",
    "## Variables\n",
    "I = 20\n",
    "T = 24\n",
    "N = 5\n",
    "# Variables Economic Dispatch\n",
    "@variable(model, p[1:I, 1:T] >= 0)  # Potencia activa de generador i en tiempo t. Valor en p.u.\n",
    "@variable(model, d[1:N, 1:T])       # angulo (d de degree) de la barra n en tiempo t\n",
    "\n",
    "# Variables nuevas (UC)\n",
    "# No se utiliza potencia reactiva: Aproximacion DC\n",
    "#@variable(model, q[1:I, 1:T])       # Potencia reactiva de generador i en tiempo t. Valor en p.u. (puede ser < 0)\n",
    "@variable(model, u[1:I, 1:T], Bin)       # AGREGAR NATURALEZA {0,1}. Indica encendido de gen i en t.\n",
    "@variable(model, v[1:I, 1:T], Bin)       # AGREGAR NATURALEZA {0,1}. Indica apagado de gen i en t.\n",
    "@variable(model, w[1:I, 1:T], Bin)       # AGREGAR NATURALEZA {0,1}. Estado ON(1)/OFF(0) de gen i en t.\n",
    "\n",
    "# Variables BESS (no se utilizan)\n",
    "#@variable(model, pb[1:B, 1:T])      # flujo de potencia del BESS b en tiempo t\n",
    "#@variable(model, e[1:B,1:T] >=0)    # energia almacenada en el BESS e en tiempo t\n",
    "\n",
    "## Funcion Objetivo\n",
    "#@objective(model, Min, sum(Gen[i].VariableCostCost * p[i,t] +  Gen[i].FixedCost * w[i,t] + Gen[i].StartCost * u[i,t] for i in 1:I, t in 1:T ))"
   ]
  },
  {
   "cell_type": "code",
   "execution_count": 20,
   "metadata": {},
   "outputs": [
    {
     "ename": "ErrorException",
     "evalue": "type GenericModel has no field VariableRef",
     "output_type": "error",
     "traceback": [
      "type GenericModel has no field VariableRef\n",
      "\n",
      "Stacktrace:\n",
      " [1] getproperty(model::Model, name::Symbol)\n",
      "   @ JuMP C:\\Users\\sevil\\.julia\\packages\\JuMP\\OUdu2\\src\\JuMP.jl:133\n",
      " [2] top-level scope\n",
      "   @ c:\\Users\\sevil\\Desktop\\PUC-Local\\IEE3323---Operacion-Econ-mica-de-Sistemas-El-ctricos\\UnitCommitment (T2)\\testsXLSX.ipynb:1"
     ]
    }
   ],
   "source": [
    "model.VariableRef"
   ]
  },
  {
   "cell_type": "markdown",
   "metadata": {},
   "source": [
    "# Modelo"
   ]
  },
  {
   "cell_type": "code",
   "execution_count": 12,
   "metadata": {},
   "outputs": [
    {
     "name": "stdout",
     "output_type": "stream",
     "text": [
      "Prueba de numero buses, deberia ser 14: 14\n",
      "Generador1\n",
      "Generador2\n",
      "Generador3\n",
      "Generador4\n",
      "Generador5\n",
      "Generador6\n",
      "Generador7\n",
      "Demanda nodo 14, hora 2: 12.150115830115833\n",
      "Size de demandaP_ref: (14, 25)\n",
      "Size de demandP: (14, 24)\n",
      "Set parameter Username\n",
      "Academic license - for non-commercial use only - expires 2025-03-26\n",
      "Gurobi Optimizer version 11.0.1 build v11.0.1rc0 (win64 - Windows 11.0 (22631.2))\n",
      "\n",
      "CPU model: 11th Gen Intel(R) Core(TM) i7-1185G7 @ 3.00GHz, instruction set [SSE2|AVX|AVX2|AVX512]\n",
      "Thread count: 4 physical cores, 8 logical processors, using up to 8 threads\n",
      "\n",
      "Optimize a model with 2461 rows, 1008 columns and 7056 nonzeros\n",
      "Model fingerprint: 0x2a83c774\n",
      "Variable types: 504 continuous, 504 integer (504 binary)\n",
      "Coefficient statistics:\n",
      "  Matrix range     [1e+00, 4e+03]\n",
      "  Objective range  [2e+01, 3e+03]\n",
      "  Bounds range     [0e+00, 0e+00]\n",
      "  RHS range        [1e+00, 4e+02]\n",
      "Presolve removed 1429 rows and 347 columns\n",
      "Presolve time: 0.05s\n",
      "Presolved: 1032 rows, 661 columns, 4054 nonzeros\n",
      "Variable types: 264 continuous, 397 integer (397 binary)\n",
      "Found heuristic solution: objective 245762.70309\n",
      "Found heuristic solution: objective 217718.94916\n",
      "Found heuristic solution: objective 210149.20656\n",
      "\n",
      "Root relaxation: objective 1.759898e+05, 367 iterations, 0.01 seconds (0.00 work units)\n",
      "\n",
      "    Nodes    |    Current Node    |     Objective Bounds      |     Work\n",
      " Expl Unexpl |  Obj  Depth IntInf | Incumbent    BestBd   Gap | It/Node Time\n",
      "\n",
      "     0     0 175989.797    0   32 210149.207 175989.797  16.3%     -    0s\n",
      "H    0     0                    194041.07786 175989.797  9.30%     -    0s\n",
      "H    0     0                    180456.99743 175989.797  2.48%     -    0s\n",
      "     0     0 177943.235    0   27 180456.997 177943.235  1.39%     -    0s\n",
      "     0     0 177943.235    0   31 180456.997 177943.235  1.39%     -    0s\n",
      "     0     0 179505.617    0   44 180456.997 179505.617  0.53%     -    0s\n",
      "     0     0 179507.217    0   42 180456.997 179507.217  0.53%     -    0s\n",
      "     0     0 180456.997    0    6 180456.997 180456.997  0.00%     -    0s\n",
      "\n",
      "Cutting planes:\n",
      "  Gomory: 4\n",
      "  Implied bound: 1\n",
      "  MIR: 2\n",
      "  Flow cover: 2\n",
      "\n",
      "Explored 1 nodes (900 simplex iterations) in 0.36 seconds (0.12 work units)\n",
      "Thread count was 8 (of 8 available processors)\n",
      "\n",
      "Solution count 5: 180457 194041 210149 ... 245763\n",
      "\n",
      "Optimal solution found (tolerance 1.00e-04)\n",
      "Best objective 1.804569974259e+05, best bound 1.804569974259e+05, gap 0.0000%\n",
      "\n",
      "User-callback calls 1659, time in user-callback 0.00 sec\n"
     ]
    },
    {
     "name": "stderr",
     "output_type": "stream",
     "text": [
      "┌ Warning: Axis contains one element: 1. If intended, you can safely ignore this warning. To explicitly pass the axis with one element, pass `[1]` instead of `1`.\n",
      "└ @ JuMP.Containers C:\\Users\\sevil\\.julia\\packages\\JuMP\\OUdu2\\src\\Containers\\DenseAxisArray.jl:186\n"
     ]
    }
   ],
   "source": [
    "# Tarea 2 Operacion Economica de Sistemas Electricos\n",
    "# Vicente Goehring & Sebastian Villagra\n",
    "# Mayo 2024\n",
    "\n",
    "# Codigo busca crear un modelo de optimizacion para el Unit Commitment\n",
    "# de forma mas general posible, i.e., entra como input cualquier CSV con\n",
    "# los datos de un sistema y optimiza de forma robusta.\n",
    "\n",
    "\n",
    "#Iniciación de paquetes\n",
    "using DataFrames, CSV\n",
    "using JuMP , HiGHS      # https://jump.dev/JuMP.jl/stable/manual/models/ \n",
    "using Gurobi\n",
    "using XLSX  # Se agrega para leer archivos .xlsx (Excel)\n",
    "\n",
    "#Definición de struct: FALTA AGREGAR MAS INSTANCIAS DE CADA STRUCT (seba)  \n",
    "\n",
    "# Barras\n",
    "struct Bus\n",
    "    Id::Int64       # Id del Bus\n",
    "    Vmax::Float64   # Voltaje maximo [pu]\n",
    "    Vmin::Float64   # Voltaje minimo [pu]\n",
    "    Gs::Float64\n",
    "    Bs::Float64\n",
    "end\n",
    "\n",
    "# Generadores\n",
    "struct Generador\n",
    "    Name::String\n",
    "    Bus::Int64    \n",
    "    PotMax::Float64\n",
    "    PotMin::Float64\n",
    "    Qmax::Float64\n",
    "    Qmin::Float64\n",
    "    Ramp::Float64\n",
    "    Sramp::Float64\n",
    "    MinUp::Float64\n",
    "    MinDn::Float64\n",
    "    InitS::Float64\n",
    "    InitP::Float64\n",
    "    StartCost::Float64\n",
    "    FixedCost::Float64\n",
    "    VariableCost::Float64\n",
    "    Tech::String\n",
    "    PminFactor::Float64 \n",
    "    Qfactor::Float64\n",
    "    RampFactor::Float64\n",
    "    StartUpCostFactor::Int64\n",
    "end\n",
    "\n",
    "# Potencias demandadas\n",
    "# La demanda la dejaria como un DataFrame y listo\n",
    "struct Demanda\n",
    "    T::Int64\n",
    "    Barra1::Int64\n",
    "    Barra2::Int64\n",
    "    Barra3::Int64\n",
    "    Barra4::Int64\n",
    "    Barra5::Int64\n",
    "    Barra6::Int64\n",
    "    Barra7::Int64\n",
    "    Barra8::Int64\n",
    "    Barra9::Int64\n",
    "end\n",
    "\n",
    "# Lineas de transmision\n",
    "# IMPORTANTE:   case014.xlsx tiene el inicio y fin como string. case118.xlsx los tiene como int\n",
    "#               Por lo tanto, se modifica el archivo case014.xlsx para poder leer de forma automatica\n",
    "struct Linea\n",
    "    Name::String    \n",
    "    Inicio::Int64       # Barra de Inicio\n",
    "    Fin::Int64          # Barra de Fin\n",
    "    R::Float64          # Resistencia\n",
    "    X::Float64          # Reactancia\n",
    "    LineCharging::Int64 # (B)\n",
    "    PotMax::Int64       # Potencia maxima a transportar\n",
    "end\n",
    "# Battery Energy Storage System\n",
    "struct BESS\n",
    "    Id::Int64\n",
    "    PotMax::Int64\n",
    "    Duration::Int64\n",
    "    Eff::Float64\n",
    "    Estart::Float64\n",
    "    Efinal::Float64\n",
    "    Barra::Int64\n",
    "end\n",
    "# Renewables -> tambien dejarlo como DataFrame\n",
    "\n",
    "##  Archivo Excel a leer\n",
    "archivo = \"Case014.xlsx\"    # se comienza con el caso mas pequeño\n",
    "xf = XLSX.readxlsx(archivo) # leer el archivo excel\n",
    "\n",
    "# Separar hojas del archivo\n",
    "sheet_buses = xf[\"Buses\"]\n",
    "sheet_demandas = xf[\"Demand\"]\n",
    "sheet_generadores = xf[\"Generators\"]\n",
    "sheet_lineas = xf[\"Lines\"]\n",
    "sheet_renovables = xf[\"Renewables\"]\n",
    "\n",
    "# Definir la función de parada\n",
    "# Se crea el DataFrame hasta que se reconozca la entrada \"END\"\n",
    "# De esta forma se puede leer tablas con cualquier numero de filas\n",
    "#   siempre y cuando terminen con un \"END\".\n",
    "function stop_condition(row)\n",
    "    return isempty(row[1]) || row[1] == \"END\"\n",
    "end\n",
    "\n",
    "# Crear DataFrames\n",
    "# XLSX.gettable(objeto hoja excel, Columnas de tabla, first_row= primera fila a considerar, stop_in_row_function: condicion dejar de leer)\n",
    "buses_ref       = DataFrame(XLSX.gettable(sheet_buses,\"A:E\",first_row=1,stop_in_row_function=stop_condition))\n",
    "demandaP_ref    = DataFrame(XLSX.gettable(sheet_demandas,\"A:Y\",first_row=2,stop_in_row_function=stop_condition))\n",
    "demandaQ_ref    = DataFrame(XLSX.gettable(sheet_demandas,\"AA:AY\",first_row=2,stop_in_row_function=stop_condition))\n",
    "generadores_ref = DataFrame(XLSX.gettable(sheet_generadores,\"A:T\",first_row=1,stop_in_row_function=stop_condition))\n",
    "lineas_ref      = DataFrame(XLSX.gettable(sheet_lineas,\"A:G\",first_row=1,stop_in_row_function=stop_condition))\n",
    "renovables_ref  = DataFrame(XLSX.gettable(sheet_renovables,\"A:Y\",first_row=2,stop_in_row_function=stop_condition))\n",
    "# Notar que se crean 2 DataFrame a partir de la hoja \"Demand\": Potencia activa (P) y potencia reactiva (Q).\n",
    "# Ademas, la fila considerada como inicio de la tabla es la fila 2, ya que la fila 1 solo hace distincion entre estas 2 potencias.\n",
    "# Lo mismo ocurre en el DataFrame \"renovables_ref\".\n",
    "\n",
    "# ESTO SE ELIMINARIA\n",
    "#######################################################\n",
    "#Importación de archivos\n",
    "#generators_ref  = CSV.File(\"Generators.csv\") |> DataFrame   # Crear DataFrame generadores\n",
    "#demand_ref      = CSV.File(\"Demand.csv\") |> DataFrame       # Crear DataFrame demanda\n",
    "#lines_ref       = CSV.File(\"Lines.csv\") |> DataFrame        # Crear DataFrame lineas tx\n",
    "#batteries_ref   = CSV.File(\"Bess.csv\") |> DataFrame         # Crear DataFrame baterias\n",
    "# Crear una copia \n",
    "#generators      = copy(generators_ref)\n",
    "#demand          = copy(demand_ref)\n",
    "#lines           = copy(lines_ref)\n",
    "#batteries       = copy(batteries_ref)\n",
    "#######################################################\n",
    "\n",
    "# Crear copias (aparentemente buena practica)\n",
    "buses = copy(buses_ref)\n",
    "demandP = copy(demandaP_ref[:,2:25])\n",
    "demandQ = copy(demandaQ_ref)\n",
    "generators = copy(generadores_ref)\n",
    "lines = copy(lineas_ref)\n",
    "renewables = copy(renovables_ref) \n",
    "\n",
    "#inclusión en variables\n",
    "P_base = 100\n",
    "T = ncol(demandP)           # N° bloques temporales\n",
    "N = nrow(buses)             # N° nodos \n",
    "I = nrow(generators)        # N° Generadores\n",
    "L = nrow(lines)             # N° Lineas\n",
    "#B = nrow(batteries)        # N° BESS\n",
    "\n",
    "# Debugg check\n",
    "println(\"Prueba de numero buses, deberia ser 14: \", N)\n",
    "\n",
    "# HASTA ACA LLEGUE (SEA -quien mas xdxdxdxd): 17/05 -\n",
    "\n",
    "# Listas que almacenan los Structs \n",
    "Buses       = []\n",
    "Gen         = []\n",
    "Demandas    = []\n",
    "Lineas      = []\n",
    "#Baterias    = []\n",
    "\n",
    "## Crear los Structs\n",
    "\n",
    "# Struct Bus\n",
    "# struct Bus\n",
    "#     Id::Int64       # Id del Bus\n",
    "#     Vmax::Float64   # Voltaje maximo [pu]\n",
    "#     Vmin::Float64   # Voltaje minimo [pu]\n",
    "#     Gs::Float64\n",
    "#     Bs::Float64\n",
    "# end\n",
    "for i in 1:N\n",
    "    x = Bus(\n",
    "        buses[i,1], # 1- Id\n",
    "        buses[i,2], # 2- Vmax [pu]\n",
    "        buses[i,3], # 3- Vmin [pu]\n",
    "        buses[i,4], # 4- Gs\n",
    "        buses[i,5]) # 8- Bs   \n",
    "    push!(Buses, x)\n",
    "end\n",
    "\n",
    "# Struct Generadores\n",
    "# struct Gen\n",
    "#     (1)Id:: Int64              \n",
    "#     (2)Name::String\n",
    "#     (3)Bus::Int64    \n",
    "#     (4)PotMax::Float64\n",
    "#     (5)PotMin::Float64\n",
    "#     (6)Qmax::Float64\n",
    "#     (7)Qmin::Float64\n",
    "#     (8)Ramp::Int64\n",
    "#     (9)Sramp::Int64\n",
    "#     (10)MinUp::Int64\n",
    "#     (11)MinDn::Int64\n",
    "#     (12)InitS::Int64\n",
    "#     (13)InitP::Int64\n",
    "#     (14)StartCost::Int64\n",
    "#     (15)FixedCost::Int64\n",
    "#     (16)VariableCost::Int64\n",
    "#     (17)Type::String\n",
    "#     (18)PminFactor::Float64 \n",
    "#     (19)Qfactor::Float64\n",
    "#     (20)RampFactor::Float64\n",
    "#     (21)StartUpCostFactor::Int64\n",
    "# end\n",
    "\n",
    "for i in 1:I\n",
    "    println(\"Generador\", i)\n",
    "    x = Generador(\n",
    "        generators[i,1],    # 1- Name\n",
    "        generators[i,2],    # 2- Bus\n",
    "        generators[i,3],    # 3- Pmax\n",
    "        generators[i,4],    # 4- Pmin\n",
    "        generators[i,5],    # 5- Qmax\n",
    "        generators[i,6],    # 6- Qmin\n",
    "        generators[i,7],    # 7- Ramp [Mw/h]\n",
    "        generators[i,8],    # 8- Sramp [Mw]\n",
    "        generators[i,9],    # 9- MinUp\n",
    "        generators[i,10],   # 10- MinDn\n",
    "        generators[i,11],   # 11- InitS\n",
    "        generators[i,12],   # 12- InitP\n",
    "        generators[i,13],   # 13- StartCost\n",
    "        generators[i,14],   # 14- FixedCost\n",
    "        generators[i,15],   # 15- VariableCost\n",
    "        generators[i,16],   # 16- Type\n",
    "        generators[i,17],   # 17- PminFactor\n",
    "        generators[i,18],   # 18- Qfactor\n",
    "        generators[i,19],   # 19- RampFactor\n",
    "        generators[i,20])   # 20- StartUpCostFactor\n",
    "    push!(Gen, x)\n",
    "end\n",
    "## println(Generadores[1].PotMax) ejemplo de como obtener un prámetro en particular\n",
    "\n",
    "# Struct Linea\n",
    "# struct Linea\n",
    "#     Id::Int64\n",
    "#     Name::String    \n",
    "#     Inicio::Int64       # Barra de Inicio\n",
    "#     Fin::Int64          # Barra de Fin\n",
    "#     R::Float64          # Resistencia\n",
    "#     X::Float64          # Reactancia\n",
    "#     LineCharging::Int64 # (B)\n",
    "#     PotMax::Int64       # Potencia maxima a transportar\n",
    "# end\n",
    "for i in 1:L\n",
    "    x = Linea(\n",
    "        lines[i,1], # 1- Name \n",
    "        lines[i,2], # 2- StartBus\n",
    "        lines[i,3], # 3- EndBus\n",
    "        lines[i,4], # 4- Resistance\n",
    "        lines[i,5], # 5- Reactance\n",
    "        lines[i,6], # 6- LineCharging(B)\n",
    "        lines[i,7]) # 7- MaxFlow [Mw]   \n",
    "    push!(Lineas, x)\n",
    "end\n",
    "\n",
    "println(\"Demanda nodo 14, hora 2: \", demandP[14,2])\n",
    "println(\"Size de demandaP_ref: \", size(demandaP_ref))\n",
    "println(\"Size de demandP: \", size(demandP))\n",
    "\n",
    "# Struct demanda (quizas quitarlo)\n",
    "# for i in 1:N\n",
    "#     x = [demand[i,2],demand[i,3],demand[i,4],demand[i,5],demand[i,6],demand[i,7]]\n",
    "#     push!(Demandas, x)\n",
    "# end\n",
    "\n",
    "# Crear Structs BESS\n",
    "# for b in 1:B\n",
    "#     x = BESS(batteries[b,1],batteries[b,2],batteries[b,3],batteries[b,4],\n",
    "#             batteries[b,5],batteries[b,6],batteries[b,7])\n",
    "#     push!(Baterias, x)\n",
    "# end\n",
    "\n",
    "\n",
    "####################################################################\n",
    "#               MODELO OPTIMIZACION\n",
    "####################################################################\n",
    "\n",
    "### Problema optimizacion\n",
    "model = Model(Gurobi.Optimizer) # Crear objeto \"modelo\" con el solver Gurobi\n",
    "\n",
    "## Variables\n",
    "\n",
    "# Variables Economic Dispatch\n",
    "@variable(model, p[1:I, 1:T] >= 0)  # Potencia activa de generador i en tiempo t. Valor en p.u.\n",
    "@variable(model, d[1:N, 1:T])       # angulo (d de degree) de la barra n en tiempo t\n",
    "\n",
    "# Variables nuevas (UC)\n",
    "# No se utiliza potencia reactiva: Aproximacion DC\n",
    "#@variable(model, q[1:I, 1:T])       # Potencia reactiva de generador i en tiempo t. Valor en p.u. (puede ser < 0)\n",
    "@variable(model, u[1:I, 1:T], Bin)       # AGREGAR NATURALEZA {0,1}. Indica encendido de gen i en t.\n",
    "@variable(model, v[1:I, 1:T], Bin)       # AGREGAR NATURALEZA {0,1}. Indica apagado de gen i en t.\n",
    "@variable(model, w[1:I, 1:T], Bin)       # AGREGAR NATURALEZA {0,1}. Estado ON(1)/OFF(0) de gen i en t.\n",
    "\n",
    "# Variables BESS (no se utilizan)\n",
    "#@variable(model, pb[1:B, 1:T])      # flujo de potencia del BESS b en tiempo t\n",
    "#@variable(model, e[1:B,1:T] >=0)    # energia almacenada en el BESS e en tiempo t\n",
    "\n",
    "## Funcion Objetivo\n",
    "@objective(model, Min, sum(Gen[i].VariableCost * p[i,t] +  Gen[i].FixedCost * w[i,t] + Gen[i].StartCost * u[i,t] for i in 1:I, t in 1:T ))\n",
    "\n",
    "### Restricciones\n",
    "\n",
    "# Equilibrio de Potenica (APROXIMACION: Flujo DC  --> Demanda Potencia Activa)\n",
    "@constraint(model, DCPowerFlowConstraint[n in 1:N, t in 1:T], \n",
    "sum(p[i,t] for i in 1:I if Gen[i].Bus == n) - demandP[n,t]      == \n",
    "P_base*sum( (1/Lineas[l].X) * (d[Lineas[l].Inicio,t] - d[Lineas[l].Fin,t]) for l in 1:L if Lineas[l].Inicio == n)\n",
    "+ P_base*sum( (1/Lineas[l].X) * (d[Lineas[l].Fin,t] - d[Lineas[l].Inicio,t]) for l in 1:L if Lineas[l].Fin == n))\n",
    "\n",
    "# + sum(pb[b,t] for b in 1:B if Baterias[b].Barra == n) | Al lado izquierdo de la ecuación (baterias)\n",
    "\n",
    "#Flujo en lineas. Se considera o de origen, y d de destino\n",
    "@constraint(model, LineMaxPotInicioFin[l in 1:L, t in 1:T], 1/Lineas[l].X * (d[Lineas[l].Inicio,t] - d[Lineas[l].Fin,t]) <= Lineas[l].PotMax/P_base) \n",
    "@constraint(model, LineMinPotFinInicio[l in 1:L, t in 1:T], -1/Lineas[l].X * (d[Lineas[l].Inicio,t] - d[Lineas[l].Fin,t]) <= Lineas[l].PotMax/P_base)\n",
    "#Angulo de referencia\n",
    "@constraint(model, RefDeg[1, t in 1:T], d[1,t] == 0)  \n",
    "\n",
    "### Restricciones de generadores\n",
    "\n",
    "## Potencias Activas y reactivas\n",
    "# Potencia Activa maxima\n",
    "@constraint(model, PMaxConstraint[i in 1:I, t in 1:T], p[i,t] <= w[i,t]*Gen[i].PotMax)\n",
    "# Potencia Activa minima\n",
    "@constraint(model, PMinConstraint[i in 1:I, t in 1:T], w[i,t]*Gen[i].PotMin <= p[i,t])\n",
    "\n",
    "# Potencia Reactiva maxima\n",
    "#@constraint(model, QMaxConstraint[i in 1:I, t in 1:T], q[i,t] <= Gen[i].QMax)\n",
    "# Potencia Reactiva minima\n",
    "#@constraint(model, QMinConstraint[i in 1:I, t in 1:T], Gen[i].QMin <= q[i,t])\n",
    "\n",
    "## Rampas\n",
    "# Rampa up\n",
    "@constraint(model, RampUpConstaint[i in 1:I, t in 2:T], (p[i,t] - p[i,t-1]) <= Gen[i].Ramp + Gen[i].Sramp*u[i,t])\n",
    "# Rampa dn\n",
    "@constraint(model, RampDownConstaint[i in 1:I, t in 2:T], (p[i,t] - p[i,t-1]) >= 0-Gen[i].Ramp - Gen[i].Sramp*v[i,t])\n",
    "\n",
    "## Estados Binarios\n",
    "@constraint(model, BinaryState[i in 1:I, t in 2:T], (u[i,t] - v[i,t]) == (w[i,t] - w[i,t-1]))\n",
    "#@constraint(model, BinaryInitial[i in 1:I], (w[i,1] = State0[i]))   # Condicion inicial, por ahora libre\n",
    "\n",
    "## Tiempo minimo de encendido: sumo todos los x dentro de la ventana desde t=1 hasta el instante enterior al encendido\n",
    "@constraint(model, MinUpTime[i in 1:I, t in 2:T], sum(w[i,k] for k in 1:(t-1) if k >= t-Gen[i].MinUp) >= v[i,t]*Gen[i].MinUp)\n",
    "## Tiempo minimo de apagado\n",
    "@constraint(model, MinDnTime[i in 1:I, t in 2:T], sum((1-w[i,k]) for k in 1:(t-1) if k >= t-Gen[i].MinDn) >= u[i,t]*Gen[i].MinDn)\n",
    "\n",
    "\n",
    "\n",
    "# Restricciones de BESS\n",
    "# Energia maxima\n",
    "#@constraint(model, EnergyMax[b in 1:B, t in 1:T], e[b,t] <= (Baterias[b].PotMax)*(Baterias[b].Duration))\n",
    "# Potencia maxima descarga\n",
    "#@constraint(model, PMaxBessDischarge[b in 1:B, t in 1:T], pb[b,t] <= Baterias[b].PotMax)\n",
    "# Potencia maxima carga\n",
    "#@constraint(model, PMaxBessCharge[b in 1:B, t in 1:T], pb[b,t] >= -1*(Baterias[b].PotMax))\n",
    "## Imposibilidad de generacion - E inicial\n",
    "#@constraint(model, Estart[b in 1:B], e[b,1] == (Baterias[b].Estart)*(Baterias[b].PotMax)*(Baterias[b].Duration))\n",
    "# Imposibilidad de generacion - E final\n",
    "#@constraint(model, Efinal[b in 1:B], e[b,T] == (Baterias[b].Efinal)*(Baterias[b].PotMax)*(Baterias[b].Duration))\n",
    "# Dinamica BESS\n",
    "#@constraint(model, DynamicBESS[b in 1:B, t in 2:T], e[b,t] == e[b,t-1] - pb[b,t])\n",
    "\n",
    "#############################################################\n",
    "\n",
    "\n",
    "################################################ ACTUALIZADO 24-05 (00:10 AM) -SEA ################################\n",
    "### Notas:\n",
    "#   - Siento que hay que agregar BinaryState0 -> Con los resultados se pueden analizar incongruencias\n",
    "#   - Por lo mismo, las constraints de MinUpTime y MinDnTime no me terminan de convencer\n",
    "#   - SI O SI, hay que fijar p[r,t] == gr[t], es decir, las potencias generadas por renovables estan\n",
    "#       fijas. HINT: los renovables están al final de la tabla de generadores. \n",
    "\n",
    "# constraint[i in (I-a):I, t in 1:T], p[i,t] == renewable[i,t] | una wea asi\n",
    "\n",
    "##############################################################\n",
    "\n",
    "\n",
    "JuMP.optimize!(model)"
   ]
  },
  {
   "cell_type": "markdown",
   "metadata": {},
   "source": [
    "## Valor objetivo"
   ]
  },
  {
   "cell_type": "code",
   "execution_count": 13,
   "metadata": {},
   "outputs": [
    {
     "data": {
      "text/plain": [
       "180456.9974258979"
      ]
     },
     "metadata": {},
     "output_type": "display_data"
    }
   ],
   "source": [
    "JuMP.objective_value(model)"
   ]
  },
  {
   "cell_type": "code",
   "execution_count": 14,
   "metadata": {},
   "outputs": [
    {
     "name": "stdout",
     "output_type": "stream",
     "text": [
      "Valor en t=1 :100.0\n",
      "Valor en t=2 :97.2\n",
      "Valor en t=3 :94.1\n",
      "Valor en t=4 :81.00080437572413\n",
      "Valor en t=5 :74.60080437572412\n",
      "Valor en t=6 :90.5\n",
      "Valor en t=7 :100.0\n",
      "Valor en t=8 :100.0\n",
      "Valor en t=9 :100.0\n",
      "Valor en t=10 :100.0\n",
      "Valor en t=11 :100.0\n",
      "Valor en t=12 :100.0\n",
      "Valor en t=13 :100.0\n",
      "Valor en t=14 :100.0\n",
      "Valor en t=15 :100.0\n",
      "Valor en t=16 :100.0\n",
      "Valor en t=17 :100.0\n",
      "Valor en t=18 :100.0\n",
      "Valor en t=19 :100.0\n",
      "Valor en t=20 :100.0\n",
      "Valor en t=21 :100.0\n",
      "Valor en t=22 :100.0\n",
      "Valor en t=23 :100.0\n",
      "Valor en t=24 :100.0\n"
     ]
    }
   ],
   "source": [
    "for t=1:T\n",
    "    println(\"Valor en t=\", t,\" :\", JuMP.value(p[1,t]))\n",
    "end"
   ]
  },
  {
   "cell_type": "code",
   "execution_count": 11,
   "metadata": {},
   "outputs": [
    {
     "data": {
      "text/plain": [
       "24"
      ]
     },
     "metadata": {},
     "output_type": "display_data"
    }
   ],
   "source": [
    "ncol(demandP)"
   ]
  },
  {
   "cell_type": "code",
   "execution_count": null,
   "metadata": {},
   "outputs": [],
   "source": []
  }
 ],
 "metadata": {
  "kernelspec": {
   "display_name": "Julia 1.9.3",
   "language": "julia",
   "name": "julia-1.9"
  },
  "language_info": {
   "file_extension": ".jl",
   "mimetype": "application/julia",
   "name": "julia",
   "version": "1.9.3"
  }
 },
 "nbformat": 4,
 "nbformat_minor": 2
}
