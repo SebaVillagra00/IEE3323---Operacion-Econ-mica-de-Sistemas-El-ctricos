{
 "cells": [
  {
   "cell_type": "markdown",
   "metadata": {},
   "source": [
    "# Tarea 2: Unit Commitment\n",
    "## Pruebas"
   ]
  },
  {
   "cell_type": "code",
   "execution_count": 21,
   "metadata": {},
   "outputs": [],
   "source": [
    "using DataFrames, XLSX\n",
    "using JuMP , HiGHS      # https://jump.dev/JuMP.jl/stable/manual/models/ \n",
    "using Gurobi"
   ]
  },
  {
   "cell_type": "markdown",
   "metadata": {},
   "source": [
    "Leer archivo excel"
   ]
  },
  {
   "cell_type": "code",
   "execution_count": 38,
   "metadata": {},
   "outputs": [
    {
     "data": {
      "text/plain": [
       "XLSXFile(\"Case014.XLSX\") containing 5 Worksheets\n",
       "            sheetname size          range        \n",
       "-------------------------------------------------\n",
       "                Buses 22x5          A1:E22       \n",
       "               Demand 19x51         A1:AY19      \n",
       "           Generators 11x20         A1:T11       \n",
       "                Lines 22x7          A1:G22       \n",
       "           Renewables 30x25         A1:Y30       \n"
      ]
     },
     "metadata": {},
     "output_type": "display_data"
    }
   ],
   "source": [
    "xf = XLSX.readxlsx(\"Case014.XLSX\")"
   ]
  },
  {
   "cell_type": "markdown",
   "metadata": {},
   "source": [
    "Nombres de cada hoja"
   ]
  },
  {
   "cell_type": "code",
   "execution_count": 39,
   "metadata": {},
   "outputs": [
    {
     "data": {
      "text/plain": [
       "5-element Vector{String}:\n",
       " \"Buses\"\n",
       " \"Demand\"\n",
       " \"Generators\"\n",
       " \"Lines\"\n",
       " \"Renewables\""
      ]
     },
     "metadata": {},
     "output_type": "display_data"
    }
   ],
   "source": [
    "XLSX.sheetnames(xf)[1:5]"
   ]
  },
  {
   "cell_type": "code",
   "execution_count": 40,
   "metadata": {},
   "outputs": [
    {
     "data": {
      "text/plain": [
       "\"Demand\""
      ]
     },
     "metadata": {},
     "output_type": "display_data"
    }
   ],
   "source": [
    "XLSX.sheetnames(xf)[2]"
   ]
  },
  {
   "cell_type": "code",
   "execution_count": 41,
   "metadata": {},
   "outputs": [
    {
     "data": {
      "text/plain": [
       "5"
      ]
     },
     "metadata": {},
     "output_type": "display_data"
    }
   ],
   "source": [
    "length(XLSX.sheetnames(xf))"
   ]
  },
  {
   "cell_type": "markdown",
   "metadata": {},
   "source": [
    "Guardar hojas en lugares distintos"
   ]
  },
  {
   "cell_type": "code",
   "execution_count": 42,
   "metadata": {},
   "outputs": [
    {
     "data": {
      "text/plain": [
       "30×25 XLSX.Worksheet: [\"Renewables\"](A1:Y30) "
      ]
     },
     "metadata": {},
     "output_type": "display_data"
    }
   ],
   "source": [
    "buses = xf[\"Buses\"]\n",
    "demanda = xf[\"Demand\"]\n",
    "generadores = xf[\"Generators\"]\n",
    "lineas = xf[\"Lines\"]\n",
    "renovables = xf[\"Renewables\"] "
   ]
  },
  {
   "cell_type": "markdown",
   "metadata": {},
   "source": [
    "Acceder a datos"
   ]
  },
  {
   "cell_type": "code",
   "execution_count": 27,
   "metadata": {},
   "outputs": [
    {
     "name": "stdout",
     "output_type": "stream",
     "text": [
      "31.167028084846212\n",
      "31.167028084846212\n"
     ]
    }
   ],
   "source": [
    "println(renovables[\"B3\"])   # B3\n",
    "println(renovables[3,2])    # fila3 , columna2(B)"
   ]
  },
  {
   "cell_type": "code",
   "execution_count": 28,
   "metadata": {},
   "outputs": [
    {
     "data": {
      "text/plain": [
       "3×4 Matrix{Any}:\n",
       " \"Gen/Hour\"   1       2        3\n",
       " \"Wind2\"     31.167  29.4256  27.6723\n",
       " \"Solar8\"     0.0     0.0      0.0"
      ]
     },
     "metadata": {},
     "output_type": "display_data"
    }
   ],
   "source": [
    "renovables[\"A2:D4\"]"
   ]
  },
  {
   "cell_type": "code",
   "execution_count": 29,
   "metadata": {},
   "outputs": [
    {
     "ename": "ArgumentError",
     "evalue": "ArgumentError: `DataFrame` constructor from a `Matrix` requires passing :auto as a second argument to automatically generate column names: `DataFrame(matrix, :auto)`",
     "output_type": "error",
     "traceback": [
      "ArgumentError: `DataFrame` constructor from a `Matrix` requires passing :auto as a second argument to automatically generate column names: `DataFrame(matrix, :auto)`\n",
      "\n",
      "Stacktrace:\n",
      " [1] DataFrame(matrix::Matrix{Any})\n",
      "   @ DataFrames C:\\Users\\sevil\\.julia\\packages\\DataFrames\\58MUJ\\src\\dataframe\\dataframe.jl:400\n",
      " [2] top-level scope\n",
      "   @ c:\\Users\\sevil\\Desktop\\PUC-Local\\IEE3323---Operacion-Econ-mica-de-Sistemas-El-ctricos\\UnitCommitment (T2)\\testsXLSX.ipynb:1"
     ]
    }
   ],
   "source": [
    "df3 = DataFrame(renovables[\"A2:D4\"])"
   ]
  },
  {
   "cell_type": "markdown",
   "metadata": {},
   "source": [
    "Funcion de detencion (en \"END\")"
   ]
  },
  {
   "cell_type": "code",
   "execution_count": 30,
   "metadata": {},
   "outputs": [
    {
     "data": {
      "text/plain": [
       "stop_condition (generic function with 1 method)"
      ]
     },
     "metadata": {},
     "output_type": "display_data"
    }
   ],
   "source": [
    "# Definir la función de parada\n",
    "function stop_condition(row)\n",
    "    return isempty(row[1]) || row[1] == \"END\"\n",
    "end"
   ]
  },
  {
   "cell_type": "markdown",
   "metadata": {},
   "source": [
    "### Leer tablas de hojas de datos"
   ]
  },
  {
   "cell_type": "markdown",
   "metadata": {},
   "source": [
    "Buses"
   ]
  },
  {
   "cell_type": "code",
   "execution_count": 31,
   "metadata": {},
   "outputs": [
    {
     "data": {
      "text/html": [
       "<div><div style = \"float: left;\"><span>14×2 DataFrame</span></div><div style = \"clear: both;\"></div></div><div class = \"data-frame\" style = \"overflow-x: scroll;\"><table class = \"data-frame\" style = \"margin-bottom: 6px;\"><thead><tr class = \"header\"><th class = \"rowNumber\" style = \"font-weight: bold; text-align: right;\">Row</th><th style = \"text-align: left;\">Bus</th><th style = \"text-align: left;\">Vmax [pu]</th></tr><tr class = \"subheader headerLastRow\"><th class = \"rowNumber\" style = \"font-weight: bold; text-align: right;\"></th><th title = \"Any\" style = \"text-align: left;\">Any</th><th title = \"Any\" style = \"text-align: left;\">Any</th></tr></thead><tbody><tr><td class = \"rowNumber\" style = \"font-weight: bold; text-align: right;\">1</td><td style = \"text-align: left;\">Bus1</td><td style = \"text-align: left;\">1.06</td></tr><tr><td class = \"rowNumber\" style = \"font-weight: bold; text-align: right;\">2</td><td style = \"text-align: left;\">Bus2</td><td style = \"text-align: left;\">1.06</td></tr><tr><td class = \"rowNumber\" style = \"font-weight: bold; text-align: right;\">3</td><td style = \"text-align: left;\">Bus3</td><td style = \"text-align: left;\">1.06</td></tr><tr><td class = \"rowNumber\" style = \"font-weight: bold; text-align: right;\">4</td><td style = \"text-align: left;\">Bus4</td><td style = \"text-align: left;\">1.06</td></tr><tr><td class = \"rowNumber\" style = \"font-weight: bold; text-align: right;\">5</td><td style = \"text-align: left;\">Bus5</td><td style = \"text-align: left;\">1.06</td></tr><tr><td class = \"rowNumber\" style = \"font-weight: bold; text-align: right;\">6</td><td style = \"text-align: left;\">Bus6</td><td style = \"text-align: left;\">1.06</td></tr><tr><td class = \"rowNumber\" style = \"font-weight: bold; text-align: right;\">7</td><td style = \"text-align: left;\">Bus7</td><td style = \"text-align: left;\">1.06</td></tr><tr><td class = \"rowNumber\" style = \"font-weight: bold; text-align: right;\">8</td><td style = \"text-align: left;\">Bus8</td><td style = \"text-align: left;\">1.06</td></tr><tr><td class = \"rowNumber\" style = \"font-weight: bold; text-align: right;\">9</td><td style = \"text-align: left;\">Bus9</td><td style = \"text-align: left;\">1.06</td></tr><tr><td class = \"rowNumber\" style = \"font-weight: bold; text-align: right;\">10</td><td style = \"text-align: left;\">Bus10</td><td style = \"text-align: left;\">1.06</td></tr><tr><td class = \"rowNumber\" style = \"font-weight: bold; text-align: right;\">11</td><td style = \"text-align: left;\">Bus11</td><td style = \"text-align: left;\">1.06</td></tr><tr><td class = \"rowNumber\" style = \"font-weight: bold; text-align: right;\">12</td><td style = \"text-align: left;\">Bus12</td><td style = \"text-align: left;\">1.06</td></tr><tr><td class = \"rowNumber\" style = \"font-weight: bold; text-align: right;\">13</td><td style = \"text-align: left;\">Bus13</td><td style = \"text-align: left;\">1.06</td></tr><tr><td class = \"rowNumber\" style = \"font-weight: bold; text-align: right;\">14</td><td style = \"text-align: left;\">Bus14</td><td style = \"text-align: left;\">1.06</td></tr></tbody></table></div>"
      ],
      "text/latex": [
       "\\begin{tabular}{r|cc}\n",
       "\t& Bus & Vmax [pu]\\\\\n",
       "\t\\hline\n",
       "\t& Any & Any\\\\\n",
       "\t\\hline\n",
       "\t1 & Bus1 & 1.06 \\\\\n",
       "\t2 & Bus2 & 1.06 \\\\\n",
       "\t3 & Bus3 & 1.06 \\\\\n",
       "\t4 & Bus4 & 1.06 \\\\\n",
       "\t5 & Bus5 & 1.06 \\\\\n",
       "\t6 & Bus6 & 1.06 \\\\\n",
       "\t7 & Bus7 & 1.06 \\\\\n",
       "\t8 & Bus8 & 1.06 \\\\\n",
       "\t9 & Bus9 & 1.06 \\\\\n",
       "\t10 & Bus10 & 1.06 \\\\\n",
       "\t11 & Bus11 & 1.06 \\\\\n",
       "\t12 & Bus12 & 1.06 \\\\\n",
       "\t13 & Bus13 & 1.06 \\\\\n",
       "\t14 & Bus14 & 1.06 \\\\\n",
       "\\end{tabular}\n"
      ],
      "text/plain": [
       "\u001b[1m14×2 DataFrame\u001b[0m\n",
       "\u001b[1m Row \u001b[0m│\u001b[1m Bus   \u001b[0m\u001b[1m Vmax [pu] \u001b[0m\n",
       "     │\u001b[90m Any   \u001b[0m\u001b[90m Any       \u001b[0m\n",
       "─────┼──────────────────\n",
       "   1 │ Bus1   1.06\n",
       "   2 │ Bus2   1.06\n",
       "   3 │ Bus3   1.06\n",
       "   4 │ Bus4   1.06\n",
       "   5 │ Bus5   1.06\n",
       "   6 │ Bus6   1.06\n",
       "   7 │ Bus7   1.06\n",
       "   8 │ Bus8   1.06\n",
       "   9 │ Bus9   1.06\n",
       "  10 │ Bus10  1.06\n",
       "  11 │ Bus11  1.06\n",
       "  12 │ Bus12  1.06\n",
       "  13 │ Bus13  1.06\n",
       "  14 │ Bus14  1.06"
      ]
     },
     "metadata": {},
     "output_type": "display_data"
    }
   ],
   "source": [
    "df1 = DataFrame(XLSX.gettable(buses,\"A:B\",stop_in_row_function=stop_condition))"
   ]
  },
  {
   "cell_type": "code",
   "execution_count": 32,
   "metadata": {},
   "outputs": [
    {
     "data": {
      "text/plain": [
       "\"Bus1\""
      ]
     },
     "metadata": {},
     "output_type": "display_data"
    }
   ],
   "source": [
    "df1[1,1]"
   ]
  },
  {
   "cell_type": "code",
   "execution_count": 35,
   "metadata": {},
   "outputs": [
    {
     "data": {
      "text/plain": [
       "Float64"
      ]
     },
     "metadata": {},
     "output_type": "display_data"
    }
   ],
   "source": [
    "typeof(df1[1,2])"
   ]
  },
  {
   "cell_type": "code",
   "execution_count": 34,
   "metadata": {},
   "outputs": [
    {
     "ename": "ArgumentError",
     "evalue": "ArgumentError: cannot parse \"Bus1\" as Float64",
     "output_type": "error",
     "traceback": [
      "ArgumentError: cannot parse \"Bus1\" as Float64\n",
      "\n",
      "Stacktrace:\n",
      " [1] _parse_failure(T::Type, s::String, startpos::Int64, endpos::Int64)\n",
      "   @ Base .\\parse.jl:378\n",
      " [2] _parse_failure(T::Type, s::String)\n",
      "   @ Base .\\parse.jl:378\n",
      " [3] #tryparse_internal#509\n",
      "   @ .\\parse.jl:374 [inlined]\n",
      " [4] tryparse_internal\n",
      "   @ .\\parse.jl:371 [inlined]\n",
      " [5] #parse#510\n",
      "   @ .\\parse.jl:384 [inlined]\n",
      " [6] parse(::Type{Float64}, s::String)\n",
      "   @ Base .\\parse.jl:384\n",
      " [7] top-level scope\n",
      "   @ c:\\Users\\sevil\\Desktop\\PUC-Local\\IEE3323---Operacion-Econ-mica-de-Sistemas-El-ctricos\\UnitCommitment (T2)\\testsXLSX.ipynb:1"
     ]
    }
   ],
   "source": [
    "parse(Float64, df1[1,1])"
   ]
  },
  {
   "cell_type": "markdown",
   "metadata": {},
   "source": [
    "Caso de demanda reactiva (Q)"
   ]
  },
  {
   "cell_type": "code",
   "execution_count": 90,
   "metadata": {},
   "outputs": [
    {
     "data": {
      "text/html": [
       "<div><div style = \"float: left;\"><span>14×25 DataFrame</span></div><div style = \"clear: both;\"></div></div><div class = \"data-frame\" style = \"overflow-x: scroll;\"><table class = \"data-frame\" style = \"margin-bottom: 6px;\"><thead><tr class = \"header\"><th class = \"rowNumber\" style = \"font-weight: bold; text-align: right;\">Row</th><th style = \"text-align: left;\">Bus/Hour</th><th style = \"text-align: left;\">1</th><th style = \"text-align: left;\">2</th><th style = \"text-align: left;\">3</th><th style = \"text-align: left;\">4</th><th style = \"text-align: left;\">5</th><th style = \"text-align: left;\">6</th><th style = \"text-align: left;\">7</th><th style = \"text-align: left;\">8</th><th style = \"text-align: left;\">9</th><th style = \"text-align: left;\">10</th><th style = \"text-align: left;\">11</th><th style = \"text-align: left;\">12</th><th style = \"text-align: left;\">13</th><th style = \"text-align: left;\">14</th><th style = \"text-align: left;\">15</th><th style = \"text-align: left;\">16</th><th style = \"text-align: left;\">17</th><th style = \"text-align: left;\">18</th><th style = \"text-align: left;\">19</th><th style = \"text-align: left;\">20</th><th style = \"text-align: left;\">21</th><th style = \"text-align: left;\">22</th><th style = \"text-align: left;\">23</th><th style = \"text-align: left;\">24</th></tr><tr class = \"subheader headerLastRow\"><th class = \"rowNumber\" style = \"font-weight: bold; text-align: right;\"></th><th title = \"Any\" style = \"text-align: left;\">Any</th><th title = \"Any\" style = \"text-align: left;\">Any</th><th title = \"Any\" style = \"text-align: left;\">Any</th><th title = \"Any\" style = \"text-align: left;\">Any</th><th title = \"Any\" style = \"text-align: left;\">Any</th><th title = \"Any\" style = \"text-align: left;\">Any</th><th title = \"Any\" style = \"text-align: left;\">Any</th><th title = \"Any\" style = \"text-align: left;\">Any</th><th title = \"Any\" style = \"text-align: left;\">Any</th><th title = \"Any\" style = \"text-align: left;\">Any</th><th title = \"Any\" style = \"text-align: left;\">Any</th><th title = \"Any\" style = \"text-align: left;\">Any</th><th title = \"Any\" style = \"text-align: left;\">Any</th><th title = \"Any\" style = \"text-align: left;\">Any</th><th title = \"Any\" style = \"text-align: left;\">Any</th><th title = \"Any\" style = \"text-align: left;\">Any</th><th title = \"Any\" style = \"text-align: left;\">Any</th><th title = \"Any\" style = \"text-align: left;\">Any</th><th title = \"Any\" style = \"text-align: left;\">Any</th><th title = \"Any\" style = \"text-align: left;\">Any</th><th title = \"Any\" style = \"text-align: left;\">Any</th><th title = \"Any\" style = \"text-align: left;\">Any</th><th title = \"Any\" style = \"text-align: left;\">Any</th><th title = \"Any\" style = \"text-align: left;\">Any</th><th title = \"Any\" style = \"text-align: left;\">Any</th></tr></thead><tbody><tr><td class = \"rowNumber\" style = \"font-weight: bold; text-align: right;\">1</td><td style = \"text-align: left;\">Bus1</td><td style = \"text-align: left;\">0.0</td><td style = \"text-align: left;\">0.0</td><td style = \"text-align: left;\">0.0</td><td style = \"text-align: left;\">0.0</td><td style = \"text-align: left;\">0.0</td><td style = \"text-align: left;\">0.0</td><td style = \"text-align: left;\">0.0</td><td style = \"text-align: left;\">0.0</td><td style = \"text-align: left;\">0.0</td><td style = \"text-align: left;\">0.0</td><td style = \"text-align: left;\">0.0</td><td style = \"text-align: left;\">0.0</td><td style = \"text-align: left;\">0.0</td><td style = \"text-align: left;\">0.0</td><td style = \"text-align: left;\">0.0</td><td style = \"text-align: left;\">0.0</td><td style = \"text-align: left;\">0.0</td><td style = \"text-align: left;\">0.0</td><td style = \"text-align: left;\">0.0</td><td style = \"text-align: left;\">0.0</td><td style = \"text-align: left;\">0.0</td><td style = \"text-align: left;\">0.0</td><td style = \"text-align: left;\">0.0</td><td style = \"text-align: left;\">0.0</td></tr><tr><td class = \"rowNumber\" style = \"font-weight: bold; text-align: right;\">2</td><td style = \"text-align: left;\">Bus2</td><td style = \"text-align: left;\">12.7</td><td style = \"text-align: left;\">10.3561</td><td style = \"text-align: left;\">9.10085</td><td style = \"text-align: left;\">8.15938</td><td style = \"text-align: left;\">7.84556</td><td style = \"text-align: left;\">9.41467</td><td style = \"text-align: left;\">10.9838</td><td style = \"text-align: left;\">12.2391</td><td style = \"text-align: left;\">12.8667</td><td style = \"text-align: left;\">13.8082</td><td style = \"text-align: left;\">13.9651</td><td style = \"text-align: left;\">13.1805</td><td style = \"text-align: left;\">12.5529</td><td style = \"text-align: left;\">11.9253</td><td style = \"text-align: left;\">13.8082</td><td style = \"text-align: left;\">14.122</td><td style = \"text-align: left;\">13.3375</td><td style = \"text-align: left;\">13.9651</td><td style = \"text-align: left;\">14.7497</td><td style = \"text-align: left;\">15.3773</td><td style = \"text-align: left;\">15.6911</td><td style = \"text-align: left;\">14.122</td><td style = \"text-align: left;\">13.6513</td><td style = \"text-align: left;\">12.8667</td></tr><tr><td class = \"rowNumber\" style = \"font-weight: bold; text-align: right;\">3</td><td style = \"text-align: left;\">Bus3</td><td style = \"text-align: left;\">19.0</td><td style = \"text-align: left;\">15.4934</td><td style = \"text-align: left;\">13.6154</td><td style = \"text-align: left;\">12.2069</td><td style = \"text-align: left;\">11.7375</td><td style = \"text-align: left;\">14.0849</td><td style = \"text-align: left;\">16.4324</td><td style = \"text-align: left;\">18.3104</td><td style = \"text-align: left;\">19.2494</td><td style = \"text-align: left;\">20.6579</td><td style = \"text-align: left;\">20.8927</td><td style = \"text-align: left;\">19.7189</td><td style = \"text-align: left;\">18.7799</td><td style = \"text-align: left;\">17.8409</td><td style = \"text-align: left;\">20.6579</td><td style = \"text-align: left;\">21.1274</td><td style = \"text-align: left;\">19.9537</td><td style = \"text-align: left;\">20.8927</td><td style = \"text-align: left;\">22.0664</td><td style = \"text-align: left;\">23.0054</td><td style = \"text-align: left;\">23.4749</td><td style = \"text-align: left;\">21.1274</td><td style = \"text-align: left;\">20.4232</td><td style = \"text-align: left;\">19.2494</td></tr><tr><td class = \"rowNumber\" style = \"font-weight: bold; text-align: right;\">4</td><td style = \"text-align: left;\">Bus4</td><td style = \"text-align: left;\">-3.9</td><td style = \"text-align: left;\">-3.18023</td><td style = \"text-align: left;\">-2.79475</td><td style = \"text-align: left;\">-2.50564</td><td style = \"text-align: left;\">-2.40927</td><td style = \"text-align: left;\">-2.89112</td><td style = \"text-align: left;\">-3.37297</td><td style = \"text-align: left;\">-3.75846</td><td style = \"text-align: left;\">-3.9512</td><td style = \"text-align: left;\">-4.24031</td><td style = \"text-align: left;\">-4.28849</td><td style = \"text-align: left;\">-4.04757</td><td style = \"text-align: left;\">-3.85483</td><td style = \"text-align: left;\">-3.66208</td><td style = \"text-align: left;\">-4.24031</td><td style = \"text-align: left;\">-4.33668</td><td style = \"text-align: left;\">-4.09575</td><td style = \"text-align: left;\">-4.28849</td><td style = \"text-align: left;\">-4.52942</td><td style = \"text-align: left;\">-4.72216</td><td style = \"text-align: left;\">-4.81853</td><td style = \"text-align: left;\">-4.33668</td><td style = \"text-align: left;\">-4.19212</td><td style = \"text-align: left;\">-3.9512</td></tr><tr><td class = \"rowNumber\" style = \"font-weight: bold; text-align: right;\">5</td><td style = \"text-align: left;\">Bus5</td><td style = \"text-align: left;\">1.6</td><td style = \"text-align: left;\">1.30471</td><td style = \"text-align: left;\">1.14656</td><td style = \"text-align: left;\">1.02795</td><td style = \"text-align: left;\">0.988417</td><td style = \"text-align: left;\">1.1861</td><td style = \"text-align: left;\">1.38378</td><td style = \"text-align: left;\">1.54193</td><td style = \"text-align: left;\">1.621</td><td style = \"text-align: left;\">1.73961</td><td style = \"text-align: left;\">1.75938</td><td style = \"text-align: left;\">1.66054</td><td style = \"text-align: left;\">1.58147</td><td style = \"text-align: left;\">1.50239</td><td style = \"text-align: left;\">1.73961</td><td style = \"text-align: left;\">1.77915</td><td style = \"text-align: left;\">1.68031</td><td style = \"text-align: left;\">1.75938</td><td style = \"text-align: left;\">1.85822</td><td style = \"text-align: left;\">1.9373</td><td style = \"text-align: left;\">1.97683</td><td style = \"text-align: left;\">1.77915</td><td style = \"text-align: left;\">1.71985</td><td style = \"text-align: left;\">1.621</td></tr><tr><td class = \"rowNumber\" style = \"font-weight: bold; text-align: right;\">6</td><td style = \"text-align: left;\">Bus6</td><td style = \"text-align: left;\">7.5</td><td style = \"text-align: left;\">6.11583</td><td style = \"text-align: left;\">5.37452</td><td style = \"text-align: left;\">4.81853</td><td style = \"text-align: left;\">4.6332</td><td style = \"text-align: left;\">5.55985</td><td style = \"text-align: left;\">6.48649</td><td style = \"text-align: left;\">7.2278</td><td style = \"text-align: left;\">7.59846</td><td style = \"text-align: left;\">8.15444</td><td style = \"text-align: left;\">8.2471</td><td style = \"text-align: left;\">7.78378</td><td style = \"text-align: left;\">7.41313</td><td style = \"text-align: left;\">7.04247</td><td style = \"text-align: left;\">8.15444</td><td style = \"text-align: left;\">8.33977</td><td style = \"text-align: left;\">7.87645</td><td style = \"text-align: left;\">8.2471</td><td style = \"text-align: left;\">8.71042</td><td style = \"text-align: left;\">9.08108</td><td style = \"text-align: left;\">9.26641</td><td style = \"text-align: left;\">8.33977</td><td style = \"text-align: left;\">8.06178</td><td style = \"text-align: left;\">7.59846</td></tr><tr><td class = \"rowNumber\" style = \"font-weight: bold; text-align: right;\">7</td><td style = \"text-align: left;\">Bus7</td><td style = \"text-align: left;\">0.0</td><td style = \"text-align: left;\">0.0</td><td style = \"text-align: left;\">0.0</td><td style = \"text-align: left;\">0.0</td><td style = \"text-align: left;\">0.0</td><td style = \"text-align: left;\">0.0</td><td style = \"text-align: left;\">0.0</td><td style = \"text-align: left;\">0.0</td><td style = \"text-align: left;\">0.0</td><td style = \"text-align: left;\">0.0</td><td style = \"text-align: left;\">0.0</td><td style = \"text-align: left;\">0.0</td><td style = \"text-align: left;\">0.0</td><td style = \"text-align: left;\">0.0</td><td style = \"text-align: left;\">0.0</td><td style = \"text-align: left;\">0.0</td><td style = \"text-align: left;\">0.0</td><td style = \"text-align: left;\">0.0</td><td style = \"text-align: left;\">0.0</td><td style = \"text-align: left;\">0.0</td><td style = \"text-align: left;\">0.0</td><td style = \"text-align: left;\">0.0</td><td style = \"text-align: left;\">0.0</td><td style = \"text-align: left;\">0.0</td></tr><tr><td class = \"rowNumber\" style = \"font-weight: bold; text-align: right;\">8</td><td style = \"text-align: left;\">Bus8</td><td style = \"text-align: left;\">0.0</td><td style = \"text-align: left;\">0.0</td><td style = \"text-align: left;\">0.0</td><td style = \"text-align: left;\">0.0</td><td style = \"text-align: left;\">0.0</td><td style = \"text-align: left;\">0.0</td><td style = \"text-align: left;\">0.0</td><td style = \"text-align: left;\">0.0</td><td style = \"text-align: left;\">0.0</td><td style = \"text-align: left;\">0.0</td><td style = \"text-align: left;\">0.0</td><td style = \"text-align: left;\">0.0</td><td style = \"text-align: left;\">0.0</td><td style = \"text-align: left;\">0.0</td><td style = \"text-align: left;\">0.0</td><td style = \"text-align: left;\">0.0</td><td style = \"text-align: left;\">0.0</td><td style = \"text-align: left;\">0.0</td><td style = \"text-align: left;\">0.0</td><td style = \"text-align: left;\">0.0</td><td style = \"text-align: left;\">0.0</td><td style = \"text-align: left;\">0.0</td><td style = \"text-align: left;\">0.0</td><td style = \"text-align: left;\">0.0</td></tr><tr><td class = \"rowNumber\" style = \"font-weight: bold; text-align: right;\">9</td><td style = \"text-align: left;\">Bus9</td><td style = \"text-align: left;\">16.6</td><td style = \"text-align: left;\">13.5364</td><td style = \"text-align: left;\">11.8956</td><td style = \"text-align: left;\">10.665</td><td style = \"text-align: left;\">10.2548</td><td style = \"text-align: left;\">12.3058</td><td style = \"text-align: left;\">14.3568</td><td style = \"text-align: left;\">15.9975</td><td style = \"text-align: left;\">16.8179</td><td style = \"text-align: left;\">18.0485</td><td style = \"text-align: left;\">18.2536</td><td style = \"text-align: left;\">17.2281</td><td style = \"text-align: left;\">16.4077</td><td style = \"text-align: left;\">15.5873</td><td style = \"text-align: left;\">18.0485</td><td style = \"text-align: left;\">18.4587</td><td style = \"text-align: left;\">17.4332</td><td style = \"text-align: left;\">18.2536</td><td style = \"text-align: left;\">19.2791</td><td style = \"text-align: left;\">20.0995</td><td style = \"text-align: left;\">20.5097</td><td style = \"text-align: left;\">18.4587</td><td style = \"text-align: left;\">17.8434</td><td style = \"text-align: left;\">16.8179</td></tr><tr><td class = \"rowNumber\" style = \"font-weight: bold; text-align: right;\">10</td><td style = \"text-align: left;\">Bus10</td><td style = \"text-align: left;\">5.8</td><td style = \"text-align: left;\">4.72958</td><td style = \"text-align: left;\">4.15629</td><td style = \"text-align: left;\">3.72633</td><td style = \"text-align: left;\">3.58301</td><td style = \"text-align: left;\">4.29961</td><td style = \"text-align: left;\">5.01622</td><td style = \"text-align: left;\">5.5895</td><td style = \"text-align: left;\">5.87614</td><td style = \"text-align: left;\">6.3061</td><td style = \"text-align: left;\">6.37776</td><td style = \"text-align: left;\">6.01946</td><td style = \"text-align: left;\">5.73282</td><td style = \"text-align: left;\">5.44618</td><td style = \"text-align: left;\">6.3061</td><td style = \"text-align: left;\">6.44942</td><td style = \"text-align: left;\">6.09112</td><td style = \"text-align: left;\">6.37776</td><td style = \"text-align: left;\">6.73606</td><td style = \"text-align: left;\">7.0227</td><td style = \"text-align: left;\">7.16602</td><td style = \"text-align: left;\">6.44942</td><td style = \"text-align: left;\">6.23444</td><td style = \"text-align: left;\">5.87614</td></tr><tr><td class = \"rowNumber\" style = \"font-weight: bold; text-align: right;\">11</td><td style = \"text-align: left;\">Bus11</td><td style = \"text-align: left;\">1.8</td><td style = \"text-align: left;\">1.4678</td><td style = \"text-align: left;\">1.28988</td><td style = \"text-align: left;\">1.15645</td><td style = \"text-align: left;\">1.11197</td><td style = \"text-align: left;\">1.33436</td><td style = \"text-align: left;\">1.55676</td><td style = \"text-align: left;\">1.73467</td><td style = \"text-align: left;\">1.82363</td><td style = \"text-align: left;\">1.95707</td><td style = \"text-align: left;\">1.97931</td><td style = \"text-align: left;\">1.86811</td><td style = \"text-align: left;\">1.77915</td><td style = \"text-align: left;\">1.69019</td><td style = \"text-align: left;\">1.95707</td><td style = \"text-align: left;\">2.00154</td><td style = \"text-align: left;\">1.89035</td><td style = \"text-align: left;\">1.97931</td><td style = \"text-align: left;\">2.0905</td><td style = \"text-align: left;\">2.17946</td><td style = \"text-align: left;\">2.22394</td><td style = \"text-align: left;\">2.00154</td><td style = \"text-align: left;\">1.93483</td><td style = \"text-align: left;\">1.82363</td></tr><tr><td class = \"rowNumber\" style = \"font-weight: bold; text-align: right;\">12</td><td style = \"text-align: left;\">Bus12</td><td style = \"text-align: left;\">1.6</td><td style = \"text-align: left;\">1.30471</td><td style = \"text-align: left;\">1.14656</td><td style = \"text-align: left;\">1.02795</td><td style = \"text-align: left;\">0.988417</td><td style = \"text-align: left;\">1.1861</td><td style = \"text-align: left;\">1.38378</td><td style = \"text-align: left;\">1.54193</td><td style = \"text-align: left;\">1.621</td><td style = \"text-align: left;\">1.73961</td><td style = \"text-align: left;\">1.75938</td><td style = \"text-align: left;\">1.66054</td><td style = \"text-align: left;\">1.58147</td><td style = \"text-align: left;\">1.50239</td><td style = \"text-align: left;\">1.73961</td><td style = \"text-align: left;\">1.77915</td><td style = \"text-align: left;\">1.68031</td><td style = \"text-align: left;\">1.75938</td><td style = \"text-align: left;\">1.85822</td><td style = \"text-align: left;\">1.9373</td><td style = \"text-align: left;\">1.97683</td><td style = \"text-align: left;\">1.77915</td><td style = \"text-align: left;\">1.71985</td><td style = \"text-align: left;\">1.621</td></tr><tr><td class = \"rowNumber\" style = \"font-weight: bold; text-align: right;\">13</td><td style = \"text-align: left;\">Bus13</td><td style = \"text-align: left;\">5.8</td><td style = \"text-align: left;\">4.72958</td><td style = \"text-align: left;\">4.15629</td><td style = \"text-align: left;\">3.72633</td><td style = \"text-align: left;\">3.58301</td><td style = \"text-align: left;\">4.29961</td><td style = \"text-align: left;\">5.01622</td><td style = \"text-align: left;\">5.5895</td><td style = \"text-align: left;\">5.87614</td><td style = \"text-align: left;\">6.3061</td><td style = \"text-align: left;\">6.37776</td><td style = \"text-align: left;\">6.01946</td><td style = \"text-align: left;\">5.73282</td><td style = \"text-align: left;\">5.44618</td><td style = \"text-align: left;\">6.3061</td><td style = \"text-align: left;\">6.44942</td><td style = \"text-align: left;\">6.09112</td><td style = \"text-align: left;\">6.37776</td><td style = \"text-align: left;\">6.73606</td><td style = \"text-align: left;\">7.0227</td><td style = \"text-align: left;\">7.16602</td><td style = \"text-align: left;\">6.44942</td><td style = \"text-align: left;\">6.23444</td><td style = \"text-align: left;\">5.87614</td></tr><tr><td class = \"rowNumber\" style = \"font-weight: bold; text-align: right;\">14</td><td style = \"text-align: left;\">Bus14</td><td style = \"text-align: left;\">5.0</td><td style = \"text-align: left;\">4.07722</td><td style = \"text-align: left;\">3.58301</td><td style = \"text-align: left;\">3.21236</td><td style = \"text-align: left;\">3.0888</td><td style = \"text-align: left;\">3.70656</td><td style = \"text-align: left;\">4.32432</td><td style = \"text-align: left;\">4.81853</td><td style = \"text-align: left;\">5.06564</td><td style = \"text-align: left;\">5.43629</td><td style = \"text-align: left;\">5.49807</td><td style = \"text-align: left;\">5.18919</td><td style = \"text-align: left;\">4.94208</td><td style = \"text-align: left;\">4.69498</td><td style = \"text-align: left;\">5.43629</td><td style = \"text-align: left;\">5.55985</td><td style = \"text-align: left;\">5.25097</td><td style = \"text-align: left;\">5.49807</td><td style = \"text-align: left;\">5.80695</td><td style = \"text-align: left;\">6.05405</td><td style = \"text-align: left;\">6.17761</td><td style = \"text-align: left;\">5.55985</td><td style = \"text-align: left;\">5.37452</td><td style = \"text-align: left;\">5.06564</td></tr></tbody></table></div>"
      ],
      "text/latex": [
       "\\begin{tabular}{r|cccccccccc}\n",
       "\t& Bus/Hour & 1 & 2 & 3 & 4 & 5 & 6 & 7 & 8 & \\\\\n",
       "\t\\hline\n",
       "\t& Any & Any & Any & Any & Any & Any & Any & Any & Any & \\\\\n",
       "\t\\hline\n",
       "\t1 & Bus1 & 0.0 & 0.0 & 0.0 & 0.0 & 0.0 & 0.0 & 0.0 & 0.0 & $\\dots$ \\\\\n",
       "\t2 & Bus2 & 12.7 & 10.3561 & 9.10085 & 8.15938 & 7.84556 & 9.41467 & 10.9838 & 12.2391 & $\\dots$ \\\\\n",
       "\t3 & Bus3 & 19.0 & 15.4934 & 13.6154 & 12.2069 & 11.7375 & 14.0849 & 16.4324 & 18.3104 & $\\dots$ \\\\\n",
       "\t4 & Bus4 & -3.9 & -3.18023 & -2.79475 & -2.50564 & -2.40927 & -2.89112 & -3.37297 & -3.75846 & $\\dots$ \\\\\n",
       "\t5 & Bus5 & 1.6 & 1.30471 & 1.14656 & 1.02795 & 0.988417 & 1.1861 & 1.38378 & 1.54193 & $\\dots$ \\\\\n",
       "\t6 & Bus6 & 7.5 & 6.11583 & 5.37452 & 4.81853 & 4.6332 & 5.55985 & 6.48649 & 7.2278 & $\\dots$ \\\\\n",
       "\t7 & Bus7 & 0.0 & 0.0 & 0.0 & 0.0 & 0.0 & 0.0 & 0.0 & 0.0 & $\\dots$ \\\\\n",
       "\t8 & Bus8 & 0.0 & 0.0 & 0.0 & 0.0 & 0.0 & 0.0 & 0.0 & 0.0 & $\\dots$ \\\\\n",
       "\t9 & Bus9 & 16.6 & 13.5364 & 11.8956 & 10.665 & 10.2548 & 12.3058 & 14.3568 & 15.9975 & $\\dots$ \\\\\n",
       "\t10 & Bus10 & 5.8 & 4.72958 & 4.15629 & 3.72633 & 3.58301 & 4.29961 & 5.01622 & 5.5895 & $\\dots$ \\\\\n",
       "\t11 & Bus11 & 1.8 & 1.4678 & 1.28988 & 1.15645 & 1.11197 & 1.33436 & 1.55676 & 1.73467 & $\\dots$ \\\\\n",
       "\t12 & Bus12 & 1.6 & 1.30471 & 1.14656 & 1.02795 & 0.988417 & 1.1861 & 1.38378 & 1.54193 & $\\dots$ \\\\\n",
       "\t13 & Bus13 & 5.8 & 4.72958 & 4.15629 & 3.72633 & 3.58301 & 4.29961 & 5.01622 & 5.5895 & $\\dots$ \\\\\n",
       "\t14 & Bus14 & 5.0 & 4.07722 & 3.58301 & 3.21236 & 3.0888 & 3.70656 & 4.32432 & 4.81853 & $\\dots$ \\\\\n",
       "\\end{tabular}\n"
      ],
      "text/plain": [
       "\u001b[1m14×25 DataFrame\u001b[0m\n",
       "\u001b[1m Row \u001b[0m│\u001b[1m Bus/Hour \u001b[0m\u001b[1m 1    \u001b[0m\u001b[1m 2        \u001b[0m\u001b[1m 3        \u001b[0m\u001b[1m 4        \u001b[0m\u001b[1m 5        \u001b[0m\u001b[1m 6        \u001b[0m\u001b[1m 7    \u001b[0m ⋯\n",
       "     │\u001b[90m Any      \u001b[0m\u001b[90m Any  \u001b[0m\u001b[90m Any      \u001b[0m\u001b[90m Any      \u001b[0m\u001b[90m Any      \u001b[0m\u001b[90m Any      \u001b[0m\u001b[90m Any      \u001b[0m\u001b[90m Any  \u001b[0m ⋯\n",
       "─────┼──────────────────────────────────────────────────────────────────────────\n",
       "   1 │ Bus1      0.0   0.0       0.0       0.0       0.0       0.0       0.0   ⋯\n",
       "   2 │ Bus2      12.7  10.3561   9.10085   8.15938   7.84556   9.41467   10.98\n",
       "   3 │ Bus3      19.0  15.4934   13.6154   12.2069   11.7375   14.0849   16.43\n",
       "   4 │ Bus4      -3.9  -3.18023  -2.79475  -2.50564  -2.40927  -2.89112  -3.37\n",
       "   5 │ Bus5      1.6   1.30471   1.14656   1.02795   0.988417  1.1861    1.383 ⋯\n",
       "   6 │ Bus6      7.5   6.11583   5.37452   4.81853   4.6332    5.55985   6.486\n",
       "   7 │ Bus7      0.0   0.0       0.0       0.0       0.0       0.0       0.0\n",
       "   8 │ Bus8      0.0   0.0       0.0       0.0       0.0       0.0       0.0\n",
       "   9 │ Bus9      16.6  13.5364   11.8956   10.665    10.2548   12.3058   14.35 ⋯\n",
       "  10 │ Bus10     5.8   4.72958   4.15629   3.72633   3.58301   4.29961   5.016\n",
       "  11 │ Bus11     1.8   1.4678    1.28988   1.15645   1.11197   1.33436   1.556\n",
       "  12 │ Bus12     1.6   1.30471   1.14656   1.02795   0.988417  1.1861    1.383\n",
       "  13 │ Bus13     5.8   4.72958   4.15629   3.72633   3.58301   4.29961   5.016 ⋯\n",
       "  14 │ Bus14     5.0   4.07722   3.58301   3.21236   3.0888    3.70656   4.324\n",
       "\u001b[36m                                                              18 columns omitted\u001b[0m"
      ]
     },
     "metadata": {},
     "output_type": "display_data"
    }
   ],
   "source": [
    "df2 = DataFrame(XLSX.gettable(demanda,\"AA:AY\",first_row=2,stop_in_row_function=stop_condition))"
   ]
  },
  {
   "cell_type": "code",
   "execution_count": 110,
   "metadata": {},
   "outputs": [
    {
     "data": {
      "text/plain": [
       "\"Bus2\""
      ]
     },
     "metadata": {},
     "output_type": "display_data"
    }
   ],
   "source": [
    "df2[2,1]"
   ]
  },
  {
   "cell_type": "markdown",
   "metadata": {},
   "source": [
    "generadores"
   ]
  },
  {
   "cell_type": "code",
   "execution_count": 43,
   "metadata": {},
   "outputs": [
    {
     "data": {
      "text/html": [
       "<div><div style = \"float: left;\"><span>7×20 DataFrame</span></div><div style = \"clear: both;\"></div></div><div class = \"data-frame\" style = \"overflow-x: scroll;\"><table class = \"data-frame\" style = \"margin-bottom: 6px;\"><thead><tr class = \"header\"><th class = \"rowNumber\" style = \"font-weight: bold; text-align: right;\">Row</th><th style = \"text-align: left;\">Generator</th><th style = \"text-align: left;\">Bus</th><th style = \"text-align: left;\">Pmax [MW]</th><th style = \"text-align: left;\">Pmin [MW]</th><th style = \"text-align: left;\">Qmax [MVAR]</th><th style = \"text-align: left;\">Qmin [MVAR]</th><th style = \"text-align: left;\">Ramp [MW/h]</th><th style = \"text-align: left;\">SRamp [MW]</th><th style = \"text-align: left;\">MinUP</th><th style = \"text-align: left;\">MinDW</th><th style = \"text-align: left;\">InitS</th><th style = \"text-align: left;\">InitP</th><th style = \"text-align: left;\">StartUpCost [$]</th><th style = \"text-align: left;\">FixedCost [$]</th><th style = \"text-align: left;\">VariableCost [$/MWh]</th><th style = \"text-align: left;\">Type</th><th style = \"text-align: left;\">PminFactor</th><th style = \"text-align: left;\">QFactor</th><th style = \"text-align: left;\">RampFactor</th><th style = \"text-align: left;\">StartUpCostFactor</th></tr><tr class = \"subheader headerLastRow\"><th class = \"rowNumber\" style = \"font-weight: bold; text-align: right;\"></th><th title = \"Any\" style = \"text-align: left;\">Any</th><th title = \"Any\" style = \"text-align: left;\">Any</th><th title = \"Any\" style = \"text-align: left;\">Any</th><th title = \"Any\" style = \"text-align: left;\">Any</th><th title = \"Any\" style = \"text-align: left;\">Any</th><th title = \"Any\" style = \"text-align: left;\">Any</th><th title = \"Any\" style = \"text-align: left;\">Any</th><th title = \"Any\" style = \"text-align: left;\">Any</th><th title = \"Any\" style = \"text-align: left;\">Any</th><th title = \"Any\" style = \"text-align: left;\">Any</th><th title = \"Any\" style = \"text-align: left;\">Any</th><th title = \"Any\" style = \"text-align: left;\">Any</th><th title = \"Any\" style = \"text-align: left;\">Any</th><th title = \"Any\" style = \"text-align: left;\">Any</th><th title = \"Any\" style = \"text-align: left;\">Any</th><th title = \"Any\" style = \"text-align: left;\">Any</th><th title = \"Any\" style = \"text-align: left;\">Any</th><th title = \"Any\" style = \"text-align: left;\">Any</th><th title = \"Any\" style = \"text-align: left;\">Any</th><th title = \"Any\" style = \"text-align: left;\">Any</th></tr></thead><tbody><tr><td class = \"rowNumber\" style = \"font-weight: bold; text-align: right;\">1</td><td style = \"text-align: left;\">G1</td><td style = \"text-align: left;\">1</td><td style = \"text-align: left;\">100</td><td style = \"text-align: left;\">40</td><td style = \"text-align: left;\">70</td><td style = \"text-align: left;\">-70</td><td style = \"text-align: left;\">20</td><td style = \"text-align: left;\">40.01</td><td style = \"text-align: left;\">8</td><td style = \"text-align: left;\">8</td><td style = \"text-align: left;\">-8</td><td style = \"text-align: left;\">0</td><td style = \"text-align: left;\">3000</td><td style = \"text-align: left;\">600</td><td style = \"text-align: left;\">20</td><td style = \"text-align: left;\">Coal</td><td style = \"text-align: left;\">0.4</td><td style = \"text-align: left;\">0.7</td><td style = \"text-align: left;\">0.2</td><td style = \"text-align: left;\">30</td></tr><tr><td class = \"rowNumber\" style = \"font-weight: bold; text-align: right;\">2</td><td style = \"text-align: left;\">G2</td><td style = \"text-align: left;\">2</td><td style = \"text-align: left;\">75</td><td style = \"text-align: left;\">7.5</td><td style = \"text-align: left;\">52.5</td><td style = \"text-align: left;\">-52.5</td><td style = \"text-align: left;\">22.5</td><td style = \"text-align: left;\">22.5</td><td style = \"text-align: left;\">4</td><td style = \"text-align: left;\">4</td><td style = \"text-align: left;\">-4</td><td style = \"text-align: left;\">0</td><td style = \"text-align: left;\">2250</td><td style = \"text-align: left;\">450</td><td style = \"text-align: left;\">40</td><td style = \"text-align: left;\">Gas</td><td style = \"text-align: left;\">0.1</td><td style = \"text-align: left;\">0.7</td><td style = \"text-align: left;\">0.3</td><td style = \"text-align: left;\">30</td></tr><tr><td class = \"rowNumber\" style = \"font-weight: bold; text-align: right;\">3</td><td style = \"text-align: left;\">G3</td><td style = \"text-align: left;\">3</td><td style = \"text-align: left;\">75</td><td style = \"text-align: left;\">7.5</td><td style = \"text-align: left;\">52.5</td><td style = \"text-align: left;\">-52.5</td><td style = \"text-align: left;\">22.5</td><td style = \"text-align: left;\">22.5</td><td style = \"text-align: left;\">4</td><td style = \"text-align: left;\">4</td><td style = \"text-align: left;\">-4</td><td style = \"text-align: left;\">0</td><td style = \"text-align: left;\">2250</td><td style = \"text-align: left;\">450</td><td style = \"text-align: left;\">60</td><td style = \"text-align: left;\">Gas</td><td style = \"text-align: left;\">0.1</td><td style = \"text-align: left;\">0.7</td><td style = \"text-align: left;\">0.3</td><td style = \"text-align: left;\">30</td></tr><tr><td class = \"rowNumber\" style = \"font-weight: bold; text-align: right;\">4</td><td style = \"text-align: left;\">G6</td><td style = \"text-align: left;\">6</td><td style = \"text-align: left;\">75</td><td style = \"text-align: left;\">7.5</td><td style = \"text-align: left;\">52.5</td><td style = \"text-align: left;\">-52.5</td><td style = \"text-align: left;\">22.5</td><td style = \"text-align: left;\">22.5</td><td style = \"text-align: left;\">4</td><td style = \"text-align: left;\">4</td><td style = \"text-align: left;\">-4</td><td style = \"text-align: left;\">0</td><td style = \"text-align: left;\">2250</td><td style = \"text-align: left;\">450</td><td style = \"text-align: left;\">80</td><td style = \"text-align: left;\">Gas</td><td style = \"text-align: left;\">0.1</td><td style = \"text-align: left;\">0.7</td><td style = \"text-align: left;\">0.3</td><td style = \"text-align: left;\">30</td></tr><tr><td class = \"rowNumber\" style = \"font-weight: bold; text-align: right;\">5</td><td style = \"text-align: left;\">G8</td><td style = \"text-align: left;\">8</td><td style = \"text-align: left;\">75</td><td style = \"text-align: left;\">7.5</td><td style = \"text-align: left;\">52.5</td><td style = \"text-align: left;\">-52.5</td><td style = \"text-align: left;\">22.5</td><td style = \"text-align: left;\">22.5</td><td style = \"text-align: left;\">4</td><td style = \"text-align: left;\">4</td><td style = \"text-align: left;\">-4</td><td style = \"text-align: left;\">0</td><td style = \"text-align: left;\">2250</td><td style = \"text-align: left;\">450</td><td style = \"text-align: left;\">100</td><td style = \"text-align: left;\">Gas</td><td style = \"text-align: left;\">0.1</td><td style = \"text-align: left;\">0.7</td><td style = \"text-align: left;\">0.3</td><td style = \"text-align: left;\">30</td></tr><tr><td class = \"rowNumber\" style = \"font-weight: bold; text-align: right;\">6</td><td style = \"text-align: left;\">Wind2</td><td style = \"text-align: left;\">2</td><td style = \"text-align: left;\">34.3074</td><td style = \"text-align: left;\">0</td><td style = \"text-align: left;\">24.0152</td><td style = \"text-align: left;\">-24.0152</td><td style = \"text-align: left;\">343.074</td><td style = \"text-align: left;\">343.074</td><td style = \"text-align: left;\">1</td><td style = \"text-align: left;\">1</td><td style = \"text-align: left;\">-1</td><td style = \"text-align: left;\">0</td><td style = \"text-align: left;\">0</td><td style = \"text-align: left;\">0</td><td style = \"text-align: left;\">0</td><td style = \"text-align: left;\">Wind</td><td style = \"text-align: left;\">0.0</td><td style = \"text-align: left;\">0.7</td><td style = \"text-align: left;\">10.0</td><td style = \"text-align: left;\">0</td></tr><tr><td class = \"rowNumber\" style = \"font-weight: bold; text-align: right;\">7</td><td style = \"text-align: left;\">Solar8</td><td style = \"text-align: left;\">8</td><td style = \"text-align: left;\">36.0918</td><td style = \"text-align: left;\">0</td><td style = \"text-align: left;\">25.2643</td><td style = \"text-align: left;\">-25.2643</td><td style = \"text-align: left;\">360.918</td><td style = \"text-align: left;\">360.918</td><td style = \"text-align: left;\">1</td><td style = \"text-align: left;\">1</td><td style = \"text-align: left;\">-1</td><td style = \"text-align: left;\">0</td><td style = \"text-align: left;\">0</td><td style = \"text-align: left;\">0</td><td style = \"text-align: left;\">0</td><td style = \"text-align: left;\">Solar</td><td style = \"text-align: left;\">0.0</td><td style = \"text-align: left;\">0.7</td><td style = \"text-align: left;\">10.0</td><td style = \"text-align: left;\">0</td></tr></tbody></table></div>"
      ],
      "text/latex": [
       "\\begin{tabular}{r|ccccccccc}\n",
       "\t& Generator & Bus & Pmax [MW] & Pmin [MW] & Qmax [MVAR] & Qmin [MVAR] & Ramp [MW/h] & SRamp [MW] & \\\\\n",
       "\t\\hline\n",
       "\t& Any & Any & Any & Any & Any & Any & Any & Any & \\\\\n",
       "\t\\hline\n",
       "\t1 & G1 & 1 & 100 & 40 & 70 & -70 & 20 & 40.01 & $\\dots$ \\\\\n",
       "\t2 & G2 & 2 & 75 & 7.5 & 52.5 & -52.5 & 22.5 & 22.5 & $\\dots$ \\\\\n",
       "\t3 & G3 & 3 & 75 & 7.5 & 52.5 & -52.5 & 22.5 & 22.5 & $\\dots$ \\\\\n",
       "\t4 & G6 & 6 & 75 & 7.5 & 52.5 & -52.5 & 22.5 & 22.5 & $\\dots$ \\\\\n",
       "\t5 & G8 & 8 & 75 & 7.5 & 52.5 & -52.5 & 22.5 & 22.5 & $\\dots$ \\\\\n",
       "\t6 & Wind2 & 2 & 34.3074 & 0 & 24.0152 & -24.0152 & 343.074 & 343.074 & $\\dots$ \\\\\n",
       "\t7 & Solar8 & 8 & 36.0918 & 0 & 25.2643 & -25.2643 & 360.918 & 360.918 & $\\dots$ \\\\\n",
       "\\end{tabular}\n"
      ],
      "text/plain": [
       "\u001b[1m7×20 DataFrame\u001b[0m\n",
       "\u001b[1m Row \u001b[0m│\u001b[1m Generator \u001b[0m\u001b[1m Bus \u001b[0m\u001b[1m Pmax [MW] \u001b[0m\u001b[1m Pmin [MW] \u001b[0m\u001b[1m Qmax [MVAR] \u001b[0m\u001b[1m Qmin [MVAR] \u001b[0m\u001b[1m Ramp [M\u001b[0m ⋯\n",
       "     │\u001b[90m Any       \u001b[0m\u001b[90m Any \u001b[0m\u001b[90m Any       \u001b[0m\u001b[90m Any       \u001b[0m\u001b[90m Any         \u001b[0m\u001b[90m Any         \u001b[0m\u001b[90m Any    \u001b[0m ⋯\n",
       "─────┼──────────────────────────────────────────────────────────────────────────\n",
       "   1 │ G1         1    100        40         70           -70          20      ⋯\n",
       "   2 │ G2         2    75         7.5        52.5         -52.5        22.5\n",
       "   3 │ G3         3    75         7.5        52.5         -52.5        22.5\n",
       "   4 │ G6         6    75         7.5        52.5         -52.5        22.5\n",
       "   5 │ G8         8    75         7.5        52.5         -52.5        22.5    ⋯\n",
       "   6 │ Wind2      2    34.3074    0          24.0152      -24.0152     343.074\n",
       "   7 │ Solar8     8    36.0918    0          25.2643      -25.2643     360.918\n",
       "\u001b[36m                                                              14 columns omitted\u001b[0m"
      ]
     },
     "metadata": {},
     "output_type": "display_data"
    }
   ],
   "source": [
    "df3 = DataFrame(XLSX.gettable(generadores,\"A:T\",first_row=1,stop_in_row_function=stop_condition))"
   ]
  },
  {
   "cell_type": "code",
   "execution_count": 112,
   "metadata": {},
   "outputs": [
    {
     "data": {
      "text/plain": [
       "7-element Vector{Any}:\n",
       " \"G1\"\n",
       " \"G2\"\n",
       " \"G3\"\n",
       " \"G6\"\n",
       " \"G8\"\n",
       " \"Wind2\"\n",
       " \"Solar8\""
      ]
     },
     "metadata": {},
     "output_type": "display_data"
    }
   ],
   "source": [
    "df3[:,1] # nombres"
   ]
  },
  {
   "cell_type": "code",
   "execution_count": 45,
   "metadata": {},
   "outputs": [
    {
     "data": {
      "text/plain": [
       "Int64"
      ]
     },
     "metadata": {},
     "output_type": "display_data"
    }
   ],
   "source": [
    "typeof(df3[1,2])"
   ]
  },
  {
   "cell_type": "code",
   "execution_count": null,
   "metadata": {},
   "outputs": [],
   "source": [
    "typeof()"
   ]
  },
  {
   "cell_type": "markdown",
   "metadata": {},
   "source": [
    "Renovables"
   ]
  },
  {
   "cell_type": "code",
   "execution_count": 106,
   "metadata": {},
   "outputs": [
    {
     "data": {
      "text/html": [
       "<div><div style = \"float: left;\"><span>2×25 DataFrame</span></div><div style = \"clear: both;\"></div></div><div class = \"data-frame\" style = \"overflow-x: scroll;\"><table class = \"data-frame\" style = \"margin-bottom: 6px;\"><thead><tr class = \"header\"><th class = \"rowNumber\" style = \"font-weight: bold; text-align: right;\">Row</th><th style = \"text-align: left;\">Gen/Hour</th><th style = \"text-align: left;\">1</th><th style = \"text-align: left;\">2</th><th style = \"text-align: left;\">3</th><th style = \"text-align: left;\">4</th><th style = \"text-align: left;\">5</th><th style = \"text-align: left;\">6</th><th style = \"text-align: left;\">7</th><th style = \"text-align: left;\">8</th><th style = \"text-align: left;\">9</th><th style = \"text-align: left;\">10</th><th style = \"text-align: left;\">11</th><th style = \"text-align: left;\">12</th><th style = \"text-align: left;\">13</th><th style = \"text-align: left;\">14</th><th style = \"text-align: left;\">15</th><th style = \"text-align: left;\">16</th><th style = \"text-align: left;\">17</th><th style = \"text-align: left;\">18</th><th style = \"text-align: left;\">19</th><th style = \"text-align: left;\">20</th><th style = \"text-align: left;\">21</th><th style = \"text-align: left;\">22</th><th style = \"text-align: left;\">23</th><th style = \"text-align: left;\">24</th></tr><tr class = \"subheader headerLastRow\"><th class = \"rowNumber\" style = \"font-weight: bold; text-align: right;\"></th><th title = \"Any\" style = \"text-align: left;\">Any</th><th title = \"Any\" style = \"text-align: left;\">Any</th><th title = \"Any\" style = \"text-align: left;\">Any</th><th title = \"Any\" style = \"text-align: left;\">Any</th><th title = \"Any\" style = \"text-align: left;\">Any</th><th title = \"Any\" style = \"text-align: left;\">Any</th><th title = \"Any\" style = \"text-align: left;\">Any</th><th title = \"Any\" style = \"text-align: left;\">Any</th><th title = \"Any\" style = \"text-align: left;\">Any</th><th title = \"Any\" style = \"text-align: left;\">Any</th><th title = \"Any\" style = \"text-align: left;\">Any</th><th title = \"Any\" style = \"text-align: left;\">Any</th><th title = \"Any\" style = \"text-align: left;\">Any</th><th title = \"Any\" style = \"text-align: left;\">Any</th><th title = \"Any\" style = \"text-align: left;\">Any</th><th title = \"Any\" style = \"text-align: left;\">Any</th><th title = \"Any\" style = \"text-align: left;\">Any</th><th title = \"Any\" style = \"text-align: left;\">Any</th><th title = \"Any\" style = \"text-align: left;\">Any</th><th title = \"Any\" style = \"text-align: left;\">Any</th><th title = \"Any\" style = \"text-align: left;\">Any</th><th title = \"Any\" style = \"text-align: left;\">Any</th><th title = \"Any\" style = \"text-align: left;\">Any</th><th title = \"Any\" style = \"text-align: left;\">Any</th><th title = \"Any\" style = \"text-align: left;\">Any</th></tr></thead><tbody><tr><td class = \"rowNumber\" style = \"font-weight: bold; text-align: right;\">1</td><td style = \"text-align: left;\">Wind2</td><td style = \"text-align: left;\">31.167</td><td style = \"text-align: left;\">29.4256</td><td style = \"text-align: left;\">27.6723</td><td style = \"text-align: left;\">28.6323</td><td style = \"text-align: left;\">28.7513</td><td style = \"text-align: left;\">29.2233</td><td style = \"text-align: left;\">28.6362</td><td style = \"text-align: left;\">29.739</td><td style = \"text-align: left;\">30.4213</td><td style = \"text-align: left;\">31.766</td><td style = \"text-align: left;\">33.1306</td><td style = \"text-align: left;\">36.4072</td><td style = \"text-align: left;\">38.4619</td><td style = \"text-align: left;\">40.5286</td><td style = \"text-align: left;\">41.3934</td><td style = \"text-align: left;\">42.516</td><td style = \"text-align: left;\">45.4951</td><td style = \"text-align: left;\">42.6112</td><td style = \"text-align: left;\">37.7479</td><td style = \"text-align: left;\">34.4872</td><td style = \"text-align: left;\">35.9827</td><td style = \"text-align: left;\">35.471</td><td style = \"text-align: left;\">32.5038</td><td style = \"text-align: left;\">31.2067</td></tr><tr><td class = \"rowNumber\" style = \"font-weight: bold; text-align: right;\">2</td><td style = \"text-align: left;\">Solar8</td><td style = \"text-align: left;\">0.0</td><td style = \"text-align: left;\">0.0</td><td style = \"text-align: left;\">0.0</td><td style = \"text-align: left;\">0.0</td><td style = \"text-align: left;\">0.000148093</td><td style = \"text-align: left;\">7.14521</td><td style = \"text-align: left;\">32.1157</td><td style = \"text-align: left;\">64.6244</td><td style = \"text-align: left;\">84.5466</td><td style = \"text-align: left;\">90.8603</td><td style = \"text-align: left;\">92.6444</td><td style = \"text-align: left;\">93.0311</td><td style = \"text-align: left;\">92.748</td><td style = \"text-align: left;\">91.194</td><td style = \"text-align: left;\">86.7143</td><td style = \"text-align: left;\">73.3265</td><td style = \"text-align: left;\">41.8975</td><td style = \"text-align: left;\">14.7328</td><td style = \"text-align: left;\">0.62214</td><td style = \"text-align: left;\">0.0</td><td style = \"text-align: left;\">0.0</td><td style = \"text-align: left;\">0.0</td><td style = \"text-align: left;\">0.0</td><td style = \"text-align: left;\">0.0</td></tr></tbody></table></div>"
      ],
      "text/latex": [
       "\\begin{tabular}{r|cccccccccc}\n",
       "\t& Gen/Hour & 1 & 2 & 3 & 4 & 5 & 6 & 7 & 8 & \\\\\n",
       "\t\\hline\n",
       "\t& Any & Any & Any & Any & Any & Any & Any & Any & Any & \\\\\n",
       "\t\\hline\n",
       "\t1 & Wind2 & 31.167 & 29.4256 & 27.6723 & 28.6323 & 28.7513 & 29.2233 & 28.6362 & 29.739 & $\\dots$ \\\\\n",
       "\t2 & Solar8 & 0.0 & 0.0 & 0.0 & 0.0 & 0.000148093 & 7.14521 & 32.1157 & 64.6244 & $\\dots$ \\\\\n",
       "\\end{tabular}\n"
      ],
      "text/plain": [
       "\u001b[1m2×25 DataFrame\u001b[0m\n",
       "\u001b[1m Row \u001b[0m│\u001b[1m Gen/Hour \u001b[0m\u001b[1m 1      \u001b[0m\u001b[1m 2       \u001b[0m\u001b[1m 3       \u001b[0m\u001b[1m 4       \u001b[0m\u001b[1m 5           \u001b[0m\u001b[1m 6       \u001b[0m\u001b[1m 7   \u001b[0m ⋯\n",
       "     │\u001b[90m Any      \u001b[0m\u001b[90m Any    \u001b[0m\u001b[90m Any     \u001b[0m\u001b[90m Any     \u001b[0m\u001b[90m Any     \u001b[0m\u001b[90m Any         \u001b[0m\u001b[90m Any     \u001b[0m\u001b[90m Any \u001b[0m ⋯\n",
       "─────┼──────────────────────────────────────────────────────────────────────────\n",
       "   1 │ Wind2     31.167  29.4256  27.6723  28.6323  28.7513      29.2233  28.6 ⋯\n",
       "   2 │ Solar8    0.0     0.0      0.0      0.0      0.000148093  7.14521  32.1\n",
       "\u001b[36m                                                              18 columns omitted\u001b[0m"
      ]
     },
     "metadata": {},
     "output_type": "display_data"
    }
   ],
   "source": [
    "df4 = DataFrame(XLSX.gettable(renovables,\"A:Y\",first_row=2,stop_in_row_function=stop_condition))"
   ]
  },
  {
   "cell_type": "code",
   "execution_count": null,
   "metadata": {},
   "outputs": [],
   "source": [
    "df4[\"1\"]"
   ]
  },
  {
   "cell_type": "markdown",
   "metadata": {},
   "source": [
    "Lineas"
   ]
  },
  {
   "cell_type": "code",
   "execution_count": 113,
   "metadata": {},
   "outputs": [
    {
     "data": {
      "text/html": [
       "<div><div style = \"float: left;\"><span>20×7 DataFrame</span></div><div style = \"clear: both;\"></div></div><div class = \"data-frame\" style = \"overflow-x: scroll;\"><table class = \"data-frame\" style = \"margin-bottom: 6px;\"><thead><tr class = \"header\"><th class = \"rowNumber\" style = \"font-weight: bold; text-align: right;\">Row</th><th style = \"text-align: left;\">Branch Name</th><th style = \"text-align: left;\">FromBus</th><th style = \"text-align: left;\">ToBus</th><th style = \"text-align: left;\">Resistance (R)</th><th style = \"text-align: left;\">Reactance (X)</th><th style = \"text-align: left;\">LineCharging (B)</th><th style = \"text-align: left;\">Max Flow [MW]</th></tr><tr class = \"subheader headerLastRow\"><th class = \"rowNumber\" style = \"font-weight: bold; text-align: right;\"></th><th title = \"Any\" style = \"text-align: left;\">Any</th><th title = \"Any\" style = \"text-align: left;\">Any</th><th title = \"Any\" style = \"text-align: left;\">Any</th><th title = \"Any\" style = \"text-align: left;\">Any</th><th title = \"Any\" style = \"text-align: left;\">Any</th><th title = \"Any\" style = \"text-align: left;\">Any</th><th title = \"Any\" style = \"text-align: left;\">Any</th></tr></thead><tbody><tr><td class = \"rowNumber\" style = \"font-weight: bold; text-align: right;\">1</td><td style = \"text-align: left;\">Line1To2</td><td style = \"text-align: left;\">Bus1</td><td style = \"text-align: left;\">Bus2</td><td style = \"text-align: left;\">0.01938</td><td style = \"text-align: left;\">0.05917</td><td style = \"text-align: left;\">0</td><td style = \"text-align: left;\">135</td></tr><tr><td class = \"rowNumber\" style = \"font-weight: bold; text-align: right;\">2</td><td style = \"text-align: left;\">Line1To5</td><td style = \"text-align: left;\">Bus1</td><td style = \"text-align: left;\">Bus5</td><td style = \"text-align: left;\">0.05403</td><td style = \"text-align: left;\">0.22304</td><td style = \"text-align: left;\">0</td><td style = \"text-align: left;\">135</td></tr><tr><td class = \"rowNumber\" style = \"font-weight: bold; text-align: right;\">3</td><td style = \"text-align: left;\">Line2To3</td><td style = \"text-align: left;\">Bus2</td><td style = \"text-align: left;\">Bus3</td><td style = \"text-align: left;\">0.04699</td><td style = \"text-align: left;\">0.19797</td><td style = \"text-align: left;\">0</td><td style = \"text-align: left;\">135</td></tr><tr><td class = \"rowNumber\" style = \"font-weight: bold; text-align: right;\">4</td><td style = \"text-align: left;\">Line2To4</td><td style = \"text-align: left;\">Bus2</td><td style = \"text-align: left;\">Bus4</td><td style = \"text-align: left;\">0.05811</td><td style = \"text-align: left;\">0.17632</td><td style = \"text-align: left;\">0</td><td style = \"text-align: left;\">135</td></tr><tr><td class = \"rowNumber\" style = \"font-weight: bold; text-align: right;\">5</td><td style = \"text-align: left;\">Line2To5</td><td style = \"text-align: left;\">Bus2</td><td style = \"text-align: left;\">Bus5</td><td style = \"text-align: left;\">0.05695</td><td style = \"text-align: left;\">0.17388</td><td style = \"text-align: left;\">0</td><td style = \"text-align: left;\">135</td></tr><tr><td class = \"rowNumber\" style = \"font-weight: bold; text-align: right;\">6</td><td style = \"text-align: left;\">Line3To4</td><td style = \"text-align: left;\">Bus3</td><td style = \"text-align: left;\">Bus4</td><td style = \"text-align: left;\">0.06701</td><td style = \"text-align: left;\">0.17103</td><td style = \"text-align: left;\">0</td><td style = \"text-align: left;\">135</td></tr><tr><td class = \"rowNumber\" style = \"font-weight: bold; text-align: right;\">7</td><td style = \"text-align: left;\">Line4To5</td><td style = \"text-align: left;\">Bus4</td><td style = \"text-align: left;\">Bus5</td><td style = \"text-align: left;\">0.01335</td><td style = \"text-align: left;\">0.04211</td><td style = \"text-align: left;\">0</td><td style = \"text-align: left;\">135</td></tr><tr><td class = \"rowNumber\" style = \"font-weight: bold; text-align: right;\">8</td><td style = \"text-align: left;\">Line4To7</td><td style = \"text-align: left;\">Bus4</td><td style = \"text-align: left;\">Bus7</td><td style = \"text-align: left;\">0</td><td style = \"text-align: left;\">0.20912</td><td style = \"text-align: left;\">0</td><td style = \"text-align: left;\">135</td></tr><tr><td class = \"rowNumber\" style = \"font-weight: bold; text-align: right;\">9</td><td style = \"text-align: left;\">Line4To9</td><td style = \"text-align: left;\">Bus4</td><td style = \"text-align: left;\">Bus9</td><td style = \"text-align: left;\">0</td><td style = \"text-align: left;\">0.55618</td><td style = \"text-align: left;\">0</td><td style = \"text-align: left;\">135</td></tr><tr><td class = \"rowNumber\" style = \"font-weight: bold; text-align: right;\">10</td><td style = \"text-align: left;\">Line5To6</td><td style = \"text-align: left;\">Bus5</td><td style = \"text-align: left;\">Bus6</td><td style = \"text-align: left;\">0</td><td style = \"text-align: left;\">0.25202</td><td style = \"text-align: left;\">0</td><td style = \"text-align: left;\">135</td></tr><tr><td class = \"rowNumber\" style = \"font-weight: bold; text-align: right;\">11</td><td style = \"text-align: left;\">Line6To11</td><td style = \"text-align: left;\">Bus6</td><td style = \"text-align: left;\">Bus11</td><td style = \"text-align: left;\">0.09498</td><td style = \"text-align: left;\">0.1989</td><td style = \"text-align: left;\">0</td><td style = \"text-align: left;\">135</td></tr><tr><td class = \"rowNumber\" style = \"font-weight: bold; text-align: right;\">12</td><td style = \"text-align: left;\">Line6To12</td><td style = \"text-align: left;\">Bus6</td><td style = \"text-align: left;\">Bus12</td><td style = \"text-align: left;\">0.12291</td><td style = \"text-align: left;\">0.25581</td><td style = \"text-align: left;\">0</td><td style = \"text-align: left;\">135</td></tr><tr><td class = \"rowNumber\" style = \"font-weight: bold; text-align: right;\">13</td><td style = \"text-align: left;\">Line6To13</td><td style = \"text-align: left;\">Bus6</td><td style = \"text-align: left;\">Bus13</td><td style = \"text-align: left;\">0.06615</td><td style = \"text-align: left;\">0.13027</td><td style = \"text-align: left;\">0</td><td style = \"text-align: left;\">135</td></tr><tr><td class = \"rowNumber\" style = \"font-weight: bold; text-align: right;\">14</td><td style = \"text-align: left;\">Line7To8</td><td style = \"text-align: left;\">Bus7</td><td style = \"text-align: left;\">Bus8</td><td style = \"text-align: left;\">0</td><td style = \"text-align: left;\">0.17615</td><td style = \"text-align: left;\">0</td><td style = \"text-align: left;\">135</td></tr><tr><td class = \"rowNumber\" style = \"font-weight: bold; text-align: right;\">15</td><td style = \"text-align: left;\">Line7To9</td><td style = \"text-align: left;\">Bus7</td><td style = \"text-align: left;\">Bus9</td><td style = \"text-align: left;\">0</td><td style = \"text-align: left;\">0.11001</td><td style = \"text-align: left;\">0</td><td style = \"text-align: left;\">135</td></tr><tr><td class = \"rowNumber\" style = \"font-weight: bold; text-align: right;\">16</td><td style = \"text-align: left;\">Line9To10</td><td style = \"text-align: left;\">Bus9</td><td style = \"text-align: left;\">Bus10</td><td style = \"text-align: left;\">0.03181</td><td style = \"text-align: left;\">0.0845</td><td style = \"text-align: left;\">0</td><td style = \"text-align: left;\">135</td></tr><tr><td class = \"rowNumber\" style = \"font-weight: bold; text-align: right;\">17</td><td style = \"text-align: left;\">Line9To14</td><td style = \"text-align: left;\">Bus9</td><td style = \"text-align: left;\">Bus14</td><td style = \"text-align: left;\">0.12711</td><td style = \"text-align: left;\">0.27038</td><td style = \"text-align: left;\">0</td><td style = \"text-align: left;\">135</td></tr><tr><td class = \"rowNumber\" style = \"font-weight: bold; text-align: right;\">18</td><td style = \"text-align: left;\">Line10To11</td><td style = \"text-align: left;\">Bus10</td><td style = \"text-align: left;\">Bus11</td><td style = \"text-align: left;\">0.08205</td><td style = \"text-align: left;\">0.19207</td><td style = \"text-align: left;\">0</td><td style = \"text-align: left;\">135</td></tr><tr><td class = \"rowNumber\" style = \"font-weight: bold; text-align: right;\">19</td><td style = \"text-align: left;\">Line12To13</td><td style = \"text-align: left;\">Bus12</td><td style = \"text-align: left;\">Bus13</td><td style = \"text-align: left;\">0.22092</td><td style = \"text-align: left;\">0.19988</td><td style = \"text-align: left;\">0</td><td style = \"text-align: left;\">135</td></tr><tr><td class = \"rowNumber\" style = \"font-weight: bold; text-align: right;\">20</td><td style = \"text-align: left;\">Line13To14</td><td style = \"text-align: left;\">Bus13</td><td style = \"text-align: left;\">Bus14</td><td style = \"text-align: left;\">0.17093</td><td style = \"text-align: left;\">0.34802</td><td style = \"text-align: left;\">0</td><td style = \"text-align: left;\">135</td></tr></tbody></table></div>"
      ],
      "text/latex": [
       "\\begin{tabular}{r|ccccccc}\n",
       "\t& Branch Name & FromBus & ToBus & Resistance (R) & Reactance (X) & LineCharging (B) & Max Flow [MW]\\\\\n",
       "\t\\hline\n",
       "\t& Any & Any & Any & Any & Any & Any & Any\\\\\n",
       "\t\\hline\n",
       "\t1 & Line1To2 & Bus1 & Bus2 & 0.01938 & 0.05917 & 0 & 135 \\\\\n",
       "\t2 & Line1To5 & Bus1 & Bus5 & 0.05403 & 0.22304 & 0 & 135 \\\\\n",
       "\t3 & Line2To3 & Bus2 & Bus3 & 0.04699 & 0.19797 & 0 & 135 \\\\\n",
       "\t4 & Line2To4 & Bus2 & Bus4 & 0.05811 & 0.17632 & 0 & 135 \\\\\n",
       "\t5 & Line2To5 & Bus2 & Bus5 & 0.05695 & 0.17388 & 0 & 135 \\\\\n",
       "\t6 & Line3To4 & Bus3 & Bus4 & 0.06701 & 0.17103 & 0 & 135 \\\\\n",
       "\t7 & Line4To5 & Bus4 & Bus5 & 0.01335 & 0.04211 & 0 & 135 \\\\\n",
       "\t8 & Line4To7 & Bus4 & Bus7 & 0 & 0.20912 & 0 & 135 \\\\\n",
       "\t9 & Line4To9 & Bus4 & Bus9 & 0 & 0.55618 & 0 & 135 \\\\\n",
       "\t10 & Line5To6 & Bus5 & Bus6 & 0 & 0.25202 & 0 & 135 \\\\\n",
       "\t11 & Line6To11 & Bus6 & Bus11 & 0.09498 & 0.1989 & 0 & 135 \\\\\n",
       "\t12 & Line6To12 & Bus6 & Bus12 & 0.12291 & 0.25581 & 0 & 135 \\\\\n",
       "\t13 & Line6To13 & Bus6 & Bus13 & 0.06615 & 0.13027 & 0 & 135 \\\\\n",
       "\t14 & Line7To8 & Bus7 & Bus8 & 0 & 0.17615 & 0 & 135 \\\\\n",
       "\t15 & Line7To9 & Bus7 & Bus9 & 0 & 0.11001 & 0 & 135 \\\\\n",
       "\t16 & Line9To10 & Bus9 & Bus10 & 0.03181 & 0.0845 & 0 & 135 \\\\\n",
       "\t17 & Line9To14 & Bus9 & Bus14 & 0.12711 & 0.27038 & 0 & 135 \\\\\n",
       "\t18 & Line10To11 & Bus10 & Bus11 & 0.08205 & 0.19207 & 0 & 135 \\\\\n",
       "\t19 & Line12To13 & Bus12 & Bus13 & 0.22092 & 0.19988 & 0 & 135 \\\\\n",
       "\t20 & Line13To14 & Bus13 & Bus14 & 0.17093 & 0.34802 & 0 & 135 \\\\\n",
       "\\end{tabular}\n"
      ],
      "text/plain": [
       "\u001b[1m20×7 DataFrame\u001b[0m\n",
       "\u001b[1m Row \u001b[0m│\u001b[1m Branch Name \u001b[0m\u001b[1m FromBus \u001b[0m\u001b[1m ToBus \u001b[0m\u001b[1m Resistance (R) \u001b[0m\u001b[1m Reactance (X) \u001b[0m\u001b[1m LineChargin\u001b[0m ⋯\n",
       "     │\u001b[90m Any         \u001b[0m\u001b[90m Any     \u001b[0m\u001b[90m Any   \u001b[0m\u001b[90m Any            \u001b[0m\u001b[90m Any           \u001b[0m\u001b[90m Any        \u001b[0m ⋯\n",
       "─────┼──────────────────────────────────────────────────────────────────────────\n",
       "   1 │ Line1To2     Bus1     Bus2   0.01938         0.05917        0           ⋯\n",
       "   2 │ Line1To5     Bus1     Bus5   0.05403         0.22304        0\n",
       "   3 │ Line2To3     Bus2     Bus3   0.04699         0.19797        0\n",
       "   4 │ Line2To4     Bus2     Bus4   0.05811         0.17632        0\n",
       "   5 │ Line2To5     Bus2     Bus5   0.05695         0.17388        0           ⋯\n",
       "   6 │ Line3To4     Bus3     Bus4   0.06701         0.17103        0\n",
       "   7 │ Line4To5     Bus4     Bus5   0.01335         0.04211        0\n",
       "   8 │ Line4To7     Bus4     Bus7   0               0.20912        0\n",
       "  ⋮  │      ⋮          ⋮       ⋮          ⋮               ⋮               ⋮    ⋱\n",
       "  14 │ Line7To8     Bus7     Bus8   0               0.17615        0           ⋯\n",
       "  15 │ Line7To9     Bus7     Bus9   0               0.11001        0\n",
       "  16 │ Line9To10    Bus9     Bus10  0.03181         0.0845         0\n",
       "  17 │ Line9To14    Bus9     Bus14  0.12711         0.27038        0\n",
       "  18 │ Line10To11   Bus10    Bus11  0.08205         0.19207        0           ⋯\n",
       "  19 │ Line12To13   Bus12    Bus13  0.22092         0.19988        0\n",
       "  20 │ Line13To14   Bus13    Bus14  0.17093         0.34802        0\n",
       "\u001b[36m                                                    2 columns and 5 rows omitted\u001b[0m"
      ]
     },
     "metadata": {},
     "output_type": "display_data"
    }
   ],
   "source": [
    "df5 = DataFrame(XLSX.gettable(lineas,\"A:G\",first_row=1,stop_in_row_function=stop_condition))"
   ]
  },
  {
   "cell_type": "markdown",
   "metadata": {},
   "source": [
    "# Modelo JuMP"
   ]
  },
  {
   "cell_type": "code",
   "execution_count": 12,
   "metadata": {},
   "outputs": [
    {
     "name": "stdout",
     "output_type": "stream",
     "text": [
      "Set parameter Username\n",
      "Academic license - for non-commercial use only - expires 2025-03-26\n"
     ]
    },
    {
     "data": {
      "text/plain": [
       "20×24 Matrix{VariableRef}:\n",
       " w[1,1]   w[1,2]   w[1,3]   w[1,4]   w[1,5]   …  w[1,22]   w[1,23]   w[1,24]\n",
       " w[2,1]   w[2,2]   w[2,3]   w[2,4]   w[2,5]      w[2,22]   w[2,23]   w[2,24]\n",
       " w[3,1]   w[3,2]   w[3,3]   w[3,4]   w[3,5]      w[3,22]   w[3,23]   w[3,24]\n",
       " w[4,1]   w[4,2]   w[4,3]   w[4,4]   w[4,5]      w[4,22]   w[4,23]   w[4,24]\n",
       " w[5,1]   w[5,2]   w[5,3]   w[5,4]   w[5,5]      w[5,22]   w[5,23]   w[5,24]\n",
       " w[6,1]   w[6,2]   w[6,3]   w[6,4]   w[6,5]   …  w[6,22]   w[6,23]   w[6,24]\n",
       " w[7,1]   w[7,2]   w[7,3]   w[7,4]   w[7,5]      w[7,22]   w[7,23]   w[7,24]\n",
       " w[8,1]   w[8,2]   w[8,3]   w[8,4]   w[8,5]      w[8,22]   w[8,23]   w[8,24]\n",
       " w[9,1]   w[9,2]   w[9,3]   w[9,4]   w[9,5]      w[9,22]   w[9,23]   w[9,24]\n",
       " w[10,1]  w[10,2]  w[10,3]  w[10,4]  w[10,5]     w[10,22]  w[10,23]  w[10,24]\n",
       " w[11,1]  w[11,2]  w[11,3]  w[11,4]  w[11,5]  …  w[11,22]  w[11,23]  w[11,24]\n",
       " w[12,1]  w[12,2]  w[12,3]  w[12,4]  w[12,5]     w[12,22]  w[12,23]  w[12,24]\n",
       " w[13,1]  w[13,2]  w[13,3]  w[13,4]  w[13,5]     w[13,22]  w[13,23]  w[13,24]\n",
       " w[14,1]  w[14,2]  w[14,3]  w[14,4]  w[14,5]     w[14,22]  w[14,23]  w[14,24]\n",
       " w[15,1]  w[15,2]  w[15,3]  w[15,4]  w[15,5]     w[15,22]  w[15,23]  w[15,24]\n",
       " w[16,1]  w[16,2]  w[16,3]  w[16,4]  w[16,5]  …  w[16,22]  w[16,23]  w[16,24]\n",
       " w[17,1]  w[17,2]  w[17,3]  w[17,4]  w[17,5]     w[17,22]  w[17,23]  w[17,24]\n",
       " w[18,1]  w[18,2]  w[18,3]  w[18,4]  w[18,5]     w[18,22]  w[18,23]  w[18,24]\n",
       " w[19,1]  w[19,2]  w[19,3]  w[19,4]  w[19,5]     w[19,22]  w[19,23]  w[19,24]\n",
       " w[20,1]  w[20,2]  w[20,3]  w[20,4]  w[20,5]     w[20,22]  w[20,23]  w[20,24]"
      ]
     },
     "metadata": {},
     "output_type": "display_data"
    }
   ],
   "source": [
    "### Problema optimizacion\n",
    "model = Model(Gurobi.Optimizer) # Crear objeto \"modelo\" con el solver Gurobi\n",
    "\n",
    "## Variables\n",
    "I = 20\n",
    "T = 24\n",
    "N = 5\n",
    "# Variables Economic Dispatch\n",
    "@variable(model, p[1:I, 1:T] >= 0)  # Potencia activa de generador i en tiempo t. Valor en p.u.\n",
    "@variable(model, d[1:N, 1:T])       # angulo (d de degree) de la barra n en tiempo t\n",
    "\n",
    "# Variables nuevas (UC)\n",
    "# No se utiliza potencia reactiva: Aproximacion DC\n",
    "#@variable(model, q[1:I, 1:T])       # Potencia reactiva de generador i en tiempo t. Valor en p.u. (puede ser < 0)\n",
    "@variable(model, u[1:I, 1:T], Bin)       # AGREGAR NATURALEZA {0,1}. Indica encendido de gen i en t.\n",
    "@variable(model, v[1:I, 1:T], Bin)       # AGREGAR NATURALEZA {0,1}. Indica apagado de gen i en t.\n",
    "@variable(model, w[1:I, 1:T], Bin)       # AGREGAR NATURALEZA {0,1}. Estado ON(1)/OFF(0) de gen i en t.\n",
    "\n",
    "# Variables BESS (no se utilizan)\n",
    "#@variable(model, pb[1:B, 1:T])      # flujo de potencia del BESS b en tiempo t\n",
    "#@variable(model, e[1:B,1:T] >=0)    # energia almacenada en el BESS e en tiempo t\n",
    "\n",
    "## Funcion Objetivo\n",
    "#@objective(model, Min, sum(Gen[i].VariableCostCost * p[i,t] +  Gen[i].FixedCost * w[i,t] + Gen[i].StartCost * u[i,t] for i in 1:I, t in 1:T ))"
   ]
  },
  {
   "cell_type": "code",
   "execution_count": 20,
   "metadata": {},
   "outputs": [
    {
     "ename": "ErrorException",
     "evalue": "type GenericModel has no field VariableRef",
     "output_type": "error",
     "traceback": [
      "type GenericModel has no field VariableRef\n",
      "\n",
      "Stacktrace:\n",
      " [1] getproperty(model::Model, name::Symbol)\n",
      "   @ JuMP C:\\Users\\sevil\\.julia\\packages\\JuMP\\OUdu2\\src\\JuMP.jl:133\n",
      " [2] top-level scope\n",
      "   @ c:\\Users\\sevil\\Desktop\\PUC-Local\\IEE3323---Operacion-Econ-mica-de-Sistemas-El-ctricos\\UnitCommitment (T2)\\testsXLSX.ipynb:1"
     ]
    }
   ],
   "source": [
    "model.VariableRef"
   ]
  },
  {
   "cell_type": "code",
   "execution_count": null,
   "metadata": {},
   "outputs": [],
   "source": []
  }
 ],
 "metadata": {
  "kernelspec": {
   "display_name": "Julia 1.9.3",
   "language": "julia",
   "name": "julia-1.9"
  },
  "language_info": {
   "file_extension": ".jl",
   "mimetype": "application/julia",
   "name": "julia",
   "version": "1.9.3"
  }
 },
 "nbformat": 4,
 "nbformat_minor": 2
}
