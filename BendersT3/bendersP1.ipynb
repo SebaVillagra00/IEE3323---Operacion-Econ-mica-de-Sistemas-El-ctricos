{
 "cells": [
  {
   "cell_type": "code",
   "execution_count": 14,
   "metadata": {},
   "outputs": [],
   "source": [
    "using JuMP, Gurobi, HiGHS"
   ]
  },
  {
   "cell_type": "markdown",
   "metadata": {},
   "source": [
    "# Problema Completo: 3 horizontes"
   ]
  },
  {
   "cell_type": "markdown",
   "metadata": {},
   "source": [
    "## Propuesta 1: modelo\n",
    "Sirve para ver como funciona el sub problema anidado."
   ]
  },
  {
   "cell_type": "code",
   "execution_count": 34,
   "metadata": {},
   "outputs": [
    {
     "name": "stdout",
     "output_type": "stream",
     "text": [
      "Set parameter Username\n",
      "Academic license - for non-commercial use only - expires 2025-03-26\n",
      "Gurobi Optimizer version 11.0.1 build v11.0.1rc0 (win64 - Windows 11.0 (22631.2))\n",
      "\n",
      "CPU model: 11th Gen Intel(R) Core(TM) i7-1185G7 @ 3.00GHz, instruction set [SSE2|AVX|AVX2|AVX512]\n",
      "Thread count: 4 physical cores, 8 logical processors, using up to 8 threads\n",
      "\n",
      "Optimize a model with 21 rows, 18 columns and 38 nonzeros\n",
      "Model fingerprint: 0x640b6c54\n",
      "Coefficient statistics:\n",
      "  Matrix range     [1e+00, 1e+00]\n",
      "  Objective range  [5e+01, 2e+02]\n",
      "  Bounds range     [0e+00, 0e+00]\n",
      "  RHS range        [3e+01, 3e+02]\n",
      "Presolve removed 18 rows and 7 columns\n",
      "Presolve time: 0.00s\n",
      "Presolved: 3 rows, 11 columns, 13 nonzeros\n",
      "\n",
      "Iteration    Objective       Primal Inf.    Dual Inf.      Time\n",
      "       0    0.0000000e+00   3.125000e+01   0.000000e+00      0s\n",
      "       2    1.7500000e+04   0.000000e+00   0.000000e+00      0s\n",
      "\n",
      "Solved in 2 iterations and 0.01 seconds (0.00 work units)\n",
      "Optimal objective  1.750000000e+04\n",
      "\n",
      "User-callback calls 76, time in user-callback 0.00 sec\n"
     ]
    }
   ],
   "source": [
    "master = Model(Gurobi.Optimizer)\n",
    "\n",
    "# IDEA: FUNCION QUE DEPENDE DE AFLUENTE\n",
    "\n",
    "I = 3   # generadores termicos\n",
    "T = 3   # periodos de tiempo\n",
    "\n",
    "@variable(master, pT[1:I, 1:T] >= 0)    # Potencia activa de generador térmico i en tiempo t. Valor en p.u.\n",
    "@variable(master, v[1:T] >= 0)          # Almacenamiento de agua\n",
    "@variable(master, s[1:T] >= 0)          # Vertimiento de agua\n",
    "@variable(master, pH[1:T])              # Potencia activa del generador hídrico (agua gastada)\n",
    "\n",
    "demanda = [150, 150, 150]               # Demanda: cte\n",
    "a = [50, 25, 25]                        # Afluentes: deterministico\n",
    "cv = [50, 100, 150]                     # Costos variables\n",
    "v0 = 100                                # Volumen inicial\n",
    "\n",
    "## CONSTRAINTS\n",
    "\n",
    "# Ax >= b\n",
    "@constraint(master, Balance[t in 1:T], sum(pT[i,t] for i in 1:I) + pH[t] == demanda[t])     # demanda = generado\n",
    "@constraint(master, PmaxT[i in 1:I, t in 1:T], pT[i,t] <= 50)                               # Pmax termico\n",
    "@constraint(master, PmaxH[t in 1:T], pH[t] <= 150)                                          # Pmax hidrico\n",
    "@constraint(master, MaxStorage[t in 1:T], v[t] <= 300)                                      # Almacenamiento V maximo\n",
    "@constraint(master, VolumenInicial, v[1] == v0 + a[1] - s[1] - pH[1])                       # Volumen en t=1\n",
    "\n",
    "# Ex + Fy >= g\n",
    "@constraint(master, Acople[t in 2:T], v[t] == v[t-1] + a[t] - s[t] - pH[t])                 # Acople temporal de Almacenamiento\n",
    "#@constraint(master, algo[t in 1:T], v[t] == 0)\n",
    "\n",
    "@objective(master, Min, sum(cv[i]*pT[i,t] for i in 1:I, t in 1:T))\n",
    "\n",
    "JuMP.optimize!(master)"
   ]
  },
  {
   "cell_type": "markdown",
   "metadata": {},
   "source": [
    "### Imprimir algunos resultados"
   ]
  },
  {
   "cell_type": "code",
   "execution_count": 40,
   "metadata": {},
   "outputs": [
    {
     "data": {
      "text/plain": [
       "3-element Vector{Float64}:\n",
       "  50.0\n",
       "  50.0\n",
       " 100.0"
      ]
     },
     "metadata": {},
     "output_type": "display_data"
    }
   ],
   "source": [
    "JuMP.value.(pH)"
   ]
  },
  {
   "cell_type": "code",
   "execution_count": 39,
   "metadata": {},
   "outputs": [
    {
     "data": {
      "text/plain": [
       "3×3 Matrix{Float64}:\n",
       " 50.0  50.0  50.0\n",
       " 50.0  50.0   0.0\n",
       "  0.0   0.0   0.0"
      ]
     },
     "metadata": {},
     "output_type": "display_data"
    }
   ],
   "source": [
    "JuMP.value.(pT)"
   ]
  },
  {
   "cell_type": "code",
   "execution_count": 43,
   "metadata": {},
   "outputs": [
    {
     "data": {
      "text/plain": [
       "3-element Vector{Float64}:\n",
       " 100.0\n",
       "  75.0\n",
       "   0.0"
      ]
     },
     "metadata": {},
     "output_type": "display_data"
    }
   ],
   "source": [
    "JuMP.value.(v)"
   ]
  },
  {
   "cell_type": "code",
   "execution_count": null,
   "metadata": {},
   "outputs": [],
   "source": []
  },
  {
   "cell_type": "markdown",
   "metadata": {},
   "source": [
    "## Propuesta 2: función que depende del estado anterior, la demanda y el afluente\n",
    "* Se resuelve esta misma función varias veces.\n",
    "* Para evaluar cada etapa se cambian los parámetros de entrada.\n",
    "* Agregar un corte de Bender significa agregar una restricción en la función.\n",
    "* Luego, para evaluar la siguiente etapa se eliminan los cortes.\n",
    "* Originalmente, se resuelve un caso **determinístico** entre la etapa **1** y **2**."
   ]
  },
  {
   "cell_type": "code",
   "execution_count": 131,
   "metadata": {},
   "outputs": [
    {
     "data": {
      "text/plain": [
       "subProblema (generic function with 1 method)"
      ]
     },
     "metadata": {},
     "output_type": "display_data"
    }
   ],
   "source": [
    "function subProblema(x, demanda, afluente)\n",
    "    v_prev = x\n",
    "    a = afluente\n",
    "    d = demanda\n",
    "    cv = [50, 100, 150]\n",
    "    # Voy a resolver el sub problema: despacho en un periodo\n",
    "    # El problema está definido por x -> potencias despachadas -> volumen almacenado\n",
    "    \n",
    "    # x: volumen inicial del nuevo periodo\n",
    "\n",
    "    sub = Model(Gurobi.Optimizer)\n",
    "\n",
    "    ## Variables: sin componente temporal\n",
    "    @variable(sub, pT[1:I] >= 0)    # Potencia activa de generador térmico i en tiempo t. Valor en p.u.\n",
    "    @variable(sub, pH >= 0)         # Potencia activa del generador hídrico (agua gastada)  \n",
    "    @variable(sub, s >= 0)          # Vertimiento de agua\n",
    "    @variable(sub, v >= 0)          # Almacenamiento de agua\n",
    "\n",
    "    @variable(sub, theta >= 0)      # theta\n",
    "\n",
    "    #@variable(sub, v_prev >= 0)    # Almacenamiento fijo de etapa anterior\n",
    "\n",
    "    ## Restricciones\n",
    "\n",
    "    # Independientes    \n",
    "    @constraint(sub, Balance, sum(pT[i] for i in 1:I) + pH == d)     # demanda = generado\n",
    "    @constraint(sub, PmaxT[i in 1:I], pT[i] <= 50)                   # Pmax termico\n",
    "    @constraint(sub, PmaxH, pH <= 150)                               # Pmax hidrico\n",
    "    @constraint(sub, MaxStorage, v <= 300)                           # Almacenamiento V maximo\n",
    "\n",
    "    # Dependientes de etapa anterior: Ax + By >= b\n",
    "    @constraint(sub, AcopleTemp, v + s + pH == a + v_prev)           # Acople temporal de Almacenamiento\n",
    "    \n",
    "    #@constraint(sub, FixStorage, v_prev == v_prev_fijo)\n",
    "\n",
    "    # solo v_prev va a la derecha (fijado de restriccion anterior)\n",
    "    # Ax >= b - By*\n",
    "\n",
    "    # Ax == b - By*      y: decisiones etapa anterior\n",
    "    # v + s + pH == a + v_prev\n",
    "    # [1 1 1]x == a + [1]y*\n",
    "\n",
    "    # Corte: theta >= lambda(a+x*):    $/MWh\n",
    "\n",
    "    # https://jump.dev/JuMP.jl/stable/tutorials/algorithms/benders_decomposition/\n",
    "    ## CORTES BENDERS:    # theta >= theta(v*) + - pi([1])(v-v*)\n",
    "    @constraint(sub, b1, theta >= 11250-150*(v-0))  \n",
    "    @constraint(sub, b2, theta >= 2500-50*(v-75)) # por cada incremento de v respecto al punto anterior (v=75) puedo reducir el costo de la siguiente etapa en 50: reduzcamoslo\n",
    "    @constraint(sub, b3, theta >= 5000-100*(v-50))\n",
    "\n",
    "    @objective(sub, Min, theta + sum(cv[i]*pT[i] for i in 1:I))\n",
    "\n",
    "    JuMP.optimize!(sub)\n",
    "    \n",
    "    # TENGO QUE SACAR EL CMg de una unidad mas de lamacenamiento\n",
    "    lambda_v = dual(AcopleTemp)    # Este agrega el corte de Bender\n",
    "    v_final = value(v)\n",
    "    costo_total = objective_value(sub)\n",
    "    costo_futuro = value(theta)\n",
    "    return Dict(\"dual\" => lambda_v, \"vol\" => v_final, \"VO\" => costo_total, \"theta\" => costo_futuro)\n",
    "end"
   ]
  },
  {
   "cell_type": "markdown",
   "metadata": {},
   "source": [
    "- Etapa 1: v = 100, a = 50\n",
    "- Etapa 2: v = ? , a = 25\n",
    "\n",
    "subProblema(x, demanda, afluente)"
   ]
  },
  {
   "cell_type": "code",
   "execution_count": 132,
   "metadata": {},
   "outputs": [
    {
     "name": "stdout",
     "output_type": "stream",
     "text": [
      "Set parameter Username\n",
      "Academic license - for non-commercial use only - expires 2025-03-26\n",
      "Gurobi Optimizer version 11.0.1 build v11.0.1rc0 (win64 - Windows 11.0 (22631.2))\n",
      "\n",
      "CPU model: 11th Gen Intel(R) Core(TM) i7-1185G7 @ 3.00GHz, instruction set [SSE2|AVX|AVX2|AVX512]\n",
      "Thread count: 4 physical cores, 8 logical processors, using up to 8 threads\n",
      "\n",
      "Optimize a model with 10 rows, 7 columns and 18 nonzeros\n",
      "Model fingerprint: 0xe885ed57\n",
      "Coefficient statistics:\n",
      "  Matrix range     [1e+00, 2e+02]\n",
      "  Objective range  [1e+00, 2e+02]\n",
      "  Bounds range     [0e+00, 0e+00]\n",
      "  RHS range        [5e+01, 1e+04]\n",
      "Presolve removed 7 rows and 3 columns\n",
      "Presolve time: 0.00s\n",
      "Presolved: 3 rows, 4 columns, 12 nonzeros\n",
      "\n",
      "Iteration    Objective       Primal Inf.    Dual Inf.      Time\n",
      "       0    0.0000000e+00   1.367188e+03   0.000000e+00      0s\n",
      "       1    7.5000000e+03   0.000000e+00   0.000000e+00      0s\n",
      "\n",
      "Solved in 1 iterations and 0.00 seconds (0.00 work units)\n",
      "Optimal objective  7.500000000e+03\n",
      "\n",
      "User-callback calls 61, time in user-callback 0.00 sec\n"
     ]
    },
    {
     "data": {
      "text/plain": [
       "Dict{String, Float64} with 4 entries:\n",
       "  \"vol\"   => 50.0\n",
       "  \"theta\" => 5000.0\n",
       "  \"dual\"  => -100.0\n",
       "  \"VO\"    => 7500.0"
      ]
     },
     "metadata": {},
     "output_type": "display_data"
    }
   ],
   "source": [
    "sol = subProblema(100, 150, 50)"
   ]
  },
  {
   "cell_type": "code",
   "execution_count": 130,
   "metadata": {},
   "outputs": [
    {
     "name": "stdout",
     "output_type": "stream",
     "text": [
      "Set parameter Username\n",
      "Academic license - for non-commercial use only - expires 2025-03-26\n",
      "Gurobi Optimizer version 11.0.1 build v11.0.1rc0 (win64 - Windows 11.0 (22631.2))\n",
      "\n",
      "CPU model: 11th Gen Intel(R) Core(TM) i7-1185G7 @ 3.00GHz, instruction set [SSE2|AVX|AVX2|AVX512]\n",
      "Thread count: 4 physical cores, 8 logical processors, using up to 8 threads\n",
      "\n",
      "Optimize a model with 7 rows, 7 columns and 12 nonzeros\n",
      "Model fingerprint: 0x718a440e\n",
      "Coefficient statistics:\n",
      "  Matrix range     [1e+00, 1e+00]\n",
      "  Objective range  [1e+00, 2e+02]\n",
      "  Bounds range     [0e+00, 0e+00]\n",
      "  RHS range        [5e+01, 3e+02]\n",
      "Presolve removed 6 rows and 4 columns\n",
      "Presolve time: 0.00s\n",
      "Presolved: 1 rows, 3 columns, 3 nonzeros\n",
      "\n",
      "Iteration    Objective       Primal Inf.    Dual Inf.      Time\n",
      "       0    0.0000000e+00   1.875000e+01   0.000000e+00      0s\n",
      "       1    5.0000000e+03   0.000000e+00   0.000000e+00      0s\n",
      "\n",
      "Solved in 1 iterations and 0.00 seconds (0.00 work units)\n",
      "Optimal objective  5.000000000e+03\n",
      "\n",
      "User-callback calls 41, time in user-callback 0.00 sec\n"
     ]
    },
    {
     "data": {
      "text/plain": [
       "Dict{String, Float64} with 4 entries:\n",
       "  \"vol\"   => 0.0\n",
       "  \"theta\" => 0.0\n",
       "  \"dual\"  => -100.0\n",
       "  \"VO\"    => 5000.0"
      ]
     },
     "metadata": {},
     "output_type": "display_data"
    }
   ],
   "source": [
    "sol2 = subProblema(50, 150, 25)"
   ]
  },
  {
   "cell_type": "code",
   "execution_count": 80,
   "metadata": {},
   "outputs": [
    {
     "name": "stdout",
     "output_type": "stream",
     "text": [
      " \n",
      "******************\n",
      "Variable dual volumen:0.0\n",
      "Volumen final etapa:0.0\n",
      "Costo total:0.0\n",
      "Costo siguiente etapa:0.0\n"
     ]
    }
   ],
   "source": [
    "println(\" \")\n",
    "println(\"******************\")\n",
    "println(\"Variable dual volumen:\", sol[\"dual\"])\n",
    "println(\"Volumen final etapa:\", sol[\"vol\"])\n",
    "println(\"Costo total:\", sol[\"VO\"])\n",
    "println(\"Costo siguiente etapa:\", sol[\"theta\"])"
   ]
  },
  {
   "cell_type": "code",
   "execution_count": null,
   "metadata": {},
   "outputs": [],
   "source": []
  }
 ],
 "metadata": {
  "kernelspec": {
   "display_name": "Julia 1.9.3",
   "language": "julia",
   "name": "julia-1.9"
  },
  "language_info": {
   "file_extension": ".jl",
   "mimetype": "application/julia",
   "name": "julia",
   "version": "1.9.3"
  }
 },
 "nbformat": 4,
 "nbformat_minor": 2
}
