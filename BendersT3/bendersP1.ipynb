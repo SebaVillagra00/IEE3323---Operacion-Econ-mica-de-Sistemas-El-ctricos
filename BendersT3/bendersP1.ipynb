{
 "cells": [
  {
   "cell_type": "code",
   "execution_count": 1,
   "metadata": {},
   "outputs": [],
   "source": [
    "using JuMP, Gurobi, HiGHS"
   ]
  },
  {
   "cell_type": "markdown",
   "metadata": {},
   "source": [
    "# Problema Completo: 3 horizontes"
   ]
  },
  {
   "cell_type": "markdown",
   "metadata": {},
   "source": [
    "## Propuesta 1: modelo\n",
    "Sirve para ver como funciona el sub problema anidado."
   ]
  },
  {
   "cell_type": "code",
   "execution_count": null,
   "metadata": {},
   "outputs": [],
   "source": [
    "master = Model(Gurobi.Optimizer)\n",
    "\n",
    "# IDEA: FUNCION QUE DEPENDE DE AFLUENTE\n",
    "\n",
    "I = 3   # generadores termicos\n",
    "T = 3   # periodos de tiempo\n",
    "\n",
    "@variable(master, pT[1:I, 1:T] >= 0)    # Potencia activa de generador térmico i en tiempo t. Valor en p.u.\n",
    "@variable(master, v[1:T] >= 0)          # Almacenamiento de agua\n",
    "@variable(master, s[1:T] >= 0)          # Vertimiento de agua\n",
    "@variable(master, pH[1:T])              # Potencia activa del generador hídrico (agua gastada)\n",
    "\n",
    "demanda = [150, 150, 150]               # Demanda: cte\n",
    "a = [50, 25, 25]                        # Afluentes: deterministico\n",
    "cv = [50, 100, 150]                     # Costos variables\n",
    "v0 = 100                                # Volumen inicial\n",
    "\n",
    "## CONSTRAINTS\n",
    "\n",
    "# Ax >= b\n",
    "@constraint(master, Balance[t in 1:T], sum(pT[i,t] for i in 1:I) + pH[t] == demanda[t])     # demanda = generado\n",
    "@constraint(master, PmaxT[i in 1:I, t in 1:T], pT[i,t] <= 50)                               # Pmax termico\n",
    "@constraint(master, PmaxH[t in 1:T], pH[t] <= 150)                                          # Pmax hidrico\n",
    "@constraint(master, MaxStorage[t in 1:T], v[t] <= 300)                                      # Almacenamiento V maximo\n",
    "@constraint(master, VolumenInicial, v[1] == v0 + a[1] - s[1] - pH[1])                       # Volumen en t=1\n",
    "\n",
    "# Ex + Fy >= g\n",
    "@constraint(master, Acople[t in 2:T], v[t] == v[t-1] + a[t] - s[t] - pH[t])                 # Acople temporal de Almacenamiento\n",
    "#@constraint(master, algo[t in 1:T], v[t] == 0)\n",
    "\n",
    "@objective(master, Min, sum(cv[i]*pT[i,t] for i in 1:I, t in 1:T))\n",
    "\n",
    "JuMP.optimize!(master)"
   ]
  },
  {
   "cell_type": "markdown",
   "metadata": {},
   "source": [
    "### Imprimir algunos resultados"
   ]
  },
  {
   "cell_type": "code",
   "execution_count": null,
   "metadata": {},
   "outputs": [],
   "source": [
    "JuMP.value.(pH)"
   ]
  },
  {
   "cell_type": "code",
   "execution_count": null,
   "metadata": {},
   "outputs": [],
   "source": [
    "JuMP.value.(pT)"
   ]
  },
  {
   "cell_type": "code",
   "execution_count": null,
   "metadata": {},
   "outputs": [],
   "source": [
    "JuMP.value.(v)"
   ]
  },
  {
   "cell_type": "code",
   "execution_count": null,
   "metadata": {},
   "outputs": [],
   "source": []
  },
  {
   "cell_type": "markdown",
   "metadata": {},
   "source": [
    "## Propuesta 2: función que depende del estado anterior, la demanda y el afluente\n",
    "* Se resuelve esta misma función varias veces.\n",
    "* Para evaluar cada etapa se cambian los parámetros de entrada.\n",
    "* Agregar un corte de Bender significa agregar una restricción en la función.\n",
    "* Luego, para evaluar la siguiente etapa se eliminan los cortes.\n",
    "* Originalmente, se resuelve un caso **determinístico** entre la etapa **1** y **2**."
   ]
  },
  {
   "cell_type": "code",
   "execution_count": 3,
   "metadata": {},
   "outputs": [
    {
     "data": {
      "text/plain": [
       "subProblema (generic function with 1 method)"
      ]
     },
     "metadata": {},
     "output_type": "display_data"
    }
   ],
   "source": [
    "function subProblema(x, demanda, afluente)\n",
    "    v_prev = x\n",
    "    a = afluente\n",
    "    d = demanda\n",
    "    cv = [50, 100, 150]\n",
    "    # Voy a resolver el sub problema: despacho en un periodo\n",
    "    # El problema está definido por x -> potencias despachadas -> volumen almacenado\n",
    "    \n",
    "    # x: volumen inicial del nuevo periodo\n",
    "\n",
    "    sub = Model(Gurobi.Optimizer)\n",
    "\n",
    "    ## Variables: sin componente temporal\n",
    "    @variable(sub, pT[1:I] >= 0)    # Potencia activa de generador térmico i en tiempo t. Valor en p.u.\n",
    "    @variable(sub, pH >= 0)         # Potencia activa del generador hídrico (agua gastada)  \n",
    "    @variable(sub, s >= 0)          # Vertimiento de agua\n",
    "    @variable(sub, v >= 0)          # Almacenamiento de agua\n",
    "\n",
    "    @variable(sub, theta >= 0)      # theta\n",
    "\n",
    "    #@variable(sub, v_prev >= 0)    # Almacenamiento fijo de etapa anterior\n",
    "\n",
    "    ## Restricciones\n",
    "\n",
    "    # Independientes    \n",
    "    @constraint(sub, Balance, sum(pT[i] for i in 1:I) + pH == d)     # demanda = generado\n",
    "    @constraint(sub, PmaxT[i in 1:I], pT[i] <= 50)                   # Pmax termico\n",
    "    @constraint(sub, PmaxH, pH <= 150)                               # Pmax hidrico\n",
    "    @constraint(sub, MaxStorage, v <= 300)                           # Almacenamiento V maximo\n",
    "\n",
    "    # Dependientes de etapa anterior: Ax + By >= b\n",
    "    @constraint(sub, AcopleTemp, v + s + pH == a + v_prev)           # Acople temporal de Almacenamiento\n",
    "    \n",
    "    #@constraint(sub, FixStorage, v_prev == v_prev_fijo)\n",
    "\n",
    "    # solo v_prev va a la derecha (fijado de restriccion anterior)\n",
    "    # Ax >= b - By*\n",
    "\n",
    "    # Ax == b - By*      y: decisiones etapa anterior\n",
    "    # v + s + pH == a + v_prev\n",
    "    # [1 1 1]x == a + [1]y*\n",
    "\n",
    "    # Corte: theta >= lambda(a+x*):    $/MWh\n",
    "\n",
    "    # https://jump.dev/JuMP.jl/stable/tutorials/algorithms/benders_decomposition/\n",
    "    ## CORTES BENDERS:    # theta >= theta(v*) + - pi([1])(v-v*)\n",
    "    @constraint(sub, b1, theta >= 11250-150*(v-0))  \n",
    "    @constraint(sub, b2, theta >= 2500-50*(v-75)) # por cada incremento de v respecto al punto anterior (v=75) puedo reducir el costo de la siguiente etapa en 50: reduzcamoslo\n",
    "    @constraint(sub, b3, theta >= 5000-100*(v-50))\n",
    "\n",
    "    @objective(sub, Min, theta + sum(cv[i]*pT[i] for i in 1:I))\n",
    "\n",
    "    JuMP.optimize!(sub)\n",
    "    \n",
    "    # TENGO QUE SACAR EL CMg de una unidad mas de lamacenamiento\n",
    "    lambda_v = dual(AcopleTemp)    # Este agrega el corte de Bender\n",
    "    v_final = value(v)\n",
    "    costo_total = objective_value(sub)\n",
    "    costo_futuro = value(theta)\n",
    "    return Dict(\"dual\" => lambda_v, \"vol\" => v_final, \"VO\" => costo_total, \"theta\" => costo_futuro)\n",
    "end"
   ]
  },
  {
   "cell_type": "markdown",
   "metadata": {},
   "source": [
    "- Etapa 1: v = 100, a = 50\n",
    "- Etapa 2: v = ? , a = 25\n",
    "\n",
    "subProblema(x, demanda, afluente)"
   ]
  },
  {
   "cell_type": "code",
   "execution_count": null,
   "metadata": {},
   "outputs": [],
   "source": [
    "sol = subProblema(100, 150, 50)"
   ]
  },
  {
   "cell_type": "code",
   "execution_count": null,
   "metadata": {},
   "outputs": [],
   "source": [
    "sol2 = subProblema(50, 150, 25)"
   ]
  },
  {
   "cell_type": "code",
   "execution_count": null,
   "metadata": {},
   "outputs": [],
   "source": [
    "println(\" \")\n",
    "println(\"******************\")\n",
    "println(\"Variable dual volumen:\", sol[\"dual\"])\n",
    "println(\"Volumen final etapa:\", sol[\"vol\"])\n",
    "println(\"Costo total:\", sol[\"VO\"])\n",
    "println(\"Costo siguiente etapa:\", sol[\"theta\"])"
   ]
  },
  {
   "cell_type": "code",
   "execution_count": null,
   "metadata": {},
   "outputs": [],
   "source": []
  },
  {
   "cell_type": "markdown",
   "metadata": {},
   "source": [
    "## Master y Sub\n",
    "- Master: se le agregan los cortes necesarios\n",
    "- Sub: no tiene cortes"
   ]
  },
  {
   "cell_type": "code",
   "execution_count": 2,
   "metadata": {},
   "outputs": [
    {
     "data": {
      "text/plain": [
       "subProblema (generic function with 1 method)"
      ]
     },
     "metadata": {},
     "output_type": "display_data"
    }
   ],
   "source": [
    "function subProblema(x, demanda, afluente)\n",
    "    v_prev = x\n",
    "    a = afluente\n",
    "    d = demanda\n",
    "    cv = [50, 100, 150]\n",
    "    I = 3                   # Generadores termicos\n",
    "    # Voy a resolver el sub problema: despacho en un periodo\n",
    "    # El problema está definido por x -> potencias despachadas -> volumen almacenado\n",
    "    \n",
    "    # x: volumen inicial del nuevo periodo\n",
    "\n",
    "    sub = Model(Gurobi.Optimizer)\n",
    "\n",
    "    ## Variables: sin componente temporal\n",
    "    @variable(sub, pT[1:I] >= 0)    # Potencia activa de generador térmico i en tiempo t. Valor en p.u.\n",
    "    @variable(sub, pH >= 0)         # Potencia activa del generador hídrico (agua gastada)  \n",
    "    @variable(sub, s >= 0)          # Vertimiento de agua\n",
    "    @variable(sub, v >= 0)          # Almacenamiento de agua\n",
    "\n",
    "    @variable(sub, theta >= 0)      # theta\n",
    "\n",
    "    #@variable(sub, v_prev >= 0)    # Almacenamiento fijo de etapa anterior\n",
    "\n",
    "    ## Restricciones\n",
    "\n",
    "    # Independientes    \n",
    "    @constraint(sub, Balance, sum(pT[i] for i in 1:I) + pH == d)     # demanda = generado\n",
    "    @constraint(sub, PmaxT[i in 1:I], pT[i] <= 50)                   # Pmax termico\n",
    "    @constraint(sub, PmaxH, pH <= 150)                               # Pmax hidrico\n",
    "    @constraint(sub, MaxStorage, v <= 300)                           # Almacenamiento V maximo\n",
    "\n",
    "    # Dependientes de etapa anterior: Ax + By >= b\n",
    "    @constraint(sub, AcopleTemp, v + s + pH == a + v_prev)           # Acople temporal de Almacenamiento\n",
    "    \n",
    "    #@constraint(sub, FixStorage, v_prev == v_prev_fijo)\n",
    "\n",
    "    # solo v_prev va a la derecha (fijado de restriccion anterior)\n",
    "    # Ax >= b - By*\n",
    "\n",
    "    # Ax == b - By*      y: decisiones etapa anterior\n",
    "    # v + s + pH == a + v_prev\n",
    "    # [1 1 1]x == a + [1]y*\n",
    "\n",
    "    # Corte: theta >= lambda(a+x*):    $/MWh\n",
    "\n",
    "    # https://jump.dev/JuMP.jl/stable/tutorials/algorithms/benders_decomposition/\n",
    "    ## CORTES BENDERS:    # theta >= theta(v*) + - pi([1])(v-v*)\n",
    "    #@constraint(sub, b1, theta >= 11250-150*(v-0))  \n",
    "    #@constraint(sub, b2, theta >= 2500-50*(v-75)) # por cada incremento de v respecto al punto anterior (v=75) puedo reducir el costo de la siguiente etapa en 50: reduzcamoslo\n",
    "    #@constraint(sub, b3, theta >= 5000-100*(v-50))\n",
    "\n",
    "    @objective(sub, Min, theta + sum(cv[i]*pT[i] for i in 1:I))\n",
    "\n",
    "    JuMP.optimize!(sub)\n",
    "    \n",
    "    # TENGO QUE SACAR EL CMg de una unidad mas de lamacenamiento\n",
    "    lambda_v = dual(AcopleTemp)    # Este agrega el corte de Bender\n",
    "    v_final = value(v)\n",
    "    costo_total = objective_value(sub)\n",
    "    costo_futuro = value(theta)\n",
    "    costo_etapa = costo_total-costo_futuro\n",
    "    return Dict(\"vol\" => v_final, \"dual\" => lambda_v, \"stageCost\" => costo_etapa, \"theta\" => costo_futuro, \"VO\"=>costo_total)\n",
    "end"
   ]
  },
  {
   "cell_type": "code",
   "execution_count": 3,
   "metadata": {},
   "outputs": [
    {
     "data": {
      "text/plain": [
       "Problema_Cortes (generic function with 1 method)"
      ]
     },
     "metadata": {},
     "output_type": "display_data"
    }
   ],
   "source": [
    "function Problema_Cortes(x, demanda, afluente)\n",
    "    v_prev = x\n",
    "    a = afluente\n",
    "    d = demanda\n",
    "    cv = [50, 100, 150]\n",
    "    I = 3\n",
    "    # Voy a resolver el sub problema: despacho en un periodo\n",
    "    # El problema está definido por x -> potencias despachadas -> volumen almacenado\n",
    "    \n",
    "    # x: volumen inicial del nuevo periodo\n",
    "\n",
    "    sub = Model(Gurobi.Optimizer)\n",
    "\n",
    "    ## Variables: sin componente temporal\n",
    "    @variable(sub, pT[1:I] >= 0)    # Potencia activa de generador térmico i en tiempo t. Valor en p.u.\n",
    "    @variable(sub, pH >= 0)         # Potencia activa del generador hídrico (agua gastada)  \n",
    "    @variable(sub, s >= 0)          # Vertimiento de agua\n",
    "    @variable(sub, v >= 0)          # Almacenamiento de agua\n",
    "\n",
    "    @variable(sub, theta >= 0)      # theta\n",
    "\n",
    "    #@variable(sub, v_prev >= 0)    # Almacenamiento fijo de etapa anterior\n",
    "\n",
    "    ## Restricciones\n",
    "\n",
    "    # Independientes    \n",
    "    @constraint(sub, Balance, sum(pT[i] for i in 1:I) + pH == d)     # demanda = generado\n",
    "    @constraint(sub, PmaxT[i in 1:I], pT[i] <= 50)                   # Pmax termico\n",
    "    @constraint(sub, PmaxH, pH <= 150)                               # Pmax hidrico\n",
    "    @constraint(sub, MaxStorage, v <= 300)                           # Almacenamiento V maximo\n",
    "\n",
    "    # Dependientes de etapa anterior: Ax + By >= b\n",
    "    @constraint(sub, AcopleTemp, v + s + pH == a + v_prev)           # Acople temporal de Almacenamiento\n",
    "    \n",
    "    #@constraint(sub, FixStorage, v_prev == v_prev_fijo)\n",
    "\n",
    "    # solo v_prev va a la derecha (fijado de restriccion anterior)\n",
    "    # Ax >= b - By*\n",
    "\n",
    "    # Ax == b - By*      y: decisiones etapa anterior\n",
    "    # v + s + pH == a + v_prev\n",
    "    # [1 1 1]x == a + [1]y*\n",
    "\n",
    "    # Corte: theta >= lambda(a+x*):    $/MWh\n",
    "\n",
    "    # https://jump.dev/JuMP.jl/stable/tutorials/algorithms/benders_decomposition/\n",
    "    ## CORTES BENDERS:    # theta >= theta(v*) + - pi([1])(v-v*)\n",
    "\n",
    "    # corte etapa 2: theta >= 8125 - 125(v-0)\n",
    "    # corte etapa 1: theta >= 8125 - 125(v-0)\n",
    "    @constraint(sub, b1, theta >= 8125-125*(v-0))  \n",
    "    #@constraint(sub, b2, theta >= 2500-50*(v-75)) # por cada incremento de v respecto al punto anterior (v=75) puedo reducir el costo de la siguiente etapa en 50: reduzcamoslo\n",
    "    #@constraint(sub, b3, theta >= 5000-100*(v-50))\n",
    "\n",
    "    @objective(sub, Min, theta + sum(cv[i]*pT[i] for i in 1:I))\n",
    "\n",
    "    JuMP.optimize!(sub)\n",
    "    \n",
    "    # TENGO QUE SACAR EL CMg de una unidad mas de lamacenamiento\n",
    "    lambda_v = dual(AcopleTemp)    # Este agrega el corte de Bender\n",
    "    v_final = value(v)\n",
    "    costo_total = objective_value(sub)\n",
    "    costo_futuro = value(theta)\n",
    "    costo_etapa = costo_total-costo_futuro\n",
    "    return Dict(\"vol\" => v_final, \"dual\" => lambda_v, \"stageCost\" => costo_etapa, \"theta\" => costo_futuro, \"VO\"=>costo_total)\n",
    "end"
   ]
  },
  {
   "cell_type": "markdown",
   "metadata": {},
   "source": [
    "## Iteración 1: sin cortes\n",
    "\n",
    "subProblema(volumen_prev, demanda, afluente)"
   ]
  },
  {
   "cell_type": "markdown",
   "metadata": {},
   "source": [
    "### T = 1"
   ]
  },
  {
   "cell_type": "code",
   "execution_count": null,
   "metadata": {},
   "outputs": [],
   "source": [
    "subProblema(100,150,50)"
   ]
  },
  {
   "cell_type": "markdown",
   "metadata": {},
   "source": [
    "### T = 2\n",
    "- Caso 2.1: afluente 25\n",
    "- Caso 2.2: afluente 75"
   ]
  },
  {
   "cell_type": "code",
   "execution_count": 12,
   "metadata": {},
   "outputs": [
    {
     "name": "stdout",
     "output_type": "stream",
     "text": [
      "Set parameter Username\n",
      "Academic license - for non-commercial use only - expires 2025-03-26\n",
      "Gurobi Optimizer version 11.0.1 build v11.0.1rc0 (win64 - Windows 11.0 (22631.2))\n",
      "\n",
      "CPU model: 11th Gen Intel(R) Core(TM) i7-1185G7 @ 3.00GHz, instruction set [SSE2|AVX|AVX2|AVX512]\n",
      "Thread count: 4 physical cores, 8 logical processors, using up to 8 threads\n",
      "\n",
      "Optimize a model with 7 rows, 7 columns and 12 nonzeros\n",
      "Model fingerprint: 0xb831816d\n",
      "Coefficient statistics:\n",
      "  Matrix range     [1e+00, 1e+00]\n",
      "  Objective range  [1e+00, 2e+02]\n",
      "  Bounds range     [0e+00, 0e+00]\n",
      "  RHS range        [3e+01, 3e+02]\n",
      "Presolve removed 7 rows and 7 columns\n",
      "Presolve time: 0.00s\n",
      "Presolve: All rows and columns removed\n",
      "Iteration    Objective       Primal Inf.    Dual Inf.      Time\n",
      "       0    1.1250000e+04   0.000000e+00   0.000000e+00      0s\n",
      "\n",
      "Solved in 0 iterations and 0.00 seconds (0.00 work units)\n",
      "Optimal objective  1.125000000e+04\n",
      "\n",
      "User-callback calls 39, time in user-callback 0.00 sec\n",
      "Set parameter Username\n",
      "Academic license - for non-commercial use only - expires 2025-03-26\n",
      "Gurobi Optimizer version 11.0.1 build v11.0.1rc0 (win64 - Windows 11.0 (22631.2))\n",
      "\n",
      "CPU model: 11th Gen Intel(R) Core(TM) i7-1185G7 @ 3.00GHz, instruction set [SSE2|AVX|AVX2|AVX512]\n",
      "Thread count: 4 physical cores, 8 logical processors, using up to 8 threads\n",
      "\n",
      "Optimize a model with 7 rows, 7 columns and 12 nonzeros\n",
      "Model fingerprint: 0x718a440e\n",
      "Coefficient statistics:\n",
      "  Matrix range     [1e+00, 1e+00]\n",
      "  Objective range  [1e+00, 2e+02]\n",
      "  Bounds range     [0e+00, 0e+00]\n",
      "  RHS range        [5e+01, 3e+02]\n",
      "Presolve removed 6 rows and 4 columns\n",
      "Presolve time: 0.00s\n",
      "Presolved: 1 rows, 3 columns, 3 nonzeros\n",
      "\n",
      "Iteration    Objective       Primal Inf.    Dual Inf.      Time\n",
      "       0    0.0000000e+00   1.875000e+01   0.000000e+00      0s\n",
      "       1    5.0000000e+03   0.000000e+00   0.000000e+00      0s\n",
      "\n",
      "Solved in 1 iterations and 0.00 seconds (0.00 work units)\n",
      "Optimal objective  5.000000000e+03\n",
      "\n",
      "User-callback calls 41, time in user-callback 0.00 sec\n"
     ]
    },
    {
     "data": {
      "text/plain": [
       "Dict{String, Float64} with 5 entries:\n",
       "  \"vol\"       => 0.0\n",
       "  \"stageCost\" => 5000.0\n",
       "  \"dual\"      => -100.0\n",
       "  \"theta\"     => 0.0\n",
       "  \"VO\"        => 5000.0"
      ]
     },
     "metadata": {},
     "output_type": "display_data"
    }
   ],
   "source": [
    "Caso2_1 = subProblema(0,150,25)\n",
    "Caso2_2 = subProblema(0,150,75)"
   ]
  },
  {
   "cell_type": "markdown",
   "metadata": {},
   "source": [
    "Imprimir resultados"
   ]
  },
  {
   "cell_type": "code",
   "execution_count": null,
   "metadata": {},
   "outputs": [],
   "source": [
    "Caso2_1"
   ]
  },
  {
   "cell_type": "code",
   "execution_count": null,
   "metadata": {},
   "outputs": [],
   "source": [
    "Caso2_2"
   ]
  },
  {
   "cell_type": "markdown",
   "metadata": {},
   "source": [
    "### Etapa 3\n",
    "$A_2$ = 25 \n",
    "- Caso 1: $A_3$ = 25\n",
    "- Caso 2: $A_3$ = 75\n",
    "\n",
    "$A_2$ = 75\n",
    "- Caso 3: $A_3$ = 25\n",
    "- Caso 4: $A_3$ = 75"
   ]
  },
  {
   "cell_type": "code",
   "execution_count": null,
   "metadata": {},
   "outputs": [],
   "source": [
    "Caso3_1 = subProblema(0,150,25)\n",
    "Caso3_2 = subProblema(0,150,75)\n",
    "Caso3_3 = subProblema(0,150,25)\n",
    "Caso3_4 = subProblema(0,150,75)"
   ]
  },
  {
   "cell_type": "code",
   "execution_count": null,
   "metadata": {},
   "outputs": [],
   "source": [
    "Caso3_4"
   ]
  },
  {
   "cell_type": "markdown",
   "metadata": {},
   "source": [
    "# Forward Iteración 2"
   ]
  },
  {
   "cell_type": "markdown",
   "metadata": {},
   "source": [
    "### Etapa 1"
   ]
  },
  {
   "cell_type": "code",
   "execution_count": 4,
   "metadata": {},
   "outputs": [
    {
     "name": "stdout",
     "output_type": "stream",
     "text": [
      "Set parameter Username\n",
      "Academic license - for non-commercial use only - expires 2025-03-26\n",
      "Gurobi Optimizer version 11.0.1 build v11.0.1rc0 (win64 - Windows 11.0 (22631.2))\n",
      "\n",
      "CPU model: 11th Gen Intel(R) Core(TM) i7-1185G7 @ 3.00GHz, instruction set [SSE2|AVX|AVX2|AVX512]\n",
      "Thread count: 4 physical cores, 8 logical processors, using up to 8 threads\n",
      "\n",
      "Optimize a model with 8 rows, 7 columns and 14 nonzeros\n",
      "Model fingerprint: 0x8b30c572\n",
      "Coefficient statistics:\n",
      "  Matrix range     [1e+00, 1e+02]\n",
      "  Objective range  [1e+00, 2e+02]\n",
      "  Bounds range     [0e+00, 0e+00]\n",
      "  RHS range        [5e+01, 8e+03]\n",
      "Presolve removed 7 rows and 4 columns\n",
      "Presolve time: 0.01s\n",
      "Presolved: 1 rows, 3 columns, 3 nonzeros\n",
      "\n",
      "Iteration    Objective       Primal Inf.    Dual Inf.      Time\n",
      "       0    0.0000000e+00   2.539063e+02   0.000000e+00      0s\n",
      "       1    4.0000000e+03   0.000000e+00   0.000000e+00      0s\n",
      "\n",
      "Solved in 1 iterations and 0.01 seconds (0.00 work units)\n",
      "Optimal objective  4.000000000e+03\n",
      "\n",
      "User-callback calls 68, time in user-callback 0.00 sec\n"
     ]
    },
    {
     "data": {
      "text/plain": [
       "Dict{String, Float64} with 5 entries:\n",
       "  \"vol\"       => 65.0\n",
       "  \"stageCost\" => 4000.0\n",
       "  \"dual\"      => -100.0\n",
       "  \"theta\"     => 0.0\n",
       "  \"VO\"        => 4000.0"
      ]
     },
     "metadata": {},
     "output_type": "display_data"
    }
   ],
   "source": [
    "etapa_1 = Problema_Cortes(100,150,50)"
   ]
  },
  {
   "cell_type": "markdown",
   "metadata": {},
   "source": [
    "### Etapa 2:\n",
    "- T2_C1: $A_2$ = 25\n",
    "- T2_C2: $A_2$ = 75"
   ]
  },
  {
   "cell_type": "code",
   "execution_count": 14,
   "metadata": {},
   "outputs": [
    {
     "name": "stdout",
     "output_type": "stream",
     "text": [
      "Set parameter Username\n",
      "Academic license - for non-commercial use only - expires 2025-03-26\n",
      "Gurobi Optimizer version 11.0.1 build v11.0.1rc0 (win64 - Windows 11.0 (22631.2))\n",
      "\n",
      "CPU model: 11th Gen Intel(R) Core(TM) i7-1185G7 @ 3.00GHz, instruction set [SSE2|AVX|AVX2|AVX512]\n",
      "Thread count: 4 physical cores, 8 logical processors, using up to 8 threads\n",
      "\n",
      "Optimize a model with 8 rows, 7 columns and 14 nonzeros\n",
      "Model fingerprint: 0xe69807da\n",
      "Coefficient statistics:\n",
      "  Matrix range     [1e+00, 1e+02]\n",
      "  Objective range  [1e+00, 2e+02]\n",
      "  Bounds range     [0e+00, 0e+00]\n",
      "  RHS range        [5e+01, 8e+03]\n",
      "Presolve removed 6 rows and 3 columns\n",
      "Presolve time: 0.00s\n",
      "Presolved: 2 rows, 4 columns, 5 nonzeros\n",
      "\n",
      "Iteration    Objective       Primal Inf.    Dual Inf.      Time\n",
      "       0    2.5000000e+03   3.329688e+02   0.000000e+00      0s\n",
      "       1    1.0625000e+04   0.000000e+00   0.000000e+00      0s\n",
      "\n",
      "Solved in 1 iterations and 0.00 seconds (0.00 work units)\n",
      "Optimal objective  1.062500000e+04\n",
      "\n",
      "User-callback calls 60, time in user-callback 0.00 sec\n"
     ]
    },
    {
     "data": {
      "text/plain": [
       "Dict{String, Float64} with 5 entries:\n",
       "  \"vol\"       => 40.0\n",
       "  \"stageCost\" => 7500.0\n",
       "  \"dual\"      => -125.0\n",
       "  \"theta\"     => 3125.0\n",
       "  \"VO\"        => 10625.0"
      ]
     },
     "metadata": {},
     "output_type": "display_data"
    }
   ],
   "source": [
    "T2_C1 = Problema_Cortes(65, 150, 25)"
   ]
  },
  {
   "cell_type": "code",
   "execution_count": 8,
   "metadata": {},
   "outputs": [
    {
     "name": "stdout",
     "output_type": "stream",
     "text": [
      "Set parameter Username\n",
      "Academic license - for non-commercial use only - expires 2025-03-26\n",
      "Gurobi Optimizer version 11.0.1 build v11.0.1rc0 (win64 - Windows 11.0 (22631.2))\n",
      "\n",
      "CPU model: 11th Gen Intel(R) Core(TM) i7-1185G7 @ 3.00GHz, instruction set [SSE2|AVX|AVX2|AVX512]\n",
      "Thread count: 4 physical cores, 8 logical processors, using up to 8 threads\n",
      "\n",
      "Optimize a model with 8 rows, 7 columns and 14 nonzeros\n",
      "Model fingerprint: 0x6b0c2636\n",
      "Coefficient statistics:\n",
      "  Matrix range     [1e+00, 1e+02]\n",
      "  Objective range  [1e+00, 2e+02]\n",
      "  Bounds range     [0e+00, 0e+00]\n",
      "  RHS range        [5e+01, 8e+03]\n",
      "Presolve removed 6 rows and 2 columns\n",
      "Presolve time: 0.00s\n",
      "Presolved: 2 rows, 5 columns, 6 nonzeros\n",
      "\n",
      "Iteration    Objective       Primal Inf.    Dual Inf.      Time\n",
      "       0    0.0000000e+00   3.329688e+02   0.000000e+00      0s\n",
      "       1    5.0000000e+03   0.000000e+00   0.000000e+00      0s\n",
      "\n",
      "Solved in 1 iterations and 0.01 seconds (0.00 work units)\n",
      "Optimal objective  5.000000000e+03\n",
      "\n",
      "User-callback calls 60, time in user-callback 0.00 sec\n"
     ]
    },
    {
     "data": {
      "text/plain": [
       "Dict{String, Float64} with 5 entries:\n",
       "  \"vol\"       => 65.0\n",
       "  \"stageCost\" => 5000.0\n",
       "  \"dual\"      => -100.0\n",
       "  \"theta\"     => 0.0\n",
       "  \"VO\"        => 5000.0"
      ]
     },
     "metadata": {},
     "output_type": "display_data"
    }
   ],
   "source": [
    "T2_C2 = Problema_Cortes(65, 150, 75)"
   ]
  },
  {
   "cell_type": "code",
   "execution_count": null,
   "metadata": {},
   "outputs": [],
   "source": [
    "println(\"Etapa 2 - Caso 1:\")\n",
    "println(T2_C1)\n",
    "println(\"---------------------------------------------------------------------------------\")\n",
    "println(\"Etapa 2 - Caso 2:\")\n",
    "println(T2_C2)"
   ]
  },
  {
   "cell_type": "markdown",
   "metadata": {},
   "source": [
    "### Etapa 3: sin cortes"
   ]
  },
  {
   "cell_type": "code",
   "execution_count": 10,
   "metadata": {},
   "outputs": [
    {
     "name": "stdout",
     "output_type": "stream",
     "text": [
      "Set parameter Username\n",
      "Academic license - for non-commercial use only - expires 2025-03-26\n",
      "Gurobi Optimizer version 11.0.1 build v11.0.1rc0 (win64 - Windows 11.0 (22631.2))\n",
      "\n",
      "CPU model: 11th Gen Intel(R) Core(TM) i7-1185G7 @ 3.00GHz, instruction set [SSE2|AVX|AVX2|AVX512]\n",
      "Thread count: 4 physical cores, 8 logical processors, using up to 8 threads\n",
      "\n",
      "Optimize a model with 7 rows, 7 columns and 12 nonzeros\n",
      "Model fingerprint: 0x2586ac96\n",
      "Coefficient statistics:\n",
      "  Matrix range     [1e+00, 1e+00]\n",
      "  Objective range  [1e+00, 2e+02]\n",
      "  Bounds range     [0e+00, 0e+00]\n",
      "  RHS range        [5e+01, 3e+02]\n",
      "Presolve removed 6 rows and 4 columns\n",
      "Presolve time: 0.00s\n",
      "Presolved: 1 rows, 3 columns, 3 nonzeros\n",
      "\n",
      "Iteration    Objective       Primal Inf.    Dual Inf.      Time\n",
      "       0    0.0000000e+00   2.125000e+01   0.000000e+00      0s\n",
      "       1    6.0000000e+03   0.000000e+00   0.000000e+00      0s\n",
      "\n",
      "Solved in 1 iterations and 0.00 seconds (0.00 work units)\n",
      "Optimal objective  6.000000000e+03\n",
      "\n",
      "User-callback calls 41, time in user-callback 0.00 sec\n",
      "Set parameter Username\n",
      "Academic license - for non-commercial use only - expires 2025-03-26\n",
      "Gurobi Optimizer version 11.0.1 build v11.0.1rc0 (win64 - Windows 11.0 (22631.2))\n",
      "\n",
      "CPU model: 11th Gen Intel(R) Core(TM) i7-1185G7 @ 3.00GHz, instruction set [SSE2|AVX|AVX2|AVX512]\n",
      "Thread count: 4 physical cores, 8 logical processors, using up to 8 threads\n",
      "\n",
      "Optimize a model with 7 rows, 7 columns and 12 nonzeros\n",
      "Model fingerprint: 0xb7df061b\n",
      "Coefficient statistics:\n",
      "  Matrix range     [1e+00, 1e+00]\n",
      "  Objective range  [1e+00, 2e+02]\n",
      "  Bounds range     [0e+00, 0e+00]\n",
      "  RHS range        [5e+01, 3e+02]\n",
      "Presolve removed 6 rows and 4 columns\n",
      "Presolve time: 0.00s\n",
      "Presolved: 1 rows, 3 columns, 3 nonzeros\n",
      "\n",
      "Iteration    Objective       Primal Inf.    Dual Inf.      Time\n",
      "       0    0.0000000e+00   8.750000e+00   0.000000e+00      0s\n",
      "       1    1.7500000e+03   0.000000e+00   0.000000e+00      0s\n",
      "\n",
      "Solved in 1 iterations and 0.00 seconds (0.00 work units)\n",
      "Optimal objective  1.750000000e+03\n",
      "\n",
      "User-callback calls 41, time in user-callback 0.00 sec\n",
      "Set parameter Username\n",
      "Academic license - for non-commercial use only - expires 2025-03-26\n",
      "Gurobi Optimizer version 11.0.1 build v11.0.1rc0 (win64 - Windows 11.0 (22631.2))\n",
      "\n",
      "CPU model: 11th Gen Intel(R) Core(TM) i7-1185G7 @ 3.00GHz, instruction set [SSE2|AVX|AVX2|AVX512]\n",
      "Thread count: 4 physical cores, 8 logical processors, using up to 8 threads\n",
      "\n",
      "Optimize a model with 7 rows, 7 columns and 12 nonzeros\n",
      "Model fingerprint: 0x4e652399\n",
      "Coefficient statistics:\n",
      "  Matrix range     [1e+00, 1e+00]\n",
      "  Objective range  [1e+00, 2e+02]\n",
      "  Bounds range     [0e+00, 0e+00]\n",
      "  RHS range        [5e+01, 3e+02]\n",
      "Presolve removed 6 rows and 4 columns\n",
      "Presolve time: 0.00s\n",
      "Presolved: 1 rows, 3 columns, 3 nonzeros\n",
      "\n",
      "Iteration    Objective       Primal Inf.    Dual Inf.      Time\n",
      "       0    0.0000000e+00   1.500000e+01   0.000000e+00      0s\n",
      "       1    3.5000000e+03   0.000000e+00   0.000000e+00      0s\n",
      "\n",
      "Solved in 1 iterations and 0.00 seconds (0.00 work units)\n",
      "Optimal objective  3.500000000e+03\n",
      "\n",
      "User-callback calls 41, time in user-callback 0.00 sec\n",
      "Set parameter Username\n",
      "Academic license - for non-commercial use only - expires 2025-03-26\n",
      "Gurobi Optimizer version 11.0.1 build v11.0.1rc0 (win64 - Windows 11.0 (22631.2))\n",
      "\n",
      "CPU model: 11th Gen Intel(R) Core(TM) i7-1185G7 @ 3.00GHz, instruction set [SSE2|AVX|AVX2|AVX512]\n",
      "Thread count: 4 physical cores, 8 logical processors, using up to 8 threads\n",
      "\n",
      "Optimize a model with 7 rows, 7 columns and 12 nonzeros\n",
      "Model fingerprint: 0x8a6308dd\n",
      "Coefficient statistics:\n",
      "  Matrix range     [1e+00, 1e+00]\n",
      "  Objective range  [1e+00, 2e+02]\n",
      "  Bounds range     [0e+00, 0e+00]\n",
      "  RHS range        [5e+01, 3e+02]\n",
      "Presolve removed 6 rows and 4 columns\n",
      "Presolve time: 0.00s\n",
      "Presolved: 1 rows, 3 columns, 3 nonzeros\n",
      "\n",
      "Iteration    Objective       Primal Inf.    Dual Inf.      Time\n",
      "       0    0.0000000e+00   2.500000e+00   0.000000e+00      0s\n",
      "       1    5.0000000e+02   0.000000e+00   0.000000e+00      0s\n",
      "\n",
      "Solved in 1 iterations and 0.01 seconds (0.00 work units)\n",
      "Optimal objective  5.000000000e+02\n",
      "\n",
      "User-callback calls 41, time in user-callback 0.00 sec\n"
     ]
    },
    {
     "data": {
      "text/plain": [
       "Dict{String, Float64} with 5 entries:\n",
       "  \"vol\"       => 0.0\n",
       "  \"stageCost\" => 500.0\n",
       "  \"dual\"      => -50.0\n",
       "  \"theta\"     => 0.0\n",
       "  \"VO\"        => 500.0"
      ]
     },
     "metadata": {},
     "output_type": "display_data"
    }
   ],
   "source": [
    "T3_C1 = subProblema(40, 150, 25)\n",
    "T3_C2 = subProblema(40, 150, 75)\n",
    "T3_C3 = subProblema(65, 150, 25)\n",
    "T3_C4 = subProblema(65, 150, 75)"
   ]
  },
  {
   "cell_type": "code",
   "execution_count": 11,
   "metadata": {},
   "outputs": [
    {
     "name": "stdout",
     "output_type": "stream",
     "text": [
      "Etapa 3 - Caso 1:\n",
      "Dict(\"vol\" => 0.0, \"stageCost\" => 6000.0, \"dual\" => -100.0, \"theta\" => 0.0, \"VO\" => 6000.0)\n",
      "---------------------------------------------------------------------------------\n",
      "Etapa 3 - Caso 2:\n",
      "Dict(\"vol\" => 0.0, \"stageCost\" => 1750.0, \"dual\" => -50.0, \"theta\" => 0.0, \"VO\" => 1750.0)\n",
      "---------------------------------------------------------------------------------\n",
      "Etapa 3 - Caso 3:\n",
      "Dict(\"vol\" => 0.0, \"stageCost\" => 3500.0, \"dual\" => -100.0, \"theta\" => 0.0, \"VO\" => 3500.0)\n",
      "---------------------------------------------------------------------------------\n",
      "Etapa 3 - Caso 4:\n",
      "Dict(\"vol\" => 0.0, \"stageCost\" => 500.0, \"dual\" => -50.0, \"theta\" => 0.0, \"VO\" => 500.0)\n"
     ]
    }
   ],
   "source": [
    "println(\"Etapa 3 - Caso 1:\")\n",
    "println(T3_C1)\n",
    "println(\"---------------------------------------------------------------------------------\")\n",
    "println(\"Etapa 3 - Caso 2:\")\n",
    "println(T3_C2)\n",
    "println(\"---------------------------------------------------------------------------------\")\n",
    "println(\"Etapa 3 - Caso 3:\")\n",
    "println(T3_C3)\n",
    "println(\"---------------------------------------------------------------------------------\")\n",
    "println(\"Etapa 3 - Caso 4:\")\n",
    "println(T3_C4)"
   ]
  },
  {
   "cell_type": "code",
   "execution_count": 5,
   "metadata": {},
   "outputs": [
    {
     "name": "stdout",
     "output_type": "stream",
     "text": [
      "Set parameter Username\n",
      "Academic license - for non-commercial use only - expires 2025-03-26\n",
      "Gurobi Optimizer version 11.0.1 build v11.0.1rc0 (win64 - Windows 11.0 (22631.2))\n",
      "\n",
      "CPU model: 11th Gen Intel(R) Core(TM) i7-1185G7 @ 3.00GHz, instruction set [SSE2|AVX|AVX2|AVX512]\n",
      "Thread count: 4 physical cores, 8 logical processors, using up to 8 threads\n",
      "\n",
      "Optimize a model with 8 rows, 7 columns and 14 nonzeros\n",
      "Model fingerprint: 0x8b30c572\n",
      "Coefficient statistics:\n",
      "  Matrix range     [1e+00, 1e+02]\n",
      "  Objective range  [1e+00, 2e+02]\n",
      "  Bounds range     [0e+00, 0e+00]\n",
      "  RHS range        [5e+01, 8e+03]\n",
      "Presolve removed 7 rows and 4 columns\n",
      "Presolve time: 0.00s\n",
      "Presolved: 1 rows, 3 columns, 3 nonzeros\n",
      "\n",
      "Iteration    Objective       Primal Inf.    Dual Inf.      Time\n",
      "       0    0.0000000e+00   2.539063e+02   0.000000e+00      0s\n",
      "       1    4.0000000e+03   0.000000e+00   0.000000e+00      0s\n",
      "\n",
      "Solved in 1 iterations and 0.00 seconds (0.00 work units)\n",
      "Optimal objective  4.000000000e+03\n",
      "\n",
      "User-callback calls 68, time in user-callback 0.00 sec\n"
     ]
    },
    {
     "data": {
      "text/plain": [
       "Dict{String, Float64} with 5 entries:\n",
       "  \"vol\"       => 65.0\n",
       "  \"stageCost\" => 4000.0\n",
       "  \"dual\"      => -100.0\n",
       "  \"theta\"     => 0.0\n",
       "  \"VO\"        => 4000.0"
      ]
     },
     "metadata": {},
     "output_type": "display_data"
    }
   ],
   "source": [
    "x = 100\n",
    "demanda= 150\n",
    "afluente = 50\n",
    "v_prev = x\n",
    "a = afluente\n",
    "d = demanda\n",
    "cv = [50, 100, 150]\n",
    "I = 3                   # Generadores termicos\n",
    "# Voy a resolver el sub problema: despacho en un periodo\n",
    "# El problema está definido por x -> potencias despachadas -> volumen almacenado\n",
    "\n",
    "# x: volumen inicial del nuevo periodo\n",
    "\n",
    "sub = Model(Gurobi.Optimizer)\n",
    "\n",
    "## Variables: sin componente temporal\n",
    "@variable(sub, pT[1:I] >= 0)    # Potencia activa de generador térmico i en tiempo t. Valor en p.u.\n",
    "@variable(sub, pH >= 0)         # Potencia activa del generador hídrico (agua gastada)  \n",
    "@variable(sub, s >= 0)          # Vertimiento de agua\n",
    "@variable(sub, v >= 0)          # Almacenamiento de agua\n",
    "\n",
    "@variable(sub, theta >= 0)      # theta\n",
    "\n",
    "#@variable(sub, v_prev >= 0)    # Almacenamiento fijo de etapa anterior\n",
    "\n",
    "## Restricciones\n",
    "\n",
    "# Independientes    \n",
    "@constraint(sub, Balance, sum(pT[i] for i in 1:I) + pH == d)     # demanda = generado\n",
    "@constraint(sub, PmaxT[i in 1:I], pT[i] <= 50)                   # Pmax termico\n",
    "@constraint(sub, PmaxH, pH <= 150)                               # Pmax hidrico\n",
    "@constraint(sub, MaxStorage, v <= 300)                           # Almacenamiento V maximo\n",
    "\n",
    "# Dependientes de etapa anterior: Ax + By >= b\n",
    "@constraint(sub, AcopleTemp, v + s + pH == a + v_prev)           # Acople temporal de Almacenamiento\n",
    "\n",
    "#@constraint(sub, FixStorage, v_prev == v_prev_fijo)\n",
    "\n",
    "# solo v_prev va a la derecha (fijado de restriccion anterior)\n",
    "# Ax >= b - By*\n",
    "\n",
    "# Ax == b - By*      y: decisiones etapa anterior\n",
    "# v + s + pH == a + v_prev\n",
    "# [1 1 1]x == a + [1]y*\n",
    "\n",
    "# Corte: theta >= lambda(a+x*):    $/MWh\n",
    "\n",
    "# https://jump.dev/JuMP.jl/stable/tutorials/algorithms/benders_decomposition/\n",
    "## CORTES BENDERS:    # theta >= theta(v*) + - pi([1])(v-v*)\n",
    "\n",
    "# corte etapa 2: theta >= 8125 - 125(v-0)\n",
    "# corte etapa 1: theta >= 8125 - 125(v-0)\n",
    "@constraint(sub, b1, theta >= 8125-125*(v-0))  \n",
    "#@constraint(sub, b2, theta >= 2500-50*(v-75)) # por cada incremento de v respecto al punto anterior (v=75) puedo reducir el costo de la siguiente etapa en 50: reduzcamoslo\n",
    "#@constraint(sub, b3, theta >= 5000-100*(v-50))\n",
    "\n",
    "@objective(sub, Min, theta + sum(cv[i]*pT[i] for i in 1:I))\n",
    "\n",
    "JuMP.optimize!(sub)\n",
    "\n",
    "# TENGO QUE SACAR EL CMg de una unidad mas de lamacenamiento\n",
    "lambda_v = dual(AcopleTemp)    # Este agrega el corte de Bender\n",
    "v_final = value(v)\n",
    "costo_total = objective_value(sub)\n",
    "costo_futuro = value(theta)\n",
    "costo_etapa = costo_total-costo_futuro\n",
    "return Dict(\"vol\" => v_final, \"dual\" => lambda_v, \"stageCost\" => costo_etapa, \"theta\" => costo_futuro, \"VO\"=>costo_total)"
   ]
  },
  {
   "cell_type": "code",
   "execution_count": 8,
   "metadata": {},
   "outputs": [
    {
     "data": {
      "text/plain": [
       "3-element Vector{Float64}:\n",
       " 50.0\n",
       " 15.0\n",
       "  0.0"
      ]
     },
     "metadata": {},
     "output_type": "display_data"
    }
   ],
   "source": [
    "JuMP.value.(pT)"
   ]
  },
  {
   "cell_type": "code",
   "execution_count": null,
   "metadata": {},
   "outputs": [],
   "source": []
  }
 ],
 "metadata": {
  "kernelspec": {
   "display_name": "Julia 1.9.3",
   "language": "julia",
   "name": "julia-1.9"
  },
  "language_info": {
   "file_extension": ".jl",
   "mimetype": "application/julia",
   "name": "julia",
   "version": "1.9.3"
  }
 },
 "nbformat": 4,
 "nbformat_minor": 2
}
